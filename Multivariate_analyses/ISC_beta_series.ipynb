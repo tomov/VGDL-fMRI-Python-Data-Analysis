{
 "cells": [
  {
   "cell_type": "markdown",
   "metadata": {},
   "source": [
    "# Setup and workflow\n",
    "\n",
    "## Main goals\n",
    "\n",
    "The BOLD signal contains noise. Here, we calculate correlations between subjects to reduce noise and estimate task-relevant signals. Want to find brain regions where the same levels of activity are displayed. Key predictions are that, in the theory encoding region, the ISC should:\n",
    "\n",
    "1. Be highest for same levels, medium for same games, and lowest for random (shuffled) games\n",
    "2. Increase over levels of the same game\n",
    "\n",
    "---\n",
    "\n",
    "## Workflow\n",
    "\n",
    "0. Load data in notebook (we are dealing with `.mat` files) (**Remark.** note that we have 3 different types of data. `glm1, glm24, glm25`)\n",
    "1. Do fMRI data exploration (how does the structure look like, etc.)\n",
    "    - preprocessing\n",
    "2. Reorder the rows in `B`, the average activity captured by the boxcar regressor for each block (the $\\beta_i$ s).\n",
    "\n",
    "The bold signal is\n",
    "\n",
    "$$\n",
    "Y (\\text{signal}) = \\beta_1 x_1 + \\beta_2 x_2 \\dots + \\beta_k x_k \\\\\n",
    "  = \\sum_i^k \\beta_i x_i \n",
    "$$\n",
    "\n",
    "\n",
    "\n",
    "3. Do ISC analysis; see (Chen et al., 2017) and [Brainiak ISC tutorial](https://brainiak.org/tutorials/10-isc/) for different levels. The repetition time (TR) is defined by the level. So for example, TR of `glm1` is one block, so 3x60s = 180s.\n",
    "\n",
    "    - The blocks (`glm 1`)\n",
    "    - The levels (`glm 25`)\n",
    "    - The 10 seconds boxcars (`glm 24`)\n",
    "    \n",
    "Make sure that the data is in the format brainiak wants\n",
    "    \n",
    "    \n",
    "## Useful links\n",
    "\n",
    "- [Brainiak ISC documentation](https://brainiak.org/docs/brainiak.html#module-brainiak.isc)\n",
    "- [Brainiak specific examples](https://github.com/brainiak/brainiak/tree/master/examples)"
   ]
  },
  {
   "cell_type": "code",
   "execution_count": 1,
   "metadata": {},
   "outputs": [],
   "source": [
    "#dir(brainiak)"
   ]
  },
  {
   "cell_type": "code",
   "execution_count": 2,
   "metadata": {},
   "outputs": [
    {
     "data": {
      "text/plain": [
       "'0.10'"
      ]
     },
     "execution_count": 2,
     "metadata": {},
     "output_type": "execute_result"
    }
   ],
   "source": [
    "import pkg_resources\n",
    "pkg_resources.get_distribution(\"brainiak\").version # iscBrainIAK v0.8. It should be installing v0.10."
   ]
  },
  {
   "cell_type": "code",
   "execution_count": 3,
   "metadata": {},
   "outputs": [],
   "source": [
    "from brainiak.isc import isc, isfc, permutation_isc"
   ]
  },
  {
   "cell_type": "code",
   "execution_count": 4,
   "metadata": {},
   "outputs": [
    {
     "data": {
      "application/javascript": [
       "IPython.notebook.set_autosave_interval(30000)"
      ]
     },
     "metadata": {},
     "output_type": "display_data"
    },
    {
     "name": "stdout",
     "output_type": "stream",
     "text": [
      "Autosaving every 30 seconds\n"
     ]
    }
   ],
   "source": [
    "import h5py\n",
    "import warnings\n",
    "import sys \n",
    "if not sys.warnoptions:\n",
    "    warnings.simplefilter(\"ignore\")\n",
    "import os \n",
    "import glob\n",
    "import time\n",
    "from copy import deepcopy\n",
    "import numpy as np\n",
    "import pandas as pd \n",
    "\n",
    "from nilearn import datasets\n",
    "from nilearn import surface\n",
    "from nilearn import plotting\n",
    "from nilearn.input_data import NiftiMasker, NiftiLabelsMasker\n",
    "import nibabel as nib\n",
    "\n",
    "from brainiak import image, io\n",
    "from brainiak.isc import isc, isfc, permutation_isc\n",
    "import matplotlib.pyplot as plt\n",
    "from mpl_toolkits import mplot3d \n",
    "import seaborn as sns \n",
    "import hdf5storage\n",
    "import mat73\n",
    "import pandas as pd\n",
    "\n",
    "%autosave 30\n",
    "%matplotlib inline\n",
    "sns.set(style = 'white', context='talk', font_scale=1, rc={\"lines.linewidth\": 2})"
   ]
  },
  {
   "cell_type": "markdown",
   "metadata": {},
   "source": [
    "# GLM1 (blocks)"
   ]
  },
  {
   "cell_type": "markdown",
   "metadata": {},
   "source": [
    "# 0. Loading in the data"
   ]
  },
  {
   "cell_type": "code",
   "execution_count": 5,
   "metadata": {},
   "outputs": [
    {
     "data": {
      "text/plain": [
       "True"
      ]
     },
     "execution_count": 5,
     "metadata": {},
     "output_type": "execute_result"
    }
   ],
   "source": [
    "data_dir = '/Users/Daphne/Desktop/beta_series/' # local directory\n",
    "os.path.exists(data_dir) "
   ]
  },
  {
   "cell_type": "markdown",
   "metadata": {},
   "source": [
    "from [here](https://stackoverflow.com/questions/874461/read-mat-files-in-python) and [scipy docu](https://docs.scipy.org/doc/scipy-0.14.0/reference/generated/scipy.io.loadmat.html)\n",
    "```\n",
    "Neither scipy.io.savemat, nor scipy.io.loadmat work for MATLAB arrays version 7.3. But the good part is that MATLAB version 7.3 files are hdf5 datasets. So they can be read using a number of tools, including NumPy.\n",
    "```\n",
    "\n",
    "We want to access the following variables in the dataset (8 subjects):\n",
    "- `B = [blocks, voxels]`:  the average activity in each block (BOLD signal). The whole brain data; $B =$ all fMRI data * mask. \n",
    "    - rows: blocks (recall that each block has 3 levels)\n",
    "    - cols: voxels\n",
    "- `names = [18,1]` : the names of the games. *note*: this is a matlab cell array, needs special treatment [link](https://databasefaq.com/index.php/answer/256550/python-matlab-h5py-reading-a-matlabs-cell-array-saved-as-a-v73-mat-file-with-h5py)\n",
    "- `Vmask = [1,1] array with 8 fields` : can be used to convert mask to standardised brain coordinates\n",
    "- `mask = [79, 95, 79]` : binary mask that was used to get `B` from all the fMRI data."
   ]
  },
  {
   "cell_type": "code",
   "execution_count": 6,
   "metadata": {},
   "outputs": [],
   "source": [
    "# specify filename\n",
    "filename = 'beta_series_glm1_subj1_nosmooth.mat'"
   ]
  },
  {
   "cell_type": "code",
   "execution_count": 7,
   "metadata": {
    "scrolled": true
   },
   "outputs": [
    {
     "data": {
      "text/plain": [
       "['#refs#', 'B', 'Vmask', 'mask', 'names']"
      ]
     },
     "execution_count": 7,
     "metadata": {},
     "output_type": "execute_result"
    }
   ],
   "source": [
    "# each subject is a separate file so\n",
    "subject = h5py.File(data_dir+filename,'r')\n",
    "\n",
    "list(subject.keys()) # these are the variables in the data"
   ]
  },
  {
   "cell_type": "code",
   "execution_count": 8,
   "metadata": {
    "scrolled": true
   },
   "outputs": [
    {
     "data": {
      "text/plain": [
       "['descrip', 'dim', 'dt', 'fname', 'mat', 'n', 'pinfo', 'private']"
      ]
     },
     "execution_count": 8,
     "metadata": {},
     "output_type": "execute_result"
    }
   ],
   "source": [
    "# now we read in all the variables of interest for a given subject\n",
    "B = subject['B'].value\n",
    "mask = subject['mask'].value\n",
    "names = subject['names']\n",
    "Vmask = subject['Vmask']\n",
    "\n",
    "# # alternatively, using dictionary syntax..\n",
    "# B = subject['B']\n",
    "\n",
    "# Vmask is nested\n",
    "list(Vmask.keys())"
   ]
  },
  {
   "cell_type": "code",
   "execution_count": 9,
   "metadata": {
    "scrolled": true
   },
   "outputs": [
    {
     "data": {
      "text/plain": [
       "'O'"
      ]
     },
     "execution_count": 9,
     "metadata": {},
     "output_type": "execute_result"
    }
   ],
   "source": [
    "names.dtype.kind # check what kind of data 'names' is"
   ]
  },
  {
   "cell_type": "code",
   "execution_count": 10,
   "metadata": {
    "scrolled": true
   },
   "outputs": [
    {
     "data": {
      "text/plain": [
       "<HDF5 dataset \"names\": shape (1, 18), type \"|O\">"
      ]
     },
     "execution_count": 10,
     "metadata": {},
     "output_type": "execute_result"
    }
   ],
   "source": [
    "names"
   ]
  },
  {
   "cell_type": "code",
   "execution_count": 11,
   "metadata": {
    "scrolled": true
   },
   "outputs": [
    {
     "data": {
      "text/plain": [
       "array([<HDF5 object reference>, <HDF5 object reference>,\n",
       "       <HDF5 object reference>, <HDF5 object reference>,\n",
       "       <HDF5 object reference>, <HDF5 object reference>,\n",
       "       <HDF5 object reference>, <HDF5 object reference>,\n",
       "       <HDF5 object reference>, <HDF5 object reference>,\n",
       "       <HDF5 object reference>, <HDF5 object reference>,\n",
       "       <HDF5 object reference>, <HDF5 object reference>,\n",
       "       <HDF5 object reference>, <HDF5 object reference>,\n",
       "       <HDF5 object reference>, <HDF5 object reference>], dtype=object)"
      ]
     },
     "execution_count": 11,
     "metadata": {},
     "output_type": "execute_result"
    }
   ],
   "source": [
    "names[0] # we need to dereference each reference in the dataset"
   ]
  },
  {
   "cell_type": "markdown",
   "metadata": {},
   "source": [
    "### Reading in matlab cell arrays into Python is a pain\n",
    "\n",
    "Made a function to translate matlab cell arrays into list of strings :-) [here](https://stackoverflow.com/questions/46733052/read-hdf5-file-into-numpy-array) and [here](http://docs.h5py.org/en/latest/refs.html)\n"
   ]
  },
  {
   "cell_type": "code",
   "execution_count": 12,
   "metadata": {},
   "outputs": [],
   "source": [
    "def decode_variable(file, item):\n",
    "\n",
    "    '''\n",
    "    Converts matlab cell array in the form \"<HDF5 object reference>\" to list of strings.\n",
    "\n",
    "    IN\n",
    "\n",
    "    file: the path + filename \n",
    "    item: the variable in the dataset that needs to be decoded\n",
    "\n",
    "    RETURNS\n",
    "\n",
    "    readable_data: np array of strings\n",
    "    '''\n",
    "\n",
    "    # Open file                                                                                    \n",
    "    myfile = h5py.File(file,'r')\n",
    "    variable = myfile[item] # get the names variable\n",
    "\n",
    "    readable_data = [] # store the ne\n",
    "\n",
    "\n",
    "    for var in variable: # encode and decode the objects, 18 per subject\n",
    "        for v in var: # Read the references  \n",
    "\n",
    "            #print(v)\n",
    "            ds = myfile[v]\n",
    "            #print(ds)\n",
    "            data = ds[:]\n",
    "\n",
    "            # store the decoded data\n",
    "            word = []\n",
    "            \n",
    "            for i in data:\n",
    "                letter = str(chr(i))  # the chr() function returns the character that represents the specified unicode.\n",
    "                word.append(letter)\n",
    "            word = ''.join(word) # join list of strings\n",
    "            \n",
    "            readable_data.append(word)\n",
    "            \n",
    "    return np.array(readable_data)"
   ]
  },
  {
   "cell_type": "code",
   "execution_count": 13,
   "metadata": {},
   "outputs": [
    {
     "data": {
      "text/plain": [
       "array(['Sn(1) vgfmri3_chase*bf(1)', 'Sn(1) vgfmri3_lemmings*bf(1)',\n",
       "       'Sn(1) vgfmri3_bait*bf(1)', 'Sn(2) vgfmri3_plaqueAttack*bf(1)',\n",
       "       'Sn(2) vgfmri3_helper*bf(1)', 'Sn(2) vgfmri3_zelda*bf(1)',\n",
       "       'Sn(3) vgfmri3_lemmings*bf(1)', 'Sn(3) vgfmri3_plaqueAttack*bf(1)',\n",
       "       'Sn(3) vgfmri3_zelda*bf(1)', 'Sn(4) vgfmri3_chase*bf(1)',\n",
       "       'Sn(4) vgfmri3_bait*bf(1)', 'Sn(4) vgfmri3_helper*bf(1)',\n",
       "       'Sn(5) vgfmri3_zelda*bf(1)', 'Sn(5) vgfmri3_chase*bf(1)',\n",
       "       'Sn(5) vgfmri3_lemmings*bf(1)', 'Sn(6) vgfmri3_helper*bf(1)',\n",
       "       'Sn(6) vgfmri3_plaqueAttack*bf(1)', 'Sn(6) vgfmri3_bait*bf(1)'],\n",
       "      dtype='<U32')"
      ]
     },
     "execution_count": 13,
     "metadata": {},
     "output_type": "execute_result"
    }
   ],
   "source": [
    "decode_variable(data_dir+filename, 'names')"
   ]
  },
  {
   "cell_type": "code",
   "execution_count": 14,
   "metadata": {},
   "outputs": [],
   "source": [
    "# # Open file                                                                                    \n",
    "# myfile = h5py.File(data_dir+filename,'r')\n",
    "# names = myfile['names'] # get the names variable\n",
    "\n",
    "# readable_data = [] # store the ne\n",
    "\n",
    "\n",
    "# for name in names: # encode and decode the objects, 18 per subject\n",
    "#     for n in name: # Read the references  \n",
    "        \n",
    "#         #print(n)\n",
    "#         ds = myfile[n]\n",
    "#         #print(ds)\n",
    "#         data = ds[:]\n",
    "        \n",
    "#         # store the block name\n",
    "#         game_name = []\n",
    "        \n",
    "#         for i in data:\n",
    "#             letter = str(chr(i))  # the chr() function returns the character that represents the specified unicode.\n",
    "#             game_name.append(letter)\n",
    "#         game_name = ''.join(game_name) # join list of strings\n",
    "#         #print(game_name)\n",
    "        \n",
    "#         readable_data.append(game_name)\n",
    "            \n",
    "# readable_data"
   ]
  },
  {
   "cell_type": "markdown",
   "metadata": {},
   "source": [
    "Get all the data for the glm1 files (subjects 1-8)"
   ]
  },
  {
   "cell_type": "code",
   "execution_count": 15,
   "metadata": {
    "scrolled": true
   },
   "outputs": [
    {
     "name": "stdout",
     "output_type": "stream",
     "text": [
      "Get data for subject 1\n",
      "Get data for subject 2\n",
      "Get data for subject 3\n",
      "Get data for subject 4\n",
      "Get data for subject 5\n",
      "Get data for subject 6\n",
      "Get data for subject 7\n",
      "Get data for subject 8\n"
     ]
    }
   ],
   "source": [
    "num_subjects = 8\n",
    "\n",
    "B_data = []\n",
    "mask_data = []\n",
    "Vmask_data = []\n",
    "names_data = []\n",
    "\n",
    "for i in range(num_subjects):\n",
    "    idx = i+1\n",
    "    \n",
    "    # change filename to subject #\n",
    "    data_dir = '/Users/Daphne/Desktop/beta_series/'\n",
    "    filename = 'beta_series_glm1_subjk_nosmooth.mat'\n",
    "    filename = filename.replace('k', str(idx))\n",
    "    \n",
    "    subject = h5py.File(data_dir+filename,'r') \n",
    "    print(f'Get data for subject {idx}')\n",
    "    # load and save data for respective subject\n",
    "    B = subject['B'].value\n",
    "    mask = subject['mask'].value\n",
    "    Vmask = subject['Vmask']\n",
    "    \n",
    "    # === decode block names ===\n",
    "    names = decode_variable(data_dir+filename, 'names')\n",
    "    \n",
    "    # append to lists\n",
    "    B_data.append(B)\n",
    "    mask_data.append(mask)\n",
    "    Vmask_data.append(Vmask)\n",
    "    names_data.append(names)"
   ]
  },
  {
   "cell_type": "markdown",
   "metadata": {},
   "source": [
    "## 1. Explore & Check data\n",
    "\n",
    "Check data shapes \n",
    "\n",
    "**Assumption.** <font color=red> the difference e.g. `Sn(3) vgfmri3_zelda*bf(1)` and `'Sn(2) vgfmri3_zelda*bf(1)' is the level  </font>"
   ]
  },
  {
   "cell_type": "code",
   "execution_count": 16,
   "metadata": {},
   "outputs": [
    {
     "data": {
      "text/plain": [
       "(179595, 18)"
      ]
     },
     "execution_count": 16,
     "metadata": {},
     "output_type": "execute_result"
    }
   ],
   "source": [
    "B_data[0].shape"
   ]
  },
  {
   "cell_type": "code",
   "execution_count": 17,
   "metadata": {},
   "outputs": [
    {
     "data": {
      "text/plain": [
       "(79, 95, 79)"
      ]
     },
     "execution_count": 17,
     "metadata": {},
     "output_type": "execute_result"
    }
   ],
   "source": [
    "mask_data[0].shape"
   ]
  },
  {
   "cell_type": "code",
   "execution_count": 18,
   "metadata": {},
   "outputs": [
    {
     "data": {
      "text/plain": [
       "<HDF5 group \"/Vmask\" (8 members)>"
      ]
     },
     "execution_count": 18,
     "metadata": {},
     "output_type": "execute_result"
    }
   ],
   "source": [
    "Vmask_data[0]"
   ]
  },
  {
   "cell_type": "code",
   "execution_count": 19,
   "metadata": {
    "scrolled": true
   },
   "outputs": [
    {
     "data": {
      "text/plain": [
       "(18,)"
      ]
     },
     "execution_count": 19,
     "metadata": {},
     "output_type": "execute_result"
    }
   ],
   "source": [
    "names_data[0].shape"
   ]
  },
  {
   "cell_type": "code",
   "execution_count": 20,
   "metadata": {},
   "outputs": [
    {
     "name": "stdout",
     "output_type": "stream",
     "text": [
      "Sn(1) vgfmri3_helper*bf(1)\n",
      "Sn(1) vgfmri3_lemmings*bf(1)\n"
     ]
    }
   ],
   "source": [
    "print(names_data[5][0])\n",
    "\n",
    "print(names_data[1][0])\n",
    "\n",
    "# looks good, order is different"
   ]
  },
  {
   "cell_type": "code",
   "execution_count": 21,
   "metadata": {},
   "outputs": [
    {
     "data": {
      "text/plain": [
       "18"
      ]
     },
     "execution_count": 21,
     "metadata": {},
     "output_type": "execute_result"
    }
   ],
   "source": [
    "len(names_data[0])"
   ]
  },
  {
   "cell_type": "code",
   "execution_count": 22,
   "metadata": {
    "scrolled": true
   },
   "outputs": [
    {
     "data": {
      "text/plain": [
       "array(['Sn(1) vgfmri3_bait*bf(1)', 'Sn(1) vgfmri3_chase*bf(1)',\n",
       "       'Sn(1) vgfmri3_lemmings*bf(1)', 'Sn(2) vgfmri3_helper*bf(1)',\n",
       "       'Sn(2) vgfmri3_plaqueAttack*bf(1)', 'Sn(2) vgfmri3_zelda*bf(1)',\n",
       "       'Sn(3) vgfmri3_lemmings*bf(1)', 'Sn(3) vgfmri3_plaqueAttack*bf(1)',\n",
       "       'Sn(3) vgfmri3_zelda*bf(1)', 'Sn(4) vgfmri3_bait*bf(1)',\n",
       "       'Sn(4) vgfmri3_chase*bf(1)', 'Sn(4) vgfmri3_helper*bf(1)',\n",
       "       'Sn(5) vgfmri3_chase*bf(1)', 'Sn(5) vgfmri3_lemmings*bf(1)',\n",
       "       'Sn(5) vgfmri3_zelda*bf(1)', 'Sn(6) vgfmri3_bait*bf(1)',\n",
       "       'Sn(6) vgfmri3_helper*bf(1)', 'Sn(6) vgfmri3_plaqueAttack*bf(1)'],\n",
       "      dtype='<U32')"
      ]
     },
     "execution_count": 22,
     "metadata": {},
     "output_type": "execute_result"
    }
   ],
   "source": [
    "np.unique(names_data[0]) "
   ]
  },
  {
   "cell_type": "markdown",
   "metadata": {},
   "source": [
    "We stick to the recommended sequence of steps for running ISC using Brainiak\n",
    "1. **Data preparation**. `B` is already the masked or whole brain data, so we should be able to do the ISC on this BOLD data.\n",
    "\n",
    "How to get `B` into the right shape?\n",
    "\n",
    "\n",
    "> Optional: could apply more masks to filter for specific ROI's (<font color=red>mPFC, mOFC, Hippocampus, dmPFC, PMC, diPFC, dorsal caudate, ... more? </font>)\n",
    " \n",
    "2. **Compute ISC**. The ISC function computes correlations across subjects for corresponding voxels in the mask. It uses the compute_correlation function in BrainIAK, which is optimized for fast execution (and was used in FCMA).\n",
    "\n",
    "\n",
    "\n",
    "\n",
    "3. **Permutation test for ISC**. Perform statistical analysis to determine significant correlation values for ISC\n"
   ]
  },
  {
   "cell_type": "markdown",
   "metadata": {},
   "source": [
    "We can get the coordinates of the voxels by getting the indices where mask == 1\n",
    "\n",
    "<font color=red> TODO: momchil comment: check if this is the same as matlab results. </font>"
   ]
  },
  {
   "cell_type": "code",
   "execution_count": 23,
   "metadata": {},
   "outputs": [
    {
     "data": {
      "image/png": "[encoded data removed]",
      "text/plain": [
       "<Figure size 432x288 with 1 Axes>"
      ]
     },
     "metadata": {},
     "output_type": "display_data"
    }
   ],
   "source": [
    "coords = np.where(mask_data[0] == 1) # sidenote: np.where is equivalent to matlabs find()\n",
    "\n",
    "fig = plt.figure()\n",
    "ax = plt.axes(projection=\"3d\")\n",
    "ax.scatter3D(coords[0][::50], coords[1][::50], coords[2][::50]);# plot only every 50 indices (faster)"
   ]
  },
  {
   "cell_type": "markdown",
   "metadata": {},
   "source": [
    "## 2. Reorder\n",
    "\n",
    "<font color=red>Ordered the BOLD data `B` so that all the blocks `names` are in the same order. Only after this is done, the ISC can be done (see notes).</font>\n",
    "\n",
    "- Each subject played the games in a randomised, so different order\n",
    "- In order to do a valid ISC we have to reorganise `B = [blocks, voxels]` so that all have the same order of blocks. \n",
    "- How to Reorganise `B`? Use the variable `names`\n",
    "    - load in as pandas dataframe\n",
    "    - append `names` as left column to `B`\n",
    "    - perform row operations based on `names` so that all games are in the same order [pandas sort algorithm](https://pandas.pydata.org/pandas-docs/stable/reference/api/pandas.DataFrame.sort_values.html)\n",
    "    - get back to array form\n",
    "- Eventually we want to end up with a 3 dim matrix of `[blocks, voxels, subjects]`"
   ]
  },
  {
   "cell_type": "code",
   "execution_count": 24,
   "metadata": {},
   "outputs": [
    {
     "data": {
      "text/plain": [
       "(18, 179595)"
      ]
     },
     "execution_count": 24,
     "metadata": {},
     "output_type": "execute_result"
    }
   ],
   "source": [
    "# == choose a subject for which to inspect the data ==\n",
    "sub = 0\n",
    "\n",
    "# get the betas and game order from this\n",
    "B_s = B_data[sub].T # transpose to get [blocks, voxels]\n",
    "names_s = names_data[sub]\n",
    "\n",
    "B_s.shape"
   ]
  },
  {
   "cell_type": "code",
   "execution_count": 25,
   "metadata": {
    "scrolled": true
   },
   "outputs": [
    {
     "data": {
      "image/png": "[encoded data removed]",
      "text/plain": [
       "<Figure size 1440x360 with 1 Axes>"
      ]
     },
     "metadata": {},
     "output_type": "display_data"
    }
   ],
   "source": [
    "block = 1\n",
    "f, ax = plt.subplots(1,1, figsize=(20,5))\n",
    "ax.plot(B_s[block, :]); # one block, all voxels\n",
    "ax.set_title(f'BOLD signal across voxels in block {block} for subject {sub+1}')\n",
    "ax.set_xlabel('Voxel number')\n",
    "ax.set_ylabel('Voxel Intensity');"
   ]
  },
  {
   "cell_type": "code",
   "execution_count": 26,
   "metadata": {
    "scrolled": true
   },
   "outputs": [
    {
     "data": {
      "text/plain": [
       "array(['Sn(1) vgfmri3_chase*bf(1)', 'Sn(1) vgfmri3_lemmings*bf(1)',\n",
       "       'Sn(1) vgfmri3_bait*bf(1)', 'Sn(2) vgfmri3_plaqueAttack*bf(1)',\n",
       "       'Sn(2) vgfmri3_helper*bf(1)', 'Sn(2) vgfmri3_zelda*bf(1)',\n",
       "       'Sn(3) vgfmri3_lemmings*bf(1)', 'Sn(3) vgfmri3_plaqueAttack*bf(1)',\n",
       "       'Sn(3) vgfmri3_zelda*bf(1)', 'Sn(4) vgfmri3_chase*bf(1)',\n",
       "       'Sn(4) vgfmri3_bait*bf(1)', 'Sn(4) vgfmri3_helper*bf(1)',\n",
       "       'Sn(5) vgfmri3_zelda*bf(1)', 'Sn(5) vgfmri3_chase*bf(1)',\n",
       "       'Sn(5) vgfmri3_lemmings*bf(1)', 'Sn(6) vgfmri3_helper*bf(1)',\n",
       "       'Sn(6) vgfmri3_plaqueAttack*bf(1)', 'Sn(6) vgfmri3_bait*bf(1)'],\n",
       "      dtype='<U32')"
      ]
     },
     "execution_count": 26,
     "metadata": {},
     "output_type": "execute_result"
    }
   ],
   "source": [
    "names_s # note that Sn(1)"
   ]
  },
  {
   "cell_type": "code",
   "execution_count": 27,
   "metadata": {},
   "outputs": [],
   "source": [
    "def cleanup_names(s):\n",
    "\n",
    "    for r in (('vgfmri3_', ''), ('*bf(1)', ''), ('Sn(', '')):\n",
    "        s = s.replace(*r)\n",
    "        \n",
    "    return s"
   ]
  },
  {
   "cell_type": "code",
   "execution_count": 28,
   "metadata": {
    "scrolled": true
   },
   "outputs": [],
   "source": [
    "block_names = []\n",
    "\n",
    "for name in names_s:\n",
    "    stripped_name = cleanup_names(name)\n",
    "    block_names.append(stripped_name)"
   ]
  },
  {
   "cell_type": "code",
   "execution_count": 29,
   "metadata": {
    "scrolled": true
   },
   "outputs": [
    {
     "data": {
      "text/plain": [
       "['1) chase',\n",
       " '1) lemmings',\n",
       " '1) bait',\n",
       " '2) plaqueAttack',\n",
       " '2) helper',\n",
       " '2) zelda',\n",
       " '3) lemmings',\n",
       " '3) plaqueAttack',\n",
       " '3) zelda',\n",
       " '4) chase',\n",
       " '4) bait',\n",
       " '4) helper',\n",
       " '5) zelda',\n",
       " '5) chase',\n",
       " '5) lemmings',\n",
       " '6) helper',\n",
       " '6) plaqueAttack',\n",
       " '6) bait']"
      ]
     },
     "execution_count": 29,
     "metadata": {},
     "output_type": "execute_result"
    }
   ],
   "source": [
    "# want to order this\n",
    "block_names"
   ]
  },
  {
   "cell_type": "code",
   "execution_count": 30,
   "metadata": {
    "scrolled": false
   },
   "outputs": [
    {
     "data": {
      "text/html": [
       "<div>\n",
       "<style scoped>\n",
       "    .dataframe tbody tr th:only-of-type {\n",
       "        vertical-align: middle;\n",
       "    }\n",
       "\n",
       "    .dataframe tbody tr th {\n",
       "        vertical-align: top;\n",
       "    }\n",
       "\n",
       "    .dataframe thead th {\n",
       "        text-align: right;\n",
       "    }\n",
       "</style>\n",
       "<table border=\"1\" class=\"dataframe\">\n",
       "  <thead>\n",
       "    <tr style=\"text-align: right;\">\n",
       "      <th></th>\n",
       "      <th>blocks</th>\n",
       "      <th>0</th>\n",
       "      <th>1</th>\n",
       "      <th>2</th>\n",
       "      <th>3</th>\n",
       "      <th>4</th>\n",
       "      <th>5</th>\n",
       "      <th>6</th>\n",
       "      <th>7</th>\n",
       "      <th>8</th>\n",
       "      <th>...</th>\n",
       "      <th>179585</th>\n",
       "      <th>179586</th>\n",
       "      <th>179587</th>\n",
       "      <th>179588</th>\n",
       "      <th>179589</th>\n",
       "      <th>179590</th>\n",
       "      <th>179591</th>\n",
       "      <th>179592</th>\n",
       "      <th>179593</th>\n",
       "      <th>179594</th>\n",
       "    </tr>\n",
       "  </thead>\n",
       "  <tbody>\n",
       "    <tr>\n",
       "      <th>0</th>\n",
       "      <td>1) chase</td>\n",
       "      <td>13.678534</td>\n",
       "      <td>19.717096</td>\n",
       "      <td>1.222979</td>\n",
       "      <td>-4.251091</td>\n",
       "      <td>6.807140</td>\n",
       "      <td>1.490849</td>\n",
       "      <td>-9.897692</td>\n",
       "      <td>10.267058</td>\n",
       "      <td>6.932566</td>\n",
       "      <td>...</td>\n",
       "      <td>17.966171</td>\n",
       "      <td>5.093922</td>\n",
       "      <td>10.200910</td>\n",
       "      <td>24.991861</td>\n",
       "      <td>-8.413091</td>\n",
       "      <td>-8.126126</td>\n",
       "      <td>6.747587</td>\n",
       "      <td>-9.610495</td>\n",
       "      <td>-14.543383</td>\n",
       "      <td>-20.066061</td>\n",
       "    </tr>\n",
       "    <tr>\n",
       "      <th>1</th>\n",
       "      <td>1) lemmings</td>\n",
       "      <td>9.340469</td>\n",
       "      <td>14.893038</td>\n",
       "      <td>3.482431</td>\n",
       "      <td>8.328746</td>\n",
       "      <td>2.067947</td>\n",
       "      <td>7.053865</td>\n",
       "      <td>-3.198863</td>\n",
       "      <td>-4.350846</td>\n",
       "      <td>3.748187</td>\n",
       "      <td>...</td>\n",
       "      <td>21.419283</td>\n",
       "      <td>8.234531</td>\n",
       "      <td>13.862604</td>\n",
       "      <td>14.725319</td>\n",
       "      <td>-5.711393</td>\n",
       "      <td>-8.503519</td>\n",
       "      <td>-0.674800</td>\n",
       "      <td>-38.048695</td>\n",
       "      <td>-4.195394</td>\n",
       "      <td>-7.664783</td>\n",
       "    </tr>\n",
       "    <tr>\n",
       "      <th>2</th>\n",
       "      <td>1) bait</td>\n",
       "      <td>8.191047</td>\n",
       "      <td>18.610971</td>\n",
       "      <td>3.931173</td>\n",
       "      <td>8.562959</td>\n",
       "      <td>11.142619</td>\n",
       "      <td>2.641228</td>\n",
       "      <td>-5.400310</td>\n",
       "      <td>3.904763</td>\n",
       "      <td>2.850767</td>\n",
       "      <td>...</td>\n",
       "      <td>25.629944</td>\n",
       "      <td>12.172116</td>\n",
       "      <td>12.206659</td>\n",
       "      <td>8.205688</td>\n",
       "      <td>-0.708720</td>\n",
       "      <td>-2.572564</td>\n",
       "      <td>-3.245649</td>\n",
       "      <td>-41.123714</td>\n",
       "      <td>-0.500129</td>\n",
       "      <td>-4.736197</td>\n",
       "    </tr>\n",
       "    <tr>\n",
       "      <th>3</th>\n",
       "      <td>2) plaqueAttack</td>\n",
       "      <td>-5.768051</td>\n",
       "      <td>3.434072</td>\n",
       "      <td>4.085857</td>\n",
       "      <td>0.552621</td>\n",
       "      <td>-8.581039</td>\n",
       "      <td>6.450201</td>\n",
       "      <td>5.748111</td>\n",
       "      <td>6.094631</td>\n",
       "      <td>7.281043</td>\n",
       "      <td>...</td>\n",
       "      <td>24.493263</td>\n",
       "      <td>15.773898</td>\n",
       "      <td>-1.629072</td>\n",
       "      <td>1.320592</td>\n",
       "      <td>-1.860331</td>\n",
       "      <td>-8.045016</td>\n",
       "      <td>10.680734</td>\n",
       "      <td>33.953304</td>\n",
       "      <td>12.533324</td>\n",
       "      <td>27.066385</td>\n",
       "    </tr>\n",
       "    <tr>\n",
       "      <th>4</th>\n",
       "      <td>2) helper</td>\n",
       "      <td>4.119259</td>\n",
       "      <td>8.947463</td>\n",
       "      <td>12.726330</td>\n",
       "      <td>9.378189</td>\n",
       "      <td>-1.220948</td>\n",
       "      <td>11.692106</td>\n",
       "      <td>5.958652</td>\n",
       "      <td>5.073729</td>\n",
       "      <td>8.574687</td>\n",
       "      <td>...</td>\n",
       "      <td>6.723979</td>\n",
       "      <td>10.334471</td>\n",
       "      <td>-3.384736</td>\n",
       "      <td>-0.009358</td>\n",
       "      <td>-1.735211</td>\n",
       "      <td>-11.919559</td>\n",
       "      <td>8.367201</td>\n",
       "      <td>19.897381</td>\n",
       "      <td>24.467892</td>\n",
       "      <td>27.883690</td>\n",
       "    </tr>\n",
       "    <tr>\n",
       "      <th>5</th>\n",
       "      <td>2) zelda</td>\n",
       "      <td>7.021592</td>\n",
       "      <td>9.343513</td>\n",
       "      <td>11.676348</td>\n",
       "      <td>11.955696</td>\n",
       "      <td>3.066959</td>\n",
       "      <td>11.286689</td>\n",
       "      <td>10.009387</td>\n",
       "      <td>9.561795</td>\n",
       "      <td>9.748417</td>\n",
       "      <td>...</td>\n",
       "      <td>12.802929</td>\n",
       "      <td>23.510094</td>\n",
       "      <td>-4.053125</td>\n",
       "      <td>-0.571480</td>\n",
       "      <td>-3.777835</td>\n",
       "      <td>-8.239130</td>\n",
       "      <td>11.177244</td>\n",
       "      <td>-16.012350</td>\n",
       "      <td>26.567398</td>\n",
       "      <td>7.366623</td>\n",
       "    </tr>\n",
       "    <tr>\n",
       "      <th>6</th>\n",
       "      <td>3) lemmings</td>\n",
       "      <td>0.043728</td>\n",
       "      <td>-1.043097</td>\n",
       "      <td>-4.179738</td>\n",
       "      <td>-3.065058</td>\n",
       "      <td>-8.868436</td>\n",
       "      <td>-15.159046</td>\n",
       "      <td>-5.583825</td>\n",
       "      <td>-1.595291</td>\n",
       "      <td>3.187812</td>\n",
       "      <td>...</td>\n",
       "      <td>23.756556</td>\n",
       "      <td>11.281951</td>\n",
       "      <td>1.957970</td>\n",
       "      <td>10.599979</td>\n",
       "      <td>13.745110</td>\n",
       "      <td>9.554928</td>\n",
       "      <td>-10.555696</td>\n",
       "      <td>23.845291</td>\n",
       "      <td>-7.076766</td>\n",
       "      <td>-15.550484</td>\n",
       "    </tr>\n",
       "    <tr>\n",
       "      <th>7</th>\n",
       "      <td>3) plaqueAttack</td>\n",
       "      <td>2.072475</td>\n",
       "      <td>6.689902</td>\n",
       "      <td>7.172602</td>\n",
       "      <td>4.623752</td>\n",
       "      <td>-4.035094</td>\n",
       "      <td>-3.138475</td>\n",
       "      <td>-3.642266</td>\n",
       "      <td>0.053200</td>\n",
       "      <td>-0.432040</td>\n",
       "      <td>...</td>\n",
       "      <td>22.332809</td>\n",
       "      <td>6.706408</td>\n",
       "      <td>3.093272</td>\n",
       "      <td>14.604948</td>\n",
       "      <td>13.677283</td>\n",
       "      <td>12.252034</td>\n",
       "      <td>-4.183152</td>\n",
       "      <td>33.898113</td>\n",
       "      <td>-1.924500</td>\n",
       "      <td>-4.970423</td>\n",
       "    </tr>\n",
       "    <tr>\n",
       "      <th>8</th>\n",
       "      <td>3) zelda</td>\n",
       "      <td>8.351169</td>\n",
       "      <td>21.711334</td>\n",
       "      <td>18.740585</td>\n",
       "      <td>15.737837</td>\n",
       "      <td>2.020320</td>\n",
       "      <td>6.704339</td>\n",
       "      <td>-7.124405</td>\n",
       "      <td>-1.775580</td>\n",
       "      <td>4.791605</td>\n",
       "      <td>...</td>\n",
       "      <td>16.111681</td>\n",
       "      <td>5.501110</td>\n",
       "      <td>5.371235</td>\n",
       "      <td>8.534523</td>\n",
       "      <td>14.881846</td>\n",
       "      <td>7.707860</td>\n",
       "      <td>0.504144</td>\n",
       "      <td>16.564280</td>\n",
       "      <td>10.031107</td>\n",
       "      <td>0.628726</td>\n",
       "    </tr>\n",
       "    <tr>\n",
       "      <th>9</th>\n",
       "      <td>4) chase</td>\n",
       "      <td>-4.762638</td>\n",
       "      <td>-1.359534</td>\n",
       "      <td>-9.443146</td>\n",
       "      <td>-8.284603</td>\n",
       "      <td>-3.121179</td>\n",
       "      <td>-1.042376</td>\n",
       "      <td>-11.546381</td>\n",
       "      <td>-4.506612</td>\n",
       "      <td>-1.719461</td>\n",
       "      <td>...</td>\n",
       "      <td>0.234043</td>\n",
       "      <td>4.825530</td>\n",
       "      <td>-1.052109</td>\n",
       "      <td>-1.777197</td>\n",
       "      <td>-4.887089</td>\n",
       "      <td>-6.286245</td>\n",
       "      <td>1.765989</td>\n",
       "      <td>-42.126713</td>\n",
       "      <td>-12.262952</td>\n",
       "      <td>-11.136387</td>\n",
       "    </tr>\n",
       "    <tr>\n",
       "      <th>10</th>\n",
       "      <td>4) bait</td>\n",
       "      <td>-8.513804</td>\n",
       "      <td>-8.147409</td>\n",
       "      <td>-20.278408</td>\n",
       "      <td>-19.018339</td>\n",
       "      <td>-7.417134</td>\n",
       "      <td>-8.098804</td>\n",
       "      <td>-13.436254</td>\n",
       "      <td>-1.804174</td>\n",
       "      <td>-1.931729</td>\n",
       "      <td>...</td>\n",
       "      <td>4.926886</td>\n",
       "      <td>9.518762</td>\n",
       "      <td>5.451601</td>\n",
       "      <td>2.390419</td>\n",
       "      <td>0.279032</td>\n",
       "      <td>6.639667</td>\n",
       "      <td>2.165422</td>\n",
       "      <td>38.382492</td>\n",
       "      <td>-13.136907</td>\n",
       "      <td>-9.959997</td>\n",
       "    </tr>\n",
       "    <tr>\n",
       "      <th>11</th>\n",
       "      <td>4) helper</td>\n",
       "      <td>-3.488469</td>\n",
       "      <td>-2.073501</td>\n",
       "      <td>-8.124451</td>\n",
       "      <td>-6.171125</td>\n",
       "      <td>1.292054</td>\n",
       "      <td>-1.260690</td>\n",
       "      <td>-3.650969</td>\n",
       "      <td>5.587039</td>\n",
       "      <td>-2.825567</td>\n",
       "      <td>...</td>\n",
       "      <td>20.891117</td>\n",
       "      <td>10.814970</td>\n",
       "      <td>0.724403</td>\n",
       "      <td>4.433382</td>\n",
       "      <td>1.548628</td>\n",
       "      <td>6.010903</td>\n",
       "      <td>5.328833</td>\n",
       "      <td>64.552811</td>\n",
       "      <td>2.843054</td>\n",
       "      <td>4.569355</td>\n",
       "    </tr>\n",
       "    <tr>\n",
       "      <th>12</th>\n",
       "      <td>5) zelda</td>\n",
       "      <td>3.860326</td>\n",
       "      <td>1.394945</td>\n",
       "      <td>-5.631263</td>\n",
       "      <td>-0.992789</td>\n",
       "      <td>1.900077</td>\n",
       "      <td>4.694489</td>\n",
       "      <td>9.902307</td>\n",
       "      <td>9.498262</td>\n",
       "      <td>-0.332578</td>\n",
       "      <td>...</td>\n",
       "      <td>5.889859</td>\n",
       "      <td>-7.144887</td>\n",
       "      <td>-8.280812</td>\n",
       "      <td>8.145737</td>\n",
       "      <td>-4.895066</td>\n",
       "      <td>-3.111471</td>\n",
       "      <td>1.171048</td>\n",
       "      <td>-2.664928</td>\n",
       "      <td>4.087981</td>\n",
       "      <td>11.115673</td>\n",
       "    </tr>\n",
       "    <tr>\n",
       "      <th>13</th>\n",
       "      <td>5) chase</td>\n",
       "      <td>16.593838</td>\n",
       "      <td>11.227643</td>\n",
       "      <td>6.848956</td>\n",
       "      <td>15.720005</td>\n",
       "      <td>-14.365144</td>\n",
       "      <td>0.776028</td>\n",
       "      <td>-3.534001</td>\n",
       "      <td>-6.141415</td>\n",
       "      <td>-1.236239</td>\n",
       "      <td>...</td>\n",
       "      <td>3.063670</td>\n",
       "      <td>-8.462102</td>\n",
       "      <td>-8.658521</td>\n",
       "      <td>3.029306</td>\n",
       "      <td>-1.101148</td>\n",
       "      <td>-0.374175</td>\n",
       "      <td>8.667653</td>\n",
       "      <td>18.675638</td>\n",
       "      <td>-3.071958</td>\n",
       "      <td>22.409758</td>\n",
       "    </tr>\n",
       "    <tr>\n",
       "      <th>14</th>\n",
       "      <td>5) lemmings</td>\n",
       "      <td>9.162540</td>\n",
       "      <td>11.225786</td>\n",
       "      <td>8.859943</td>\n",
       "      <td>17.439617</td>\n",
       "      <td>-12.813311</td>\n",
       "      <td>4.430040</td>\n",
       "      <td>-1.032402</td>\n",
       "      <td>-11.399003</td>\n",
       "      <td>-2.237471</td>\n",
       "      <td>...</td>\n",
       "      <td>4.458355</td>\n",
       "      <td>0.059252</td>\n",
       "      <td>-6.687087</td>\n",
       "      <td>2.423693</td>\n",
       "      <td>1.854017</td>\n",
       "      <td>0.322028</td>\n",
       "      <td>7.476888</td>\n",
       "      <td>8.528299</td>\n",
       "      <td>4.332778</td>\n",
       "      <td>7.667108</td>\n",
       "    </tr>\n",
       "    <tr>\n",
       "      <th>15</th>\n",
       "      <td>6) helper</td>\n",
       "      <td>13.980707</td>\n",
       "      <td>8.228017</td>\n",
       "      <td>8.757113</td>\n",
       "      <td>8.276917</td>\n",
       "      <td>2.986851</td>\n",
       "      <td>4.698857</td>\n",
       "      <td>5.906233</td>\n",
       "      <td>7.941437</td>\n",
       "      <td>2.573399</td>\n",
       "      <td>...</td>\n",
       "      <td>21.087612</td>\n",
       "      <td>9.394314</td>\n",
       "      <td>-2.524303</td>\n",
       "      <td>3.466422</td>\n",
       "      <td>3.410167</td>\n",
       "      <td>14.805502</td>\n",
       "      <td>4.344432</td>\n",
       "      <td>22.401058</td>\n",
       "      <td>-3.233738</td>\n",
       "      <td>26.665228</td>\n",
       "    </tr>\n",
       "    <tr>\n",
       "      <th>16</th>\n",
       "      <td>6) plaqueAttack</td>\n",
       "      <td>1.051754</td>\n",
       "      <td>-2.436461</td>\n",
       "      <td>5.507930</td>\n",
       "      <td>0.638284</td>\n",
       "      <td>-2.110301</td>\n",
       "      <td>-2.250396</td>\n",
       "      <td>3.932415</td>\n",
       "      <td>7.940315</td>\n",
       "      <td>4.946818</td>\n",
       "      <td>...</td>\n",
       "      <td>15.548193</td>\n",
       "      <td>12.601938</td>\n",
       "      <td>5.537265</td>\n",
       "      <td>15.036796</td>\n",
       "      <td>5.952138</td>\n",
       "      <td>5.756672</td>\n",
       "      <td>1.213837</td>\n",
       "      <td>17.333740</td>\n",
       "      <td>-7.532307</td>\n",
       "      <td>39.778564</td>\n",
       "    </tr>\n",
       "    <tr>\n",
       "      <th>17</th>\n",
       "      <td>6) bait</td>\n",
       "      <td>4.488045</td>\n",
       "      <td>3.494429</td>\n",
       "      <td>3.660782</td>\n",
       "      <td>-2.011954</td>\n",
       "      <td>10.009937</td>\n",
       "      <td>10.279862</td>\n",
       "      <td>2.673248</td>\n",
       "      <td>9.002834</td>\n",
       "      <td>6.456217</td>\n",
       "      <td>...</td>\n",
       "      <td>10.188533</td>\n",
       "      <td>4.721396</td>\n",
       "      <td>-0.848778</td>\n",
       "      <td>0.473930</td>\n",
       "      <td>3.204702</td>\n",
       "      <td>1.116864</td>\n",
       "      <td>4.357227</td>\n",
       "      <td>-16.496923</td>\n",
       "      <td>-12.567889</td>\n",
       "      <td>40.311089</td>\n",
       "    </tr>\n",
       "  </tbody>\n",
       "</table>\n",
       "<p>18 rows × 179596 columns</p>\n",
       "</div>"
      ],
      "text/plain": [
       "             blocks          0          1          2          3          4  \\\n",
       "0          1) chase  13.678534  19.717096   1.222979  -4.251091   6.807140   \n",
       "1       1) lemmings   9.340469  14.893038   3.482431   8.328746   2.067947   \n",
       "2           1) bait   8.191047  18.610971   3.931173   8.562959  11.142619   \n",
       "3   2) plaqueAttack  -5.768051   3.434072   4.085857   0.552621  -8.581039   \n",
       "4         2) helper   4.119259   8.947463  12.726330   9.378189  -1.220948   \n",
       "5          2) zelda   7.021592   9.343513  11.676348  11.955696   3.066959   \n",
       "6       3) lemmings   0.043728  -1.043097  -4.179738  -3.065058  -8.868436   \n",
       "7   3) plaqueAttack   2.072475   6.689902   7.172602   4.623752  -4.035094   \n",
       "8          3) zelda   8.351169  21.711334  18.740585  15.737837   2.020320   \n",
       "9          4) chase  -4.762638  -1.359534  -9.443146  -8.284603  -3.121179   \n",
       "10          4) bait  -8.513804  -8.147409 -20.278408 -19.018339  -7.417134   \n",
       "11        4) helper  -3.488469  -2.073501  -8.124451  -6.171125   1.292054   \n",
       "12         5) zelda   3.860326   1.394945  -5.631263  -0.992789   1.900077   \n",
       "13         5) chase  16.593838  11.227643   6.848956  15.720005 -14.365144   \n",
       "14      5) lemmings   9.162540  11.225786   8.859943  17.439617 -12.813311   \n",
       "15        6) helper  13.980707   8.228017   8.757113   8.276917   2.986851   \n",
       "16  6) plaqueAttack   1.051754  -2.436461   5.507930   0.638284  -2.110301   \n",
       "17          6) bait   4.488045   3.494429   3.660782  -2.011954  10.009937   \n",
       "\n",
       "            5          6          7         8  ...     179585     179586  \\\n",
       "0    1.490849  -9.897692  10.267058  6.932566  ...  17.966171   5.093922   \n",
       "1    7.053865  -3.198863  -4.350846  3.748187  ...  21.419283   8.234531   \n",
       "2    2.641228  -5.400310   3.904763  2.850767  ...  25.629944  12.172116   \n",
       "3    6.450201   5.748111   6.094631  7.281043  ...  24.493263  15.773898   \n",
       "4   11.692106   5.958652   5.073729  8.574687  ...   6.723979  10.334471   \n",
       "5   11.286689  10.009387   9.561795  9.748417  ...  12.802929  23.510094   \n",
       "6  -15.159046  -5.583825  -1.595291  3.187812  ...  23.756556  11.281951   \n",
       "7   -3.138475  -3.642266   0.053200 -0.432040  ...  22.332809   6.706408   \n",
       "8    6.704339  -7.124405  -1.775580  4.791605  ...  16.111681   5.501110   \n",
       "9   -1.042376 -11.546381  -4.506612 -1.719461  ...   0.234043   4.825530   \n",
       "10  -8.098804 -13.436254  -1.804174 -1.931729  ...   4.926886   9.518762   \n",
       "11  -1.260690  -3.650969   5.587039 -2.825567  ...  20.891117  10.814970   \n",
       "12   4.694489   9.902307   9.498262 -0.332578  ...   5.889859  -7.144887   \n",
       "13   0.776028  -3.534001  -6.141415 -1.236239  ...   3.063670  -8.462102   \n",
       "14   4.430040  -1.032402 -11.399003 -2.237471  ...   4.458355   0.059252   \n",
       "15   4.698857   5.906233   7.941437  2.573399  ...  21.087612   9.394314   \n",
       "16  -2.250396   3.932415   7.940315  4.946818  ...  15.548193  12.601938   \n",
       "17  10.279862   2.673248   9.002834  6.456217  ...  10.188533   4.721396   \n",
       "\n",
       "       179587     179588     179589     179590     179591     179592  \\\n",
       "0   10.200910  24.991861  -8.413091  -8.126126   6.747587  -9.610495   \n",
       "1   13.862604  14.725319  -5.711393  -8.503519  -0.674800 -38.048695   \n",
       "2   12.206659   8.205688  -0.708720  -2.572564  -3.245649 -41.123714   \n",
       "3   -1.629072   1.320592  -1.860331  -8.045016  10.680734  33.953304   \n",
       "4   -3.384736  -0.009358  -1.735211 -11.919559   8.367201  19.897381   \n",
       "5   -4.053125  -0.571480  -3.777835  -8.239130  11.177244 -16.012350   \n",
       "6    1.957970  10.599979  13.745110   9.554928 -10.555696  23.845291   \n",
       "7    3.093272  14.604948  13.677283  12.252034  -4.183152  33.898113   \n",
       "8    5.371235   8.534523  14.881846   7.707860   0.504144  16.564280   \n",
       "9   -1.052109  -1.777197  -4.887089  -6.286245   1.765989 -42.126713   \n",
       "10   5.451601   2.390419   0.279032   6.639667   2.165422  38.382492   \n",
       "11   0.724403   4.433382   1.548628   6.010903   5.328833  64.552811   \n",
       "12  -8.280812   8.145737  -4.895066  -3.111471   1.171048  -2.664928   \n",
       "13  -8.658521   3.029306  -1.101148  -0.374175   8.667653  18.675638   \n",
       "14  -6.687087   2.423693   1.854017   0.322028   7.476888   8.528299   \n",
       "15  -2.524303   3.466422   3.410167  14.805502   4.344432  22.401058   \n",
       "16   5.537265  15.036796   5.952138   5.756672   1.213837  17.333740   \n",
       "17  -0.848778   0.473930   3.204702   1.116864   4.357227 -16.496923   \n",
       "\n",
       "       179593     179594  \n",
       "0  -14.543383 -20.066061  \n",
       "1   -4.195394  -7.664783  \n",
       "2   -0.500129  -4.736197  \n",
       "3   12.533324  27.066385  \n",
       "4   24.467892  27.883690  \n",
       "5   26.567398   7.366623  \n",
       "6   -7.076766 -15.550484  \n",
       "7   -1.924500  -4.970423  \n",
       "8   10.031107   0.628726  \n",
       "9  -12.262952 -11.136387  \n",
       "10 -13.136907  -9.959997  \n",
       "11   2.843054   4.569355  \n",
       "12   4.087981  11.115673  \n",
       "13  -3.071958  22.409758  \n",
       "14   4.332778   7.667108  \n",
       "15  -3.233738  26.665228  \n",
       "16  -7.532307  39.778564  \n",
       "17 -12.567889  40.311089  \n",
       "\n",
       "[18 rows x 179596 columns]"
      ]
     },
     "execution_count": 30,
     "metadata": {},
     "output_type": "execute_result"
    }
   ],
   "source": [
    "# read in B as pandas df\n",
    "df = pd.DataFrame(B_s)\n",
    "df.insert(0, 'blocks', block_names) # insert block names as first col\n",
    "\n",
    "df"
   ]
  },
  {
   "cell_type": "code",
   "execution_count": 31,
   "metadata": {
    "scrolled": false
   },
   "outputs": [
    {
     "data": {
      "text/html": [
       "<div>\n",
       "<style scoped>\n",
       "    .dataframe tbody tr th:only-of-type {\n",
       "        vertical-align: middle;\n",
       "    }\n",
       "\n",
       "    .dataframe tbody tr th {\n",
       "        vertical-align: top;\n",
       "    }\n",
       "\n",
       "    .dataframe thead th {\n",
       "        text-align: right;\n",
       "    }\n",
       "</style>\n",
       "<table border=\"1\" class=\"dataframe\">\n",
       "  <thead>\n",
       "    <tr style=\"text-align: right;\">\n",
       "      <th></th>\n",
       "      <th>blocks</th>\n",
       "      <th>0</th>\n",
       "      <th>1</th>\n",
       "      <th>2</th>\n",
       "      <th>3</th>\n",
       "      <th>4</th>\n",
       "      <th>5</th>\n",
       "      <th>6</th>\n",
       "      <th>7</th>\n",
       "      <th>8</th>\n",
       "      <th>...</th>\n",
       "      <th>179585</th>\n",
       "      <th>179586</th>\n",
       "      <th>179587</th>\n",
       "      <th>179588</th>\n",
       "      <th>179589</th>\n",
       "      <th>179590</th>\n",
       "      <th>179591</th>\n",
       "      <th>179592</th>\n",
       "      <th>179593</th>\n",
       "      <th>179594</th>\n",
       "    </tr>\n",
       "  </thead>\n",
       "  <tbody>\n",
       "    <tr>\n",
       "      <th>2</th>\n",
       "      <td>1) bait</td>\n",
       "      <td>8.191047</td>\n",
       "      <td>18.610971</td>\n",
       "      <td>3.931173</td>\n",
       "      <td>8.562959</td>\n",
       "      <td>11.142619</td>\n",
       "      <td>2.641228</td>\n",
       "      <td>-5.400310</td>\n",
       "      <td>3.904763</td>\n",
       "      <td>2.850767</td>\n",
       "      <td>...</td>\n",
       "      <td>25.629944</td>\n",
       "      <td>12.172116</td>\n",
       "      <td>12.206659</td>\n",
       "      <td>8.205688</td>\n",
       "      <td>-0.708720</td>\n",
       "      <td>-2.572564</td>\n",
       "      <td>-3.245649</td>\n",
       "      <td>-41.123714</td>\n",
       "      <td>-0.500129</td>\n",
       "      <td>-4.736197</td>\n",
       "    </tr>\n",
       "    <tr>\n",
       "      <th>0</th>\n",
       "      <td>1) chase</td>\n",
       "      <td>13.678534</td>\n",
       "      <td>19.717096</td>\n",
       "      <td>1.222979</td>\n",
       "      <td>-4.251091</td>\n",
       "      <td>6.807140</td>\n",
       "      <td>1.490849</td>\n",
       "      <td>-9.897692</td>\n",
       "      <td>10.267058</td>\n",
       "      <td>6.932566</td>\n",
       "      <td>...</td>\n",
       "      <td>17.966171</td>\n",
       "      <td>5.093922</td>\n",
       "      <td>10.200910</td>\n",
       "      <td>24.991861</td>\n",
       "      <td>-8.413091</td>\n",
       "      <td>-8.126126</td>\n",
       "      <td>6.747587</td>\n",
       "      <td>-9.610495</td>\n",
       "      <td>-14.543383</td>\n",
       "      <td>-20.066061</td>\n",
       "    </tr>\n",
       "    <tr>\n",
       "      <th>1</th>\n",
       "      <td>1) lemmings</td>\n",
       "      <td>9.340469</td>\n",
       "      <td>14.893038</td>\n",
       "      <td>3.482431</td>\n",
       "      <td>8.328746</td>\n",
       "      <td>2.067947</td>\n",
       "      <td>7.053865</td>\n",
       "      <td>-3.198863</td>\n",
       "      <td>-4.350846</td>\n",
       "      <td>3.748187</td>\n",
       "      <td>...</td>\n",
       "      <td>21.419283</td>\n",
       "      <td>8.234531</td>\n",
       "      <td>13.862604</td>\n",
       "      <td>14.725319</td>\n",
       "      <td>-5.711393</td>\n",
       "      <td>-8.503519</td>\n",
       "      <td>-0.674800</td>\n",
       "      <td>-38.048695</td>\n",
       "      <td>-4.195394</td>\n",
       "      <td>-7.664783</td>\n",
       "    </tr>\n",
       "    <tr>\n",
       "      <th>4</th>\n",
       "      <td>2) helper</td>\n",
       "      <td>4.119259</td>\n",
       "      <td>8.947463</td>\n",
       "      <td>12.726330</td>\n",
       "      <td>9.378189</td>\n",
       "      <td>-1.220948</td>\n",
       "      <td>11.692106</td>\n",
       "      <td>5.958652</td>\n",
       "      <td>5.073729</td>\n",
       "      <td>8.574687</td>\n",
       "      <td>...</td>\n",
       "      <td>6.723979</td>\n",
       "      <td>10.334471</td>\n",
       "      <td>-3.384736</td>\n",
       "      <td>-0.009358</td>\n",
       "      <td>-1.735211</td>\n",
       "      <td>-11.919559</td>\n",
       "      <td>8.367201</td>\n",
       "      <td>19.897381</td>\n",
       "      <td>24.467892</td>\n",
       "      <td>27.883690</td>\n",
       "    </tr>\n",
       "    <tr>\n",
       "      <th>3</th>\n",
       "      <td>2) plaqueAttack</td>\n",
       "      <td>-5.768051</td>\n",
       "      <td>3.434072</td>\n",
       "      <td>4.085857</td>\n",
       "      <td>0.552621</td>\n",
       "      <td>-8.581039</td>\n",
       "      <td>6.450201</td>\n",
       "      <td>5.748111</td>\n",
       "      <td>6.094631</td>\n",
       "      <td>7.281043</td>\n",
       "      <td>...</td>\n",
       "      <td>24.493263</td>\n",
       "      <td>15.773898</td>\n",
       "      <td>-1.629072</td>\n",
       "      <td>1.320592</td>\n",
       "      <td>-1.860331</td>\n",
       "      <td>-8.045016</td>\n",
       "      <td>10.680734</td>\n",
       "      <td>33.953304</td>\n",
       "      <td>12.533324</td>\n",
       "      <td>27.066385</td>\n",
       "    </tr>\n",
       "    <tr>\n",
       "      <th>5</th>\n",
       "      <td>2) zelda</td>\n",
       "      <td>7.021592</td>\n",
       "      <td>9.343513</td>\n",
       "      <td>11.676348</td>\n",
       "      <td>11.955696</td>\n",
       "      <td>3.066959</td>\n",
       "      <td>11.286689</td>\n",
       "      <td>10.009387</td>\n",
       "      <td>9.561795</td>\n",
       "      <td>9.748417</td>\n",
       "      <td>...</td>\n",
       "      <td>12.802929</td>\n",
       "      <td>23.510094</td>\n",
       "      <td>-4.053125</td>\n",
       "      <td>-0.571480</td>\n",
       "      <td>-3.777835</td>\n",
       "      <td>-8.239130</td>\n",
       "      <td>11.177244</td>\n",
       "      <td>-16.012350</td>\n",
       "      <td>26.567398</td>\n",
       "      <td>7.366623</td>\n",
       "    </tr>\n",
       "    <tr>\n",
       "      <th>6</th>\n",
       "      <td>3) lemmings</td>\n",
       "      <td>0.043728</td>\n",
       "      <td>-1.043097</td>\n",
       "      <td>-4.179738</td>\n",
       "      <td>-3.065058</td>\n",
       "      <td>-8.868436</td>\n",
       "      <td>-15.159046</td>\n",
       "      <td>-5.583825</td>\n",
       "      <td>-1.595291</td>\n",
       "      <td>3.187812</td>\n",
       "      <td>...</td>\n",
       "      <td>23.756556</td>\n",
       "      <td>11.281951</td>\n",
       "      <td>1.957970</td>\n",
       "      <td>10.599979</td>\n",
       "      <td>13.745110</td>\n",
       "      <td>9.554928</td>\n",
       "      <td>-10.555696</td>\n",
       "      <td>23.845291</td>\n",
       "      <td>-7.076766</td>\n",
       "      <td>-15.550484</td>\n",
       "    </tr>\n",
       "    <tr>\n",
       "      <th>7</th>\n",
       "      <td>3) plaqueAttack</td>\n",
       "      <td>2.072475</td>\n",
       "      <td>6.689902</td>\n",
       "      <td>7.172602</td>\n",
       "      <td>4.623752</td>\n",
       "      <td>-4.035094</td>\n",
       "      <td>-3.138475</td>\n",
       "      <td>-3.642266</td>\n",
       "      <td>0.053200</td>\n",
       "      <td>-0.432040</td>\n",
       "      <td>...</td>\n",
       "      <td>22.332809</td>\n",
       "      <td>6.706408</td>\n",
       "      <td>3.093272</td>\n",
       "      <td>14.604948</td>\n",
       "      <td>13.677283</td>\n",
       "      <td>12.252034</td>\n",
       "      <td>-4.183152</td>\n",
       "      <td>33.898113</td>\n",
       "      <td>-1.924500</td>\n",
       "      <td>-4.970423</td>\n",
       "    </tr>\n",
       "    <tr>\n",
       "      <th>8</th>\n",
       "      <td>3) zelda</td>\n",
       "      <td>8.351169</td>\n",
       "      <td>21.711334</td>\n",
       "      <td>18.740585</td>\n",
       "      <td>15.737837</td>\n",
       "      <td>2.020320</td>\n",
       "      <td>6.704339</td>\n",
       "      <td>-7.124405</td>\n",
       "      <td>-1.775580</td>\n",
       "      <td>4.791605</td>\n",
       "      <td>...</td>\n",
       "      <td>16.111681</td>\n",
       "      <td>5.501110</td>\n",
       "      <td>5.371235</td>\n",
       "      <td>8.534523</td>\n",
       "      <td>14.881846</td>\n",
       "      <td>7.707860</td>\n",
       "      <td>0.504144</td>\n",
       "      <td>16.564280</td>\n",
       "      <td>10.031107</td>\n",
       "      <td>0.628726</td>\n",
       "    </tr>\n",
       "    <tr>\n",
       "      <th>10</th>\n",
       "      <td>4) bait</td>\n",
       "      <td>-8.513804</td>\n",
       "      <td>-8.147409</td>\n",
       "      <td>-20.278408</td>\n",
       "      <td>-19.018339</td>\n",
       "      <td>-7.417134</td>\n",
       "      <td>-8.098804</td>\n",
       "      <td>-13.436254</td>\n",
       "      <td>-1.804174</td>\n",
       "      <td>-1.931729</td>\n",
       "      <td>...</td>\n",
       "      <td>4.926886</td>\n",
       "      <td>9.518762</td>\n",
       "      <td>5.451601</td>\n",
       "      <td>2.390419</td>\n",
       "      <td>0.279032</td>\n",
       "      <td>6.639667</td>\n",
       "      <td>2.165422</td>\n",
       "      <td>38.382492</td>\n",
       "      <td>-13.136907</td>\n",
       "      <td>-9.959997</td>\n",
       "    </tr>\n",
       "    <tr>\n",
       "      <th>9</th>\n",
       "      <td>4) chase</td>\n",
       "      <td>-4.762638</td>\n",
       "      <td>-1.359534</td>\n",
       "      <td>-9.443146</td>\n",
       "      <td>-8.284603</td>\n",
       "      <td>-3.121179</td>\n",
       "      <td>-1.042376</td>\n",
       "      <td>-11.546381</td>\n",
       "      <td>-4.506612</td>\n",
       "      <td>-1.719461</td>\n",
       "      <td>...</td>\n",
       "      <td>0.234043</td>\n",
       "      <td>4.825530</td>\n",
       "      <td>-1.052109</td>\n",
       "      <td>-1.777197</td>\n",
       "      <td>-4.887089</td>\n",
       "      <td>-6.286245</td>\n",
       "      <td>1.765989</td>\n",
       "      <td>-42.126713</td>\n",
       "      <td>-12.262952</td>\n",
       "      <td>-11.136387</td>\n",
       "    </tr>\n",
       "    <tr>\n",
       "      <th>11</th>\n",
       "      <td>4) helper</td>\n",
       "      <td>-3.488469</td>\n",
       "      <td>-2.073501</td>\n",
       "      <td>-8.124451</td>\n",
       "      <td>-6.171125</td>\n",
       "      <td>1.292054</td>\n",
       "      <td>-1.260690</td>\n",
       "      <td>-3.650969</td>\n",
       "      <td>5.587039</td>\n",
       "      <td>-2.825567</td>\n",
       "      <td>...</td>\n",
       "      <td>20.891117</td>\n",
       "      <td>10.814970</td>\n",
       "      <td>0.724403</td>\n",
       "      <td>4.433382</td>\n",
       "      <td>1.548628</td>\n",
       "      <td>6.010903</td>\n",
       "      <td>5.328833</td>\n",
       "      <td>64.552811</td>\n",
       "      <td>2.843054</td>\n",
       "      <td>4.569355</td>\n",
       "    </tr>\n",
       "    <tr>\n",
       "      <th>13</th>\n",
       "      <td>5) chase</td>\n",
       "      <td>16.593838</td>\n",
       "      <td>11.227643</td>\n",
       "      <td>6.848956</td>\n",
       "      <td>15.720005</td>\n",
       "      <td>-14.365144</td>\n",
       "      <td>0.776028</td>\n",
       "      <td>-3.534001</td>\n",
       "      <td>-6.141415</td>\n",
       "      <td>-1.236239</td>\n",
       "      <td>...</td>\n",
       "      <td>3.063670</td>\n",
       "      <td>-8.462102</td>\n",
       "      <td>-8.658521</td>\n",
       "      <td>3.029306</td>\n",
       "      <td>-1.101148</td>\n",
       "      <td>-0.374175</td>\n",
       "      <td>8.667653</td>\n",
       "      <td>18.675638</td>\n",
       "      <td>-3.071958</td>\n",
       "      <td>22.409758</td>\n",
       "    </tr>\n",
       "    <tr>\n",
       "      <th>14</th>\n",
       "      <td>5) lemmings</td>\n",
       "      <td>9.162540</td>\n",
       "      <td>11.225786</td>\n",
       "      <td>8.859943</td>\n",
       "      <td>17.439617</td>\n",
       "      <td>-12.813311</td>\n",
       "      <td>4.430040</td>\n",
       "      <td>-1.032402</td>\n",
       "      <td>-11.399003</td>\n",
       "      <td>-2.237471</td>\n",
       "      <td>...</td>\n",
       "      <td>4.458355</td>\n",
       "      <td>0.059252</td>\n",
       "      <td>-6.687087</td>\n",
       "      <td>2.423693</td>\n",
       "      <td>1.854017</td>\n",
       "      <td>0.322028</td>\n",
       "      <td>7.476888</td>\n",
       "      <td>8.528299</td>\n",
       "      <td>4.332778</td>\n",
       "      <td>7.667108</td>\n",
       "    </tr>\n",
       "    <tr>\n",
       "      <th>12</th>\n",
       "      <td>5) zelda</td>\n",
       "      <td>3.860326</td>\n",
       "      <td>1.394945</td>\n",
       "      <td>-5.631263</td>\n",
       "      <td>-0.992789</td>\n",
       "      <td>1.900077</td>\n",
       "      <td>4.694489</td>\n",
       "      <td>9.902307</td>\n",
       "      <td>9.498262</td>\n",
       "      <td>-0.332578</td>\n",
       "      <td>...</td>\n",
       "      <td>5.889859</td>\n",
       "      <td>-7.144887</td>\n",
       "      <td>-8.280812</td>\n",
       "      <td>8.145737</td>\n",
       "      <td>-4.895066</td>\n",
       "      <td>-3.111471</td>\n",
       "      <td>1.171048</td>\n",
       "      <td>-2.664928</td>\n",
       "      <td>4.087981</td>\n",
       "      <td>11.115673</td>\n",
       "    </tr>\n",
       "    <tr>\n",
       "      <th>17</th>\n",
       "      <td>6) bait</td>\n",
       "      <td>4.488045</td>\n",
       "      <td>3.494429</td>\n",
       "      <td>3.660782</td>\n",
       "      <td>-2.011954</td>\n",
       "      <td>10.009937</td>\n",
       "      <td>10.279862</td>\n",
       "      <td>2.673248</td>\n",
       "      <td>9.002834</td>\n",
       "      <td>6.456217</td>\n",
       "      <td>...</td>\n",
       "      <td>10.188533</td>\n",
       "      <td>4.721396</td>\n",
       "      <td>-0.848778</td>\n",
       "      <td>0.473930</td>\n",
       "      <td>3.204702</td>\n",
       "      <td>1.116864</td>\n",
       "      <td>4.357227</td>\n",
       "      <td>-16.496923</td>\n",
       "      <td>-12.567889</td>\n",
       "      <td>40.311089</td>\n",
       "    </tr>\n",
       "    <tr>\n",
       "      <th>15</th>\n",
       "      <td>6) helper</td>\n",
       "      <td>13.980707</td>\n",
       "      <td>8.228017</td>\n",
       "      <td>8.757113</td>\n",
       "      <td>8.276917</td>\n",
       "      <td>2.986851</td>\n",
       "      <td>4.698857</td>\n",
       "      <td>5.906233</td>\n",
       "      <td>7.941437</td>\n",
       "      <td>2.573399</td>\n",
       "      <td>...</td>\n",
       "      <td>21.087612</td>\n",
       "      <td>9.394314</td>\n",
       "      <td>-2.524303</td>\n",
       "      <td>3.466422</td>\n",
       "      <td>3.410167</td>\n",
       "      <td>14.805502</td>\n",
       "      <td>4.344432</td>\n",
       "      <td>22.401058</td>\n",
       "      <td>-3.233738</td>\n",
       "      <td>26.665228</td>\n",
       "    </tr>\n",
       "    <tr>\n",
       "      <th>16</th>\n",
       "      <td>6) plaqueAttack</td>\n",
       "      <td>1.051754</td>\n",
       "      <td>-2.436461</td>\n",
       "      <td>5.507930</td>\n",
       "      <td>0.638284</td>\n",
       "      <td>-2.110301</td>\n",
       "      <td>-2.250396</td>\n",
       "      <td>3.932415</td>\n",
       "      <td>7.940315</td>\n",
       "      <td>4.946818</td>\n",
       "      <td>...</td>\n",
       "      <td>15.548193</td>\n",
       "      <td>12.601938</td>\n",
       "      <td>5.537265</td>\n",
       "      <td>15.036796</td>\n",
       "      <td>5.952138</td>\n",
       "      <td>5.756672</td>\n",
       "      <td>1.213837</td>\n",
       "      <td>17.333740</td>\n",
       "      <td>-7.532307</td>\n",
       "      <td>39.778564</td>\n",
       "    </tr>\n",
       "  </tbody>\n",
       "</table>\n",
       "<p>18 rows × 179596 columns</p>\n",
       "</div>"
      ],
      "text/plain": [
       "             blocks          0          1          2          3          4  \\\n",
       "2           1) bait   8.191047  18.610971   3.931173   8.562959  11.142619   \n",
       "0          1) chase  13.678534  19.717096   1.222979  -4.251091   6.807140   \n",
       "1       1) lemmings   9.340469  14.893038   3.482431   8.328746   2.067947   \n",
       "4         2) helper   4.119259   8.947463  12.726330   9.378189  -1.220948   \n",
       "3   2) plaqueAttack  -5.768051   3.434072   4.085857   0.552621  -8.581039   \n",
       "5          2) zelda   7.021592   9.343513  11.676348  11.955696   3.066959   \n",
       "6       3) lemmings   0.043728  -1.043097  -4.179738  -3.065058  -8.868436   \n",
       "7   3) plaqueAttack   2.072475   6.689902   7.172602   4.623752  -4.035094   \n",
       "8          3) zelda   8.351169  21.711334  18.740585  15.737837   2.020320   \n",
       "10          4) bait  -8.513804  -8.147409 -20.278408 -19.018339  -7.417134   \n",
       "9          4) chase  -4.762638  -1.359534  -9.443146  -8.284603  -3.121179   \n",
       "11        4) helper  -3.488469  -2.073501  -8.124451  -6.171125   1.292054   \n",
       "13         5) chase  16.593838  11.227643   6.848956  15.720005 -14.365144   \n",
       "14      5) lemmings   9.162540  11.225786   8.859943  17.439617 -12.813311   \n",
       "12         5) zelda   3.860326   1.394945  -5.631263  -0.992789   1.900077   \n",
       "17          6) bait   4.488045   3.494429   3.660782  -2.011954  10.009937   \n",
       "15        6) helper  13.980707   8.228017   8.757113   8.276917   2.986851   \n",
       "16  6) plaqueAttack   1.051754  -2.436461   5.507930   0.638284  -2.110301   \n",
       "\n",
       "            5          6          7         8  ...     179585     179586  \\\n",
       "2    2.641228  -5.400310   3.904763  2.850767  ...  25.629944  12.172116   \n",
       "0    1.490849  -9.897692  10.267058  6.932566  ...  17.966171   5.093922   \n",
       "1    7.053865  -3.198863  -4.350846  3.748187  ...  21.419283   8.234531   \n",
       "4   11.692106   5.958652   5.073729  8.574687  ...   6.723979  10.334471   \n",
       "3    6.450201   5.748111   6.094631  7.281043  ...  24.493263  15.773898   \n",
       "5   11.286689  10.009387   9.561795  9.748417  ...  12.802929  23.510094   \n",
       "6  -15.159046  -5.583825  -1.595291  3.187812  ...  23.756556  11.281951   \n",
       "7   -3.138475  -3.642266   0.053200 -0.432040  ...  22.332809   6.706408   \n",
       "8    6.704339  -7.124405  -1.775580  4.791605  ...  16.111681   5.501110   \n",
       "10  -8.098804 -13.436254  -1.804174 -1.931729  ...   4.926886   9.518762   \n",
       "9   -1.042376 -11.546381  -4.506612 -1.719461  ...   0.234043   4.825530   \n",
       "11  -1.260690  -3.650969   5.587039 -2.825567  ...  20.891117  10.814970   \n",
       "13   0.776028  -3.534001  -6.141415 -1.236239  ...   3.063670  -8.462102   \n",
       "14   4.430040  -1.032402 -11.399003 -2.237471  ...   4.458355   0.059252   \n",
       "12   4.694489   9.902307   9.498262 -0.332578  ...   5.889859  -7.144887   \n",
       "17  10.279862   2.673248   9.002834  6.456217  ...  10.188533   4.721396   \n",
       "15   4.698857   5.906233   7.941437  2.573399  ...  21.087612   9.394314   \n",
       "16  -2.250396   3.932415   7.940315  4.946818  ...  15.548193  12.601938   \n",
       "\n",
       "       179587     179588     179589     179590     179591     179592  \\\n",
       "2   12.206659   8.205688  -0.708720  -2.572564  -3.245649 -41.123714   \n",
       "0   10.200910  24.991861  -8.413091  -8.126126   6.747587  -9.610495   \n",
       "1   13.862604  14.725319  -5.711393  -8.503519  -0.674800 -38.048695   \n",
       "4   -3.384736  -0.009358  -1.735211 -11.919559   8.367201  19.897381   \n",
       "3   -1.629072   1.320592  -1.860331  -8.045016  10.680734  33.953304   \n",
       "5   -4.053125  -0.571480  -3.777835  -8.239130  11.177244 -16.012350   \n",
       "6    1.957970  10.599979  13.745110   9.554928 -10.555696  23.845291   \n",
       "7    3.093272  14.604948  13.677283  12.252034  -4.183152  33.898113   \n",
       "8    5.371235   8.534523  14.881846   7.707860   0.504144  16.564280   \n",
       "10   5.451601   2.390419   0.279032   6.639667   2.165422  38.382492   \n",
       "9   -1.052109  -1.777197  -4.887089  -6.286245   1.765989 -42.126713   \n",
       "11   0.724403   4.433382   1.548628   6.010903   5.328833  64.552811   \n",
       "13  -8.658521   3.029306  -1.101148  -0.374175   8.667653  18.675638   \n",
       "14  -6.687087   2.423693   1.854017   0.322028   7.476888   8.528299   \n",
       "12  -8.280812   8.145737  -4.895066  -3.111471   1.171048  -2.664928   \n",
       "17  -0.848778   0.473930   3.204702   1.116864   4.357227 -16.496923   \n",
       "15  -2.524303   3.466422   3.410167  14.805502   4.344432  22.401058   \n",
       "16   5.537265  15.036796   5.952138   5.756672   1.213837  17.333740   \n",
       "\n",
       "       179593     179594  \n",
       "2   -0.500129  -4.736197  \n",
       "0  -14.543383 -20.066061  \n",
       "1   -4.195394  -7.664783  \n",
       "4   24.467892  27.883690  \n",
       "3   12.533324  27.066385  \n",
       "5   26.567398   7.366623  \n",
       "6   -7.076766 -15.550484  \n",
       "7   -1.924500  -4.970423  \n",
       "8   10.031107   0.628726  \n",
       "10 -13.136907  -9.959997  \n",
       "9  -12.262952 -11.136387  \n",
       "11   2.843054   4.569355  \n",
       "13  -3.071958  22.409758  \n",
       "14   4.332778   7.667108  \n",
       "12   4.087981  11.115673  \n",
       "17 -12.567889  40.311089  \n",
       "15  -3.233738  26.665228  \n",
       "16  -7.532307  39.778564  \n",
       "\n",
       "[18 rows x 179596 columns]"
      ]
     },
     "execution_count": 31,
     "metadata": {},
     "output_type": "execute_result"
    }
   ],
   "source": [
    "dfOrdered = df.sort_values(by='blocks') # reorder the matrix based on the 'blocks' column\n",
    "\n",
    "dfOrdered # now the B matrix is in a specific order"
   ]
  },
  {
   "cell_type": "code",
   "execution_count": 32,
   "metadata": {},
   "outputs": [],
   "source": [
    "dfOrdered = dfOrdered.drop('blocks', 1) # don't need the column with the block names anymore"
   ]
  },
  {
   "cell_type": "code",
   "execution_count": 33,
   "metadata": {
    "scrolled": true
   },
   "outputs": [
    {
     "data": {
      "text/plain": [
       "(18, 179595)"
      ]
     },
     "execution_count": 33,
     "metadata": {},
     "output_type": "execute_result"
    }
   ],
   "source": [
    "B_ordered = dfOrdered.values # convert df to numpy array\n",
    "\n",
    "B_ordered.shape"
   ]
  },
  {
   "cell_type": "markdown",
   "metadata": {},
   "source": [
    "## 2. Reorder data for all subjects"
   ]
  },
  {
   "cell_type": "code",
   "execution_count": 34,
   "metadata": {},
   "outputs": [],
   "source": [
    "def get_in_shape(B_s, names_s):\n",
    "    \n",
    "    '''\n",
    "    Massages data into right shape for the ISC: [TRs, voxels, subjects] - bunch of stacked matrices\n",
    "    \n",
    "    IN\n",
    "    \n",
    "    B: the bold data for subject s\n",
    "    names: the order of the blocks for subject s\n",
    "    \n",
    "    OUT\n",
    "    \n",
    "    dfOrdered: the ordered df, just to sanity check the reordering\n",
    "    B_ordered: the ordered B array [blocks, voxels]\n",
    "    '''\n",
    "    \n",
    "    #print(B_s.shape)\n",
    "    \n",
    "    # cleanup the block names first, remove stuff\n",
    "    \n",
    "    block_names = []\n",
    "\n",
    "    for name in names_s:\n",
    "        stripped_name = cleanup_names(name)\n",
    "        block_names.append(stripped_name)\n",
    "    \n",
    "    #print(block_names)\n",
    "    \n",
    "    # read in B as pandas df\n",
    "    df = pd.DataFrame(B_s)\n",
    "    df.insert(0, 'block', block_names) # insert block names as first col\n",
    "    \n",
    "    dfOrdered = df.sort_values(by='block') # reorder the matrix based on the 'blocks' column\n",
    "    dfBold = dfOrdered.drop('block', 1) # don't need the column with the block names anymore\n",
    "    \n",
    "    B_ordered = dfBold.values # convert df to numpy array\n",
    "    \n",
    "    return dfOrdered, B_ordered"
   ]
  },
  {
   "cell_type": "code",
   "execution_count": 35,
   "metadata": {},
   "outputs": [
    {
     "name": "stdout",
     "output_type": "stream",
     "text": [
      "Process fMRI data for subject 1\n",
      "Process fMRI data for subject 2\n",
      "Process fMRI data for subject 3\n",
      "Process fMRI data for subject 4\n",
      "Process fMRI data for subject 5\n",
      "Process fMRI data for subject 6\n",
      "Process fMRI data for subject 7\n",
      "Process fMRI data for subject 8\n"
     ]
    }
   ],
   "source": [
    "ISC_data = []\n",
    "ordered_dfs = []\n",
    "\n",
    "\n",
    "for s in range(num_subjects):\n",
    "    \n",
    "    print(f'Process fMRI data for subject {s+1}')\n",
    "    # get the betas and game order from this\n",
    "    B_s = B_data[s].T # transpose to get [blocks, voxels]\n",
    "    names_s = names_data[s]\n",
    "    \n",
    "    dfOrdered, B_ordered = get_in_shape(B_s, names_s)\n",
    "    \n",
    "    ISC_data.append(B_ordered)\n",
    "    ordered_dfs.append(dfOrdered)\n",
    "    \n",
    "ISC_arr = np.array(ISC_data)"
   ]
  },
  {
   "cell_type": "code",
   "execution_count": 36,
   "metadata": {},
   "outputs": [
    {
     "data": {
      "text/plain": [
       "(8, 18, 179595)"
      ]
     },
     "execution_count": 36,
     "metadata": {},
     "output_type": "execute_result"
    }
   ],
   "source": [
    "ISC_arr.shape # wrong shape"
   ]
  },
  {
   "cell_type": "code",
   "execution_count": 37,
   "metadata": {},
   "outputs": [
    {
     "data": {
      "text/plain": [
       "(18, 179595, 8)"
      ]
     },
     "execution_count": 37,
     "metadata": {},
     "output_type": "execute_result"
    }
   ],
   "source": [
    "ISC_arr = np.swapaxes(ISC_arr, 0, 1) # need to get [TRs, voxels, subjects]\n",
    "ISC_arr = np.swapaxes(ISC_arr, 1, 2)\n",
    "\n",
    "ISC_arr.shape"
   ]
  },
  {
   "cell_type": "markdown",
   "metadata": {},
   "source": [
    "## 3. Compute ISC\n",
    "\n",
    "We correlate each voxel to each other respective voxel directly using the build in `isc()` method.\n",
    "\n",
    "ISC is the correlation of each voxel's time series for a participant with the corresponding (anatomically aligned) voxel time series in the average of the other participants' brains. BrainIAK has functions for computing ISC by feeding in the concatenated participant data.\n",
    "\n",
    "### 3.1 Do ISC to obtain a matrix\n",
    "\n",
    "- The blocks represent the time component, so the voxel time series for a voxel $v$ is one column in the matrix\n",
    "- Let $v=3$, then we want to know how much the column $v=3$ from subject $s$ is correlated with the average of the time series of column $3$ from all other participants."
   ]
  },
  {
   "cell_type": "code",
   "execution_count": 38,
   "metadata": {
    "scrolled": true
   },
   "outputs": [
    {
     "data": {
      "text/plain": [
       "(18, 179595, 7)"
      ]
     },
     "execution_count": 38,
     "metadata": {},
     "output_type": "execute_result"
    }
   ],
   "source": [
    "# compute mean matrix of 7 matrices\n",
    "sub = 2 # choose a subject\n",
    "\n",
    "M_sub = ISC_arr[:,:,sub] # take only subject matrix\n",
    "M_rest = np.delete(ISC_arr, sub, axis=2) # remove this subjects' data from data\n",
    "\n",
    "M_rest.shape"
   ]
  },
  {
   "cell_type": "code",
   "execution_count": 39,
   "metadata": {},
   "outputs": [
    {
     "data": {
      "text/plain": [
       "(18, 179595)"
      ]
     },
     "execution_count": 39,
     "metadata": {},
     "output_type": "execute_result"
    }
   ],
   "source": [
    "# compute average of other matrices\n",
    "M_rest_mean = np.mean(M_rest, axis=2)\n",
    "\n",
    "M_rest_mean.shape"
   ]
  },
  {
   "cell_type": "markdown",
   "metadata": {},
   "source": [
    "<font color=red>Each column represents a variable (voxel time series), while the rows contain observations (so `rowvar=False`). Matrix is too large leading to a dead kernel. </font>  [np correlation coeff](https://numpy.org/doc/stable/reference/generated/numpy.corrcoef.html)\n",
    "\n",
    "> [one option](https://stackoverflow.com/questions/52427933/how-to-calculate-a-very-large-correlation-matrix)"
   ]
  },
  {
   "cell_type": "code",
   "execution_count": null,
   "metadata": {},
   "outputs": [],
   "source": [
    "# now compute correlation between mean matrix & subj matrix\n",
    "C = np.corrcoef(M_sub, M_rest_mean, rowvar=False)\n",
    "print(C.shape)\n",
    "\n",
    "f, ax = plt.subplots(1,1, dpi=100)\n",
    "f.suptitle(f'ISC with subject {sub+1}')\n",
    "sns.heatmap(C, cmap='coolwarm', ax=ax);"
   ]
  },
  {
   "cell_type": "markdown",
   "metadata": {},
   "source": [
    "### 3.2 ISC with Brainiak\n",
    "\n",
    "\n",
    "### About `ISC(data)`\n",
    "\n",
    "- expects: `data (list or ndarray (n_TRs x n_voxels x n_subjects))` – fMRI data for which to compute ISC\n",
    "\n",
    "- For each voxel or ROI, compute the Pearson correlation between each subject’s response time series and other subjects’ response time series. \n",
    "- Output is an ndarray where the first dimension is the number of subjects or pairs and the second dimension is the number of voxels (or ROIs). If only two subjects are supplied or a summary statistic is invoked, the output is a ndarray n_voxels long.\n",
    "\n",
    "based on work in (Hasson 2004)."
   ]
  },
  {
   "cell_type": "code",
   "execution_count": 55,
   "metadata": {},
   "outputs": [],
   "source": [
    "isc_maps = isc(ISC_arr) # The output of ISC is a voxel by \n",
    "                           # participant matrix (showing the result of each individual with the group)."
   ]
  },
  {
   "cell_type": "code",
   "execution_count": 56,
   "metadata": {},
   "outputs": [
    {
     "data": {
      "text/plain": [
       "(8, 179595)"
      ]
     },
     "execution_count": 56,
     "metadata": {},
     "output_type": "execute_result"
    }
   ],
   "source": [
    "isc_maps.shape # subjects x voxels"
   ]
  },
  {
   "cell_type": "code",
   "execution_count": 57,
   "metadata": {
    "scrolled": false
   },
   "outputs": [
    {
     "data": {
      "text/plain": [
       "array([[ 0.27141404,  0.38958313,  0.38850114, ...,  0.31426416,\n",
       "         0.20801356, -0.06619789],\n",
       "       [-0.10634228,  0.29056467,  0.35181735, ..., -0.16632542,\n",
       "         0.05281726,  0.09085218],\n",
       "       [ 0.53980921,  0.28981233,  0.45037416, ...,  0.24245405,\n",
       "         0.56515957, -0.2053742 ],\n",
       "       ...,\n",
       "       [ 0.20601254, -0.29613722,  0.43698773, ..., -0.07314849,\n",
       "         0.08948639,  0.37530218],\n",
       "       [-0.11041902, -0.1271092 , -0.40551652, ..., -0.46277586,\n",
       "        -0.33732751, -0.21438313],\n",
       "       [ 0.47840461,  0.35921369,  0.1489104 , ...,  0.34571446,\n",
       "         0.32853423, -0.32193906]])"
      ]
     },
     "execution_count": 57,
     "metadata": {},
     "output_type": "execute_result"
    }
   ],
   "source": [
    "isc_maps"
   ]
  },
  {
   "cell_type": "code",
   "execution_count": 59,
   "metadata": {},
   "outputs": [],
   "source": [
    "# set params \n",
    "sub = 0\n",
    "\n",
    "coords_sub = np.where(mask_data[sub] == 1) \n",
    "\n",
    "# Make the ISC output a volume\n",
    "isc_vol = np.zeros(mask_data[sub].shape)\n",
    "\n",
    "# Map the ISC data for the first participant into brain space\n",
    "isc_vol[coords_sub] = isc_maps[sub,:]\n",
    "\n",
    "\n",
    "# make a nii image of the isc map \n",
    "isc_nifti = nib.Nifti1Image(isc_vol, brain_nii.affine, brain_nii.header)\n",
    "\n",
    "# # Save the ISC data as a volume\n",
    "# if save_data: \n",
    "#     isc_map_path = os.path.join(dir_out, 'ISC_%s_sub%.2d.nii.gz' % (task_name, subj_id))\n",
    "#     nib.save(isc_nifti, isc_map_path)"
   ]
  },
  {
   "cell_type": "code",
   "execution_count": null,
   "metadata": {},
   "outputs": [],
   "source": [
    "# Load the brain nii image\n",
    "brain_nii = nib.load(mask_name)\n",
    "\n",
    "# fig = plt.figure()\n",
    "# ax = plt.axes(projection=\"3d\")\n",
    "# ax.scatter3D(coords[0][::50], coords[1][::50], coords[2][::50]);# plot only every 50 indices (faster)\n",
    "\n",
    "# map the correlations b"
   ]
  },
  {
   "cell_type": "code",
   "execution_count": 196,
   "metadata": {},
   "outputs": [
    {
     "ename": "NameError",
     "evalue": "name 'brain_nii' is not defined",
     "output_type": "error",
     "traceback": [
      "\u001b[0;31m---------------------------------------------------------------------------\u001b[0m",
      "\u001b[0;31mNameError\u001b[0m                                 Traceback (most recent call last)",
      "\u001b[0;32m<ipython-input-196-b6ff07bd343f>\u001b[0m in \u001b[0;36m<module>\u001b[0;34m\u001b[0m\n\u001b[1;32m      1\u001b[0m \u001b[0;31m# Make the ISC output a volume\u001b[0m\u001b[0;34m\u001b[0m\u001b[0;34m\u001b[0m\u001b[0;34m\u001b[0m\u001b[0m\n\u001b[0;32m----> 2\u001b[0;31m \u001b[0misc_vol\u001b[0m \u001b[0;34m=\u001b[0m \u001b[0mnp\u001b[0m\u001b[0;34m.\u001b[0m\u001b[0mzeros\u001b[0m\u001b[0;34m(\u001b[0m\u001b[0mbrain_nii\u001b[0m\u001b[0;34m.\u001b[0m\u001b[0mshape\u001b[0m\u001b[0;34m)\u001b[0m\u001b[0;34m\u001b[0m\u001b[0;34m\u001b[0m\u001b[0m\n\u001b[0m\u001b[1;32m      3\u001b[0m \u001b[0;31m# Map the ISC data for the first participant into brain space\u001b[0m\u001b[0;34m\u001b[0m\u001b[0;34m\u001b[0m\u001b[0;34m\u001b[0m\u001b[0m\n\u001b[1;32m      4\u001b[0m \u001b[0misc_vol\u001b[0m\u001b[0;34m[\u001b[0m\u001b[0mcoords\u001b[0m\u001b[0;34m]\u001b[0m \u001b[0;34m=\u001b[0m \u001b[0misc_maps\u001b[0m\u001b[0;34m[\u001b[0m\u001b[0mtask_name\u001b[0m\u001b[0;34m]\u001b[0m\u001b[0;34m[\u001b[0m\u001b[0msubj_id\u001b[0m\u001b[0;34m,\u001b[0m \u001b[0;34m:\u001b[0m\u001b[0;34m]\u001b[0m\u001b[0;34m\u001b[0m\u001b[0;34m\u001b[0m\u001b[0m\n\u001b[1;32m      5\u001b[0m \u001b[0;31m# make a nii image of the isc map\u001b[0m\u001b[0;34m\u001b[0m\u001b[0;34m\u001b[0m\u001b[0;34m\u001b[0m\u001b[0m\n",
      "\u001b[0;31mNameError\u001b[0m: name 'brain_nii' is not defined"
     ]
    }
   ],
   "source": [
    "# Make the ISC output a volume\n",
    "isc_vol = np.zeros(brain_nii.shape)\n",
    "# Map the ISC data for the first participant into brain space\n",
    "isc_vol[coords] = isc_maps[task_name][subj_id, :]\n",
    "# make a nii image of the isc map \n",
    "isc_nifti = nib.Nifti1Image(isc_vol, brain_nii.affine, brain_nii.header)\n",
    "\n"
   ]
  },
  {
   "cell_type": "code",
   "execution_count": null,
   "metadata": {},
   "outputs": [],
   "source": [
    "df_corr_matrix = pd.DataFrame(corr_matrix)"
   ]
  },
  {
   "cell_type": "code",
   "execution_count": 173,
   "metadata": {},
   "outputs": [
    {
     "data": {
      "text/plain": [
       "<matplotlib.image.AxesImage at 0x1a2fff14d0>"
      ]
     },
     "execution_count": 173,
     "metadata": {},
     "output_type": "execute_result"
    },
    {
     "data": {
      "image/png": "[encoded data removed]",
      "text/plain": [
       "<Figure size 432x288 with 1 Axes>"
      ]
     },
     "metadata": {},
     "output_type": "display_data"
    }
   ],
   "source": [
    "plt.imshow(corr_matrix)"
   ]
  },
  {
   "cell_type": "code",
   "execution_count": null,
   "metadata": {},
   "outputs": [],
   "source": [
    "# now massage the data into the right shape \n"
   ]
  },
  {
   "cell_type": "code",
   "execution_count": null,
   "metadata": {},
   "outputs": [],
   "source": []
  },
  {
   "cell_type": "markdown",
   "metadata": {},
   "source": [
    "## 3. Permutation test for ISC"
   ]
  },
  {
   "cell_type": "code",
   "execution_count": null,
   "metadata": {},
   "outputs": [],
   "source": []
  },
  {
   "cell_type": "code",
   "execution_count": null,
   "metadata": {},
   "outputs": [],
   "source": []
  },
  {
   "cell_type": "markdown",
   "metadata": {},
   "source": [
    "## Useful terminology \n",
    "\n",
    "\n",
    "- trial: One presentation of the stimulus.\n",
    "- block: A sequence of trials of the same category. In the 'vdc' study, e.g. a block would consist of all face -- - trials. Usually, multiple blocks are presented to the participant.\n",
    "- run: A sequence of blocks presented to the participant. \n",
    "- TR: Also known as Repetition Time. It is the time interval at which pulses occur and signal is collected. It can thus be considered as the sampling period of the BOLD signal. "
   ]
  },
  {
   "cell_type": "code",
   "execution_count": null,
   "metadata": {},
   "outputs": [],
   "source": []
  },
  {
   "cell_type": "code",
   "execution_count": 21,
   "metadata": {},
   "outputs": [],
   "source": [
    "# # Open file                                                                                    \n",
    "# myfile = h5py.File(data_dir+filename,'r')\n",
    "\n",
    "# # Read the references                                                                          \n",
    "# ref_to_ds_0 = myfile['names'][0][0] # \n",
    "# print(ref_to_ds_0)\n",
    "\n",
    "# # Read the dataset                                                                             \n",
    "# ds_0 = myfile[ref_to_ds_0]\n",
    "# print(ds_0)\n",
    "\n",
    "# # Read the value in the dataset                                                                \n",
    "# data_0 = ds_0[:]\n",
    "# #print(data_0)\n",
    "\n",
    "# myfile.close()\n",
    "\n",
    "# #print(data_0) # WEIRD OUTPUT?? Should be names\n",
    "\n",
    "# chr(data_0[0])\n",
    "\n",
    "# for i in data_0:\n",
    "#     print(chr(i))"
   ]
  }
 ],
 "metadata": {
  "kernelspec": {
   "display_name": "brainiakEnv",
   "language": "python",
   "name": "brainiakenv"
  },
  "language_info": {
   "codemirror_mode": {
    "name": "ipython",
    "version": 3
   },
   "file_extension": ".py",
   "mimetype": "text/x-python",
   "name": "python",
   "nbconvert_exporter": "python",
   "pygments_lexer": "ipython3",
   "version": "3.7.7"
  }
 },
 "nbformat": 4,
 "nbformat_minor": 4
}
