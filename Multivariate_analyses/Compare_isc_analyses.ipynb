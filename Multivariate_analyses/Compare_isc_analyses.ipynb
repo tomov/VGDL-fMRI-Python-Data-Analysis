{
 "cells": [
  {
   "cell_type": "code",
   "execution_count": 1,
   "metadata": {},
   "outputs": [
    {
     "data": {
      "application/javascript": [
       "IPython.notebook.set_autosave_interval(30000)"
      ]
     },
     "metadata": {},
     "output_type": "display_data"
    },
    {
     "name": "stdout",
     "output_type": "stream",
     "text": [
      "Autosaving every 30 seconds\n"
     ]
    }
   ],
   "source": [
    "import h5py\n",
    "import warnings\n",
    "import sys \n",
    "if not sys.warnoptions:\n",
    "    warnings.simplefilter(\"ignore\")\n",
    "import os \n",
    "import glob\n",
    "import time\n",
    "from copy import deepcopy\n",
    "import numpy as np\n",
    "import pandas as pd \n",
    "\n",
    "from nilearn import datasets, image\n",
    "from nilearn import surface\n",
    "from nilearn import plotting\n",
    "from nilearn.input_data import NiftiMasker, NiftiLabelsMasker\n",
    "import nibabel as nib\n",
    "\n",
    "from brainiak import image, io\n",
    "from brainiak.isc import isc, isfc, permutation_isc\n",
    "from brainiak.isc import compute_summary_statistic\n",
    "import matplotlib.pyplot as plt\n",
    "from mpl_toolkits import mplot3d \n",
    "import seaborn as sns \n",
    "import pandas as pd\n",
    "from importlib import reload \n",
    "import scipy.io as sio\n",
    "\n",
    "# import own functions\n",
    "import utils\n",
    "reload(utils)\n",
    "from utils import decode_variable, get_in_shape_levels, get_in_shape_blocks, plot_sub_isc_statmap, plot_statmap_onesub\n",
    "from utils import plot_statmap_avg, surface_plot_avg, test_plot_statmap_avg\n",
    "\n",
    "%autosave 30\n",
    "%matplotlib inline\n",
    "sns.set(style = 'white', context='talk', font_scale=1, rc={\"lines.linewidth\": 2})"
   ]
  },
  {
   "cell_type": "code",
   "execution_count": 2,
   "metadata": {},
   "outputs": [],
   "source": [
    "# specify local path\n",
    "path = '/Users/Daphne/data/'\n",
    "\n",
    "# parameters\n",
    "num_subjects = 8\n",
    "\n",
    "# load all bold data\n",
    "games_betas = np.load(path+'bold_data_games.npy')\n",
    "blocks_betas = np.load(path+'bold_data_blocks.npy')\n",
    "levels_betas = np.load(path+'bold_data_levels.npy')\n",
    "# boxcar_betas = np.load(path+'bold_data_boxcar.npy')\n",
    "\n",
    "# load mask and get voxel coordinates\n",
    "mask_arr = np.load(path+'mask_arr.npy') # all masks are the same\n",
    "whole_brain_mask = mask_arr[0] # so we can pick any one from the array\n",
    "coords = np.where(whole_brain_mask == 1) # so need one set of voxel coordinates for all"
   ]
  },
  {
   "cell_type": "markdown",
   "metadata": {},
   "source": [
    "# Save"
   ]
  },
  {
   "cell_type": "code",
   "execution_count": 24,
   "metadata": {},
   "outputs": [],
   "source": [
    "#  --- choose type of data ---\n",
    "betas = levels_betas"
   ]
  },
  {
   "cell_type": "code",
   "execution_count": 25,
   "metadata": {},
   "outputs": [],
   "source": [
    "from utils import isc_onesub, array_correlation, get_significant_corrs, compute_avg_iscs"
   ]
  },
  {
   "cell_type": "code",
   "execution_count": 26,
   "metadata": {},
   "outputs": [
    {
     "name": "stdout",
     "output_type": "stream",
     "text": [
      "0\n",
      "1\n",
      "2\n",
      "3\n",
      "4\n",
      "5\n",
      "6\n",
      "7\n",
      "[[ 0.          0.          0.         ...  0.          0.\n",
      "   0.        ]\n",
      " [ 0.          0.          0.         ...  0.28666462  0.27016796\n",
      "   0.        ]\n",
      " [ 0.40445141  0.44137352  0.31407147 ...  0.          0.\n",
      "   0.        ]\n",
      " ...\n",
      " [ 0.          0.          0.         ...  0.          0.\n",
      "   0.        ]\n",
      " [-0.3093235  -0.3208494  -0.26808857 ...  0.          0.\n",
      "   0.        ]\n",
      " [ 0.          0.          0.         ...  0.          0.\n",
      "   0.        ]]\n"
     ]
    }
   ],
   "source": [
    "iscs_r = []\n",
    "iscs_pvalues = []\n",
    "\n",
    "# iterate through each subject\n",
    "for s in range(num_subjects): \n",
    "\n",
    "    iscs_r_sub, iscs_p_sub = isc_onesub(betas, s) \n",
    "    \n",
    "    # store subject data\n",
    "    iscs_r.append(iscs_r_sub)\n",
    "    iscs_pvalues.append(iscs_p_sub)\n",
    "    print(s)\n",
    "\n",
    "# convert to numpy arrays\n",
    "iscs_r_arr = np.array(iscs_r)\n",
    "iscs_pvalues_arr = np.array(iscs_pvalues)\n",
    "\n",
    "# get the significant values \n",
    "significant_r_coeffs = get_significant_corrs(iscs_r_arr=iscs_r_arr, iscs_pvalues_arr=iscs_pvalues_arr, alpha=0.05)\n",
    "print(significant_r_coeffs)"
   ]
  },
  {
   "cell_type": "code",
   "execution_count": 27,
   "metadata": {},
   "outputs": [],
   "source": [
    "# collapse iscs (also with utils)\n",
    "collapsed_isc_corrs = compute_avg_iscs(iscs_r_arr)"
   ]
  },
  {
   "cell_type": "markdown",
   "metadata": {},
   "source": [
    "Save:\n",
    "\n",
    "- iscs_r_arr\n",
    "- iscs_pvalues_arr\n",
    "- significant_r_coeffs\n",
    "- collapsed_isc_corrs"
   ]
  },
  {
   "cell_type": "code",
   "execution_count": 28,
   "metadata": {},
   "outputs": [],
   "source": [
    "sio.savemat('iscs_r_levels.mat', {'mydata': iscs_r_arr})"
   ]
  },
  {
   "cell_type": "code",
   "execution_count": 29,
   "metadata": {},
   "outputs": [],
   "source": [
    "sio.savemat('iscs_p_levels.mat', {'mydata': iscs_pvalues_arr})"
   ]
  },
  {
   "cell_type": "code",
   "execution_count": 30,
   "metadata": {},
   "outputs": [],
   "source": [
    "sio.savemat('significant_r_levels.mat', {'mydata': significant_r_coeffs})"
   ]
  },
  {
   "cell_type": "code",
   "execution_count": 31,
   "metadata": {},
   "outputs": [],
   "source": [
    "sio.savemat('collapsed_iscs_levels.mat', {'mydata': collapsed_isc_corrs})"
   ]
  },
  {
   "cell_type": "markdown",
   "metadata": {},
   "source": [
    "# Check if the outcomes are equal"
   ]
  },
  {
   "cell_type": "code",
   "execution_count": 32,
   "metadata": {},
   "outputs": [],
   "source": [
    "# compute the isc correlations using the leave one out approach\n",
    "isc_maps = isc(betas, pairwise=False)\n",
    "\n",
    "# compute the average across participants with brainiak\n",
    "avg_isc_corrs = isc(betas, pairwise=False, summary_statistic='mean', tolerate_nans=True) "
   ]
  },
  {
   "cell_type": "code",
   "execution_count": 33,
   "metadata": {},
   "outputs": [
    {
     "data": {
      "text/plain": [
       "array([[-0.08647298, -0.08264689,  0.05209291, ..., -0.04728233,\n",
       "        -0.02028276, -0.0585491 ],\n",
       "       [ 0.01931597,  0.04682847, -0.04335183, ...,  0.28666462,\n",
       "         0.27016796, -0.18529388],\n",
       "       [ 0.40445141,  0.44137352,  0.31407147, ...,  0.23743184,\n",
       "         0.15753744, -0.14028751],\n",
       "       ...,\n",
       "       [ 0.1656714 ,  0.11414849,  0.03646999, ..., -0.11111457,\n",
       "        -0.11722488,  0.23958578],\n",
       "       [-0.3093235 , -0.3208494 , -0.26808857, ...,  0.04332081,\n",
       "         0.14445493,  0.03816058],\n",
       "       [ 0.02986205,  0.04564478, -0.09362682, ...,  0.18391026,\n",
       "         0.20258632, -0.23755461]])"
      ]
     },
     "execution_count": 33,
     "metadata": {},
     "output_type": "execute_result"
    }
   ],
   "source": [
    "isc_maps"
   ]
  },
  {
   "cell_type": "code",
   "execution_count": 34,
   "metadata": {},
   "outputs": [
    {
     "data": {
      "text/plain": [
       "array([[-0.08647298, -0.08264689,  0.05209291, ..., -0.04728233,\n",
       "        -0.02028276, -0.0585491 ],\n",
       "       [ 0.01931597,  0.04682847, -0.04335183, ...,  0.28666462,\n",
       "         0.27016796, -0.18529388],\n",
       "       [ 0.40445141,  0.44137352,  0.31407147, ...,  0.23743184,\n",
       "         0.15753744, -0.14028751],\n",
       "       ...,\n",
       "       [ 0.1656714 ,  0.11414849,  0.03646999, ..., -0.11111457,\n",
       "        -0.11722488,  0.23958578],\n",
       "       [-0.3093235 , -0.3208494 , -0.26808857, ...,  0.04332081,\n",
       "         0.14445493,  0.03816058],\n",
       "       [ 0.02986205,  0.04564478, -0.09362682, ...,  0.18391026,\n",
       "         0.20258632, -0.23755461]])"
      ]
     },
     "execution_count": 34,
     "metadata": {},
     "output_type": "execute_result"
    }
   ],
   "source": [
    "iscs_r_arr"
   ]
  },
  {
   "cell_type": "code",
   "execution_count": 35,
   "metadata": {},
   "outputs": [
    {
     "data": {
      "text/plain": [
       "True"
      ]
     },
     "execution_count": 35,
     "metadata": {},
     "output_type": "execute_result"
    }
   ],
   "source": [
    "np.allclose(isc_maps, iscs_r_arr) # Returns True if two arrays are element-wise equal within a tolerance."
   ]
  },
  {
   "cell_type": "code",
   "execution_count": 36,
   "metadata": {},
   "outputs": [
    {
     "data": {
      "text/plain": [
       "array([ 0.01996267,  0.02655487, -0.04098616, ...,  0.10641914,\n",
       "        0.12673402, -0.01467338])"
      ]
     },
     "execution_count": 36,
     "metadata": {},
     "output_type": "execute_result"
    }
   ],
   "source": [
    "collapsed_isc_corrs # from utils"
   ]
  },
  {
   "cell_type": "code",
   "execution_count": 37,
   "metadata": {},
   "outputs": [
    {
     "data": {
      "text/plain": [
       "array([ 0.01996267,  0.02655487, -0.04098616, ...,  0.10641914,\n",
       "        0.12673402, -0.01467338])"
      ]
     },
     "execution_count": 37,
     "metadata": {},
     "output_type": "execute_result"
    }
   ],
   "source": [
    "avg_isc_corrs # from brainiak"
   ]
  },
  {
   "cell_type": "code",
   "execution_count": 38,
   "metadata": {},
   "outputs": [
    {
     "data": {
      "text/plain": [
       "True"
      ]
     },
     "execution_count": 38,
     "metadata": {},
     "output_type": "execute_result"
    }
   ],
   "source": [
    "np.allclose(collapsed_isc_corrs, avg_isc_corrs)"
   ]
  },
  {
   "cell_type": "code",
   "execution_count": null,
   "metadata": {},
   "outputs": [],
   "source": []
  }
 ],
 "metadata": {
  "kernelspec": {
   "display_name": "brainiakEnv",
   "language": "python",
   "name": "brainiakenv"
  },
  "language_info": {
   "codemirror_mode": {
    "name": "ipython",
    "version": 3
   },
   "file_extension": ".py",
   "mimetype": "text/x-python",
   "name": "python",
   "nbconvert_exporter": "python",
   "pygments_lexer": "ipython3",
   "version": "3.7.7"
  }
 },
 "nbformat": 4,
 "nbformat_minor": 2
}
