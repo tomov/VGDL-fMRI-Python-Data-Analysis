{
 "cells": [
  {
   "cell_type": "markdown",
   "metadata": {},
   "source": [
    "# Functional connectivity between subjects (ISFC)\n",
    "\n",
    "- Use the `levels_betas.npy` data\n",
    "\n",
    "see the [brainiak tutorial isc - 10](https://brainiak.org/tutorials/10-isc/) for more info\n",
    "\n",
    "> The goal of ISFC is to find coupling between brain regions across participants. For example the angular gyrus in subject 1 could be correlated to the pre-frontal cortex in subject 2, if they share some cognitive state. For completely random cognitive states across these two subjects, the correlation should be zero. ISFC helps us identify such commonalities across subjects."
   ]
  },
  {
   "cell_type": "code",
   "execution_count": 1,
   "metadata": {},
   "outputs": [
    {
     "data": {
      "application/javascript": [
       "IPython.notebook.set_autosave_interval(5000)"
      ]
     },
     "metadata": {},
     "output_type": "display_data"
    },
    {
     "name": "stdout",
     "output_type": "stream",
     "text": [
      "Autosaving every 5 seconds\n"
     ]
    }
   ],
   "source": [
    "import warnings\n",
    "import sys \n",
    "if not sys.warnoptions:\n",
    "    warnings.simplefilter(\"ignore\")\n",
    "import os \n",
    "import glob\n",
    "import time\n",
    "from copy import deepcopy\n",
    "import numpy as np\n",
    "import pandas as pd \n",
    "\n",
    "from nilearn import datasets\n",
    "from nilearn import surface\n",
    "from nilearn import plotting\n",
    "from nilearn.input_data import NiftiMasker, NiftiLabelsMasker\n",
    "import nibabel as nib\n",
    "\n",
    "from brainiak import image, io\n",
    "from brainiak.isc import isc, isfc, permutation_isc\n",
    "import matplotlib.pyplot as plt\n",
    "import seaborn as sns \n",
    "import utils\n",
    "\n",
    "%autosave 5\n",
    "%matplotlib inline\n",
    "sns.set(style = 'white', context='talk', font_scale=1, rc={\"lines.linewidth\": 2})"
   ]
  },
  {
   "cell_type": "code",
   "execution_count": 5,
   "metadata": {},
   "outputs": [],
   "source": [
    "# specify local path\n",
    "path = '/Users/Daphne/data/'\n",
    "\n",
    "# parameters\n",
    "num_subjects = 8\n",
    "\n",
    "# Betas\n",
    "levels_betas = np.load(path+'bold_data_levels.npy')\n",
    "\n",
    "# load mask and get voxel coordinates\n",
    "mask_arr = np.load(path+'mask_arr.npy') # all masks are the same\n",
    "mask_mat = mask_arr[0] # so we can pick any one from the array\n",
    "coords_mat = np.array(np.where(mask_mat == 1)) # so need one set of voxel coordinates for all\n",
    "coords_mat[[0, 2]] = coords_mat[[2, 0]] # exchange the rows\n",
    "\n",
    "'''load brain templates'''\n",
    "\n",
    "# mask_nii is the functional mask, this selects the brain voxels\n",
    "mask_nii = nib.load(os.path.join(path, 'mask.nii')) \n",
    "\n",
    "# we get the brain mask (boolean array) with the .dataobj method\n",
    "brain_mask = np.array(mask_nii.dataobj)\n",
    "\n",
    "# Get the list of nonzero voxel coordinates from the nii mask\n",
    "coords_nii = np.where(brain_mask)\n",
    "\n",
    "# this where we plot our mask ON (sometimes called brain_nii) - the anatomical/structural image\n",
    "mean_nii = nib.load(os.path.join(path, 'mean.nii')) \n",
    "\n",
    "# nosmooth betas mask, has less voxels than mask_nii\n",
    "nosmooth_mask_nii = nib.load(os.path.join(path, 'mask_nosmooth.nii'))"
   ]
  },
  {
   "cell_type": "code",
   "execution_count": 6,
   "metadata": {},
   "outputs": [
    {
     "data": {
      "text/plain": [
       "220075"
      ]
     },
     "execution_count": 6,
     "metadata": {},
     "output_type": "execute_result"
    }
   ],
   "source": [
    "len(levels_betas[0,:,0])"
   ]
  },
  {
   "cell_type": "markdown",
   "metadata": {},
   "source": [
    "# 1 Temporal ISFC"
   ]
  },
  {
   "cell_type": "markdown",
   "metadata": {},
   "source": [
    "## 1.1 Get the mni coordinates from Momchil and own analysis"
   ]
  },
  {
   "cell_type": "code",
   "execution_count": 10,
   "metadata": {},
   "outputs": [],
   "source": [
    "# taking voxels from the find_ROIs notebook\n",
    "mni_coords_roi1A = [48, 34,  8]\n",
    "mni_coords_roi1B = [-45, 22, 22]\n",
    "mni_coords_roi2 = [28, -66, 10]\n",
    "mni_coords_roi3 = [20, -92, -10]\n",
    "mni_coords_roi4 = [-6, 26, 44]\n",
    "mni_coords_roi5 = [-4, 36, 10]\n",
    "mni_coords_roi6 = [10, 8, -18]"
   ]
  },
  {
   "cell_type": "code",
   "execution_count": 11,
   "metadata": {},
   "outputs": [],
   "source": [
    "# Theory encoding voxels\n",
    "R_IFG_Tri_E = [42, 28, 26]\n",
    "L_Insula_E = [-30, 28, 2]\n",
    "R_DMPFC_E = [6, 38, 40]\n",
    "L_IFG_Tri_E = [-50, 44, 12]\n",
    "L_MTG_E = [-64, -50, 4]\n",
    "R_MTG_E = [58, -36, 8]"
   ]
  },
  {
   "cell_type": "code",
   "execution_count": 12,
   "metadata": {},
   "outputs": [],
   "source": [
    "# Theory updating voxels\n",
    "R_IFG_Oper_U = [48, 12, 28]\n",
    "L_PPC_U = [-56, -32, 46]\n",
    "R_IFG_Tri_U = [52, 38, 16]\n",
    "R_AG_U = [32, -60, 34]\n",
    "L_Fusiform_U = [-40, -58, -12]\n",
    "L_IFG_Oper_U = [-42, 4, 28]\n",
    "R_PHC_U = [26, -42, -8]"
   ]
  },
  {
   "cell_type": "code",
   "execution_count": 16,
   "metadata": {},
   "outputs": [],
   "source": [
    "# create mapping between roi name and mni coordinates\n",
    "roi_dict_momchil = {'R_IFG_Tri_E':R_IFG_Tri_E, 'L_Insula_E':L_Insula_E, 'R_DMPFC_E':R_DMPFC_E,\n",
    "            'L_IFG_Tri_E':L_IFG_Tri_E, 'L_MTG_E':L_MTG_E, 'R_MTG_E':R_MTG_E,\n",
    "            'R_IFG_Oper_U':R_IFG_Oper_U, 'L_PPC_U':L_PPC_U, 'R_IFG_Tri_U':R_IFG_Tri_U,\n",
    "            'R_AG_U':R_AG_U, 'L_Fusiform_U':L_Fusiform_U, 'L_IFG_Oper_U':L_IFG_Oper_U, \n",
    "            'R_PHC_U':R_PHC_U}\n",
    "\n",
    "roi_dict_daph = {'roi_1_A':[48, 34,  8], 'roi_1_B':[-45, 22, 22], 'roi_2':[28, -66, 10], \n",
    "                 'roi_3':[20, -92, -10], 'roi_4':[-6, 26, 44], 'roi_5':[-4, 36, 10], \n",
    "                 'roi_6':[10, 8, -18]}"
   ]
  },
  {
   "cell_type": "markdown",
   "metadata": {},
   "source": [
    "## 1.2 Select voxels from levels betas"
   ]
  },
  {
   "cell_type": "code",
   "execution_count": 18,
   "metadata": {},
   "outputs": [],
   "source": [
    "from nibabel.affines import apply_affine\n",
    "from numpy.linalg import inv\n",
    "# inverse of the affine matrix: mni2cor\n",
    "inv_affine = inv(mask_nii.affine) # get the transformation matrix"
   ]
  },
  {
   "cell_type": "code",
   "execution_count": 25,
   "metadata": {},
   "outputs": [
    {
     "name": "stdout",
     "output_type": "stream",
     "text": [
      "[42, 28, 26]\n",
      "The coordinates correspond to voxel: 146217.\n",
      "[-30, 28, 2]\n",
      "The coordinates correspond to voxel: 89655.\n",
      "[6, 38, 40]\n",
      "The coordinates correspond to voxel: 175423.\n",
      "[-50, 44, 12]\n",
      "The coordinates correspond to voxel: 114273.\n",
      "[-64, -50, 4]\n",
      "The coordinates correspond to voxel: 91966.\n",
      "[58, -36, 8]\n",
      "The coordinates correspond to voxel: 102081.\n",
      "[48, 12, 28]\n",
      "The coordinates correspond to voxel: 150132.\n",
      "[-56, -32, 46]\n",
      "The coordinates correspond to voxel: 184359.\n",
      "[52, 38, 16]\n",
      "The coordinates correspond to voxel: 123560.\n",
      "[32, -60, 34]\n",
      "The coordinates correspond to voxel: 160565.\n",
      "[-40, -58, -12]\n",
      "The coordinates correspond to voxel: 53783.\n",
      "[-42, 4, 28]\n",
      "The coordinates correspond to voxel: 149930.\n",
      "[26, -42, -8]\n",
      "The coordinates correspond to voxel: 63462.\n",
      "[48, 34, 8]\n",
      "The coordinates correspond to voxel: 104340.\n",
      "[-45, 22, 22]\n",
      "The coordinates correspond to voxel: 137098.\n",
      "[28, -66, 10]\n",
      "The coordinates correspond to voxel: 105967.\n",
      "[20, -92, -10]\n",
      "The coordinates correspond to voxel: 57453.\n",
      "[-6, 26, 44]\n",
      "The coordinates correspond to voxel: 182512.\n",
      "[-4, 36, 10]\n",
      "The coordinates correspond to voxel: 109243.\n",
      "[10, 8, -18]\n",
      "The coordinates correspond to voxel: 42904.\n"
     ]
    }
   ],
   "source": [
    "# get the voxels for all corresponding voxels above for later\n",
    "roi_voxel_indices = []\n",
    "\n",
    "for key, value in roi_dict_momchil.items():\n",
    "\n",
    "    coords_mni = value\n",
    "    print(coords_mni)\n",
    "    \n",
    "    coords_natv = apply_affine(aff=inv_affine, pts=coords_mni) # from mni2cor\n",
    "    vox_num = utils.get_vox_from_coords(coords_mat, coords_natv) # corresponding voxel\n",
    "    \n",
    "    roi_voxel_indices.append(vox_num)\n",
    "\n",
    "# =====\n",
    "\n",
    "for key, value in roi_dict_daph.items():\n",
    "\n",
    "    coords_mni = value\n",
    "    print(coords_mni)\n",
    "    \n",
    "    coords_natv = apply_affine(aff=inv_affine, pts=coords_mni) # from mni2cor\n",
    "    vox_num = utils.get_vox_from_coords(coords_mat, coords_natv) # corresponding voxel\n",
    "    \n",
    "    roi_voxel_indices.append(vox_num)"
   ]
  },
  {
   "cell_type": "code",
   "execution_count": 26,
   "metadata": {},
   "outputs": [
    {
     "data": {
      "text/plain": [
       "[146217,\n",
       " 89655,\n",
       " 175423,\n",
       " 114273,\n",
       " 91966,\n",
       " 102081,\n",
       " 150132,\n",
       " 184359,\n",
       " 123560,\n",
       " 160565,\n",
       " 53783,\n",
       " 149930,\n",
       " 63462,\n",
       " 104340,\n",
       " 137098,\n",
       " 105967,\n",
       " 57453,\n",
       " 182512,\n",
       " 109243,\n",
       " 42904]"
      ]
     },
     "execution_count": 26,
     "metadata": {},
     "output_type": "execute_result"
    }
   ],
   "source": [
    "roi_voxel_indices "
   ]
  },
  {
   "cell_type": "code",
   "execution_count": 28,
   "metadata": {},
   "outputs": [
    {
     "data": {
      "text/plain": [
       "(54, 220075, 8)"
      ]
     },
     "execution_count": 28,
     "metadata": {},
     "output_type": "execute_result"
    }
   ],
   "source": [
    "levels_betas.shape"
   ]
  },
  {
   "cell_type": "code",
   "execution_count": 34,
   "metadata": {
    "scrolled": true
   },
   "outputs": [
    {
     "data": {
      "text/plain": [
       "(54, 20, 8)"
      ]
     },
     "execution_count": 34,
     "metadata": {},
     "output_type": "execute_result"
    }
   ],
   "source": [
    "# select only the voxels from roi's\n",
    "roi_betas = levels_betas[:, roi_voxel_indices, :]\n",
    "\n",
    "roi_betas.shape"
   ]
  },
  {
   "cell_type": "markdown",
   "metadata": {},
   "source": [
    "## 1.3 Compute ISFC"
   ]
  },
  {
   "cell_type": "markdown",
   "metadata": {},
   "source": [
    "compare FC (functional connectivity) vs. ISFC (intersubject functional connectivity)\n",
    "\n",
    "- FC: within individuals\n",
    "- ISFC: between individuals"
   ]
  },
  {
   "cell_type": "code",
   "execution_count": 54,
   "metadata": {},
   "outputs": [],
   "source": [
    "# compute the isc correlations using the leave one out approach\n",
    "isfc_maps = isfc(data=roi_betas, targets=roi_betas, pairwise=False, vectorize_isfcs=False, tolerate_nans=True)"
   ]
  },
  {
   "cell_type": "code",
   "execution_count": 55,
   "metadata": {},
   "outputs": [
    {
     "data": {
      "text/plain": [
       "(8, 20, 20)"
      ]
     },
     "execution_count": 55,
     "metadata": {},
     "output_type": "execute_result"
    }
   ],
   "source": [
    "isfc_maps.shape"
   ]
  },
  {
   "cell_type": "code",
   "execution_count": 56,
   "metadata": {},
   "outputs": [
    {
     "data": {
      "text/plain": [
       "array([[[-0.07180496, -0.22536501, -0.1370735 , ..., -0.36370826,\n",
       "         -0.11529945, -0.24221475],\n",
       "        [ 0.05235149,  0.02244529,  0.10806112, ..., -0.0922384 ,\n",
       "          0.20800263,  0.03384658],\n",
       "        [-0.11259659, -0.14020793, -0.07827359, ..., -0.30085316,\n",
       "         -0.01126302, -0.09263467],\n",
       "        ...,\n",
       "        [ 0.23613711,  0.17680776,  0.30152789, ...,  0.12900238,\n",
       "          0.36346829,  0.29211068],\n",
       "        [ 0.08358248,  0.17372257,  0.2025727 , ...,  0.0157393 ,\n",
       "          0.2056213 ,  0.08110039],\n",
       "        [ 0.3450841 ,  0.24295831,  0.32831109, ...,  0.34686908,\n",
       "          0.40699321,  0.23309909]],\n",
       "\n",
       "       [[ 0.299844  ,  0.2865527 ,  0.20055752, ...,  0.20097962,\n",
       "          0.05772624,  0.11431574],\n",
       "        [ 0.45682812,  0.40944543,  0.37262964, ...,  0.34429914,\n",
       "          0.22534893,  0.20730439],\n",
       "        [ 0.34771088,  0.44018069,  0.35645416, ...,  0.39319092,\n",
       "          0.38799569,  0.30306855],\n",
       "        ...,\n",
       "        [ 0.2404943 ,  0.40949887,  0.1981101 , ...,  0.18083835,\n",
       "          0.31276301,  0.2126846 ],\n",
       "        [ 0.51233721,  0.21558549,  0.41256127, ...,  0.41972294,\n",
       "          0.10673328,  0.22621393],\n",
       "        [ 0.09327061,  0.19160864,  0.08859421, ...,  0.23958167,\n",
       "          0.26704153,  0.22390199]],\n",
       "\n",
       "       [[ 0.17421232,  0.07697091,  0.18237767, ...,  0.08805476,\n",
       "          0.04145424, -0.17158332],\n",
       "        [ 0.07299007,  0.13046841,  0.26181525, ...,  0.27550101,\n",
       "          0.25742269,  0.12011452],\n",
       "        [-0.22080398, -0.08531743, -0.11624427, ..., -0.20125394,\n",
       "         -0.18441613, -0.40321493],\n",
       "        ...,\n",
       "        [-0.05811014,  0.07970511, -0.0123208 , ...,  0.10242625,\n",
       "         -0.08944282, -0.10700323],\n",
       "        [ 0.03191476,  0.13101423,  0.32875985, ...,  0.24501392,\n",
       "          0.2369772 ,  0.09224004],\n",
       "        [ 0.28258622,  0.19413102,  0.36400592, ...,  0.2904343 ,\n",
       "          0.3018806 ,  0.18561165]],\n",
       "\n",
       "       ...,\n",
       "\n",
       "       [[ 0.1872659 ,  0.29860643,  0.31614649, ...,  0.54125381,\n",
       "          0.24924611,  0.59743637],\n",
       "        [ 0.20669129,  0.35328057,  0.21934152, ...,  0.3126747 ,\n",
       "          0.36000907,  0.0912297 ],\n",
       "        [ 0.14261533, -0.06973105, -0.09647586, ..., -0.19381748,\n",
       "         -0.09665482, -0.03046692],\n",
       "        ...,\n",
       "        [ 0.42774633,  0.3618004 ,  0.25181478, ...,  0.105866  ,\n",
       "          0.31252238, -0.02790819],\n",
       "        [-0.0909575 , -0.00357788, -0.04102168, ..., -0.08523975,\n",
       "          0.16274413,  0.10755888],\n",
       "        [ 0.06552313,  0.02434406,  0.01093539, ...,  0.15792362,\n",
       "          0.11818566,  0.13289863]],\n",
       "\n",
       "       [[ 0.18864934,  0.17559303,  0.16049528, ...,  0.26533395,\n",
       "          0.03162147,  0.17469127],\n",
       "        [ 0.32678941,  0.32946953,  0.30507842, ...,  0.37230009,\n",
       "          0.3135049 ,  0.34054765],\n",
       "        [ 0.18125038,  0.07657809,  0.04724123, ...,  0.19095555,\n",
       "          0.14802063,  0.26794302],\n",
       "        ...,\n",
       "        [ 0.05173757,  0.30263218,  0.20793094, ...,  0.20013997,\n",
       "          0.23260835,  0.19285341],\n",
       "        [ 0.18227415,  0.1246919 ,  0.18866482, ...,  0.22748828,\n",
       "          0.22118078,  0.20008166],\n",
       "        [ 0.37838802,  0.2724672 ,  0.22016396, ...,  0.32364535,\n",
       "          0.29946384,  0.21955296]],\n",
       "\n",
       "       [[ 0.22110441,  0.23639716,  0.04762911, ...,  0.21389405,\n",
       "          0.03678991, -0.06413291],\n",
       "        [ 0.00621218,  0.0293447 ,  0.01306535, ...,  0.07618816,\n",
       "         -0.03530198, -0.18347132],\n",
       "        [ 0.27168608,  0.25179517,  0.22574539, ...,  0.28431499,\n",
       "          0.17851847,  0.04370938],\n",
       "        ...,\n",
       "        [ 0.23123047,  0.17075716,  0.0308197 , ...,  0.15951684,\n",
       "         -0.0308807 , -0.07196997],\n",
       "        [ 0.15059778,  0.14856207,  0.21191649, ...,  0.11687781,\n",
       "          0.19874737,  0.04259498],\n",
       "        [ 0.39531136,  0.1938391 ,  0.43446255, ...,  0.25649714,\n",
       "          0.31454778,  0.21088834]]])"
      ]
     },
     "execution_count": 56,
     "metadata": {},
     "output_type": "execute_result"
    }
   ],
   "source": [
    "isfc_maps"
   ]
  },
  {
   "cell_type": "markdown",
   "metadata": {},
   "source": [
    "## 1.4 Average "
   ]
  },
  {
   "cell_type": "code",
   "execution_count": null,
   "metadata": {},
   "outputs": [],
   "source": []
  },
  {
   "cell_type": "code",
   "execution_count": null,
   "metadata": {},
   "outputs": [],
   "source": []
  },
  {
   "cell_type": "code",
   "execution_count": null,
   "metadata": {},
   "outputs": [],
   "source": []
  },
  {
   "cell_type": "markdown",
   "metadata": {},
   "source": [
    "# 2 Spatial IFSC"
   ]
  },
  {
   "cell_type": "markdown",
   "metadata": {},
   "source": [
    "We can apply the idea of inter-subject analysis to RSA. So far, ISC is being computed between aligned pairs of voxels across time points and it is commonly referred to as temporal ISC. However, we could instead correlate between aligned pairs of time points across voxels. That is, how does the pattern of activity across voxels for one time point correlate with the average pattern of the other participants at that time point. By doing this for each time point, we can generate a time course of these correlations to observe the general ebb and flow of coupling in brain activity across participants. This can be done simply by transposing the voxel and time dimensions (for a 3-D matrix, this is accomplished with a 90 degree rotation). This is a simple transposition. If we have data in the format: (TRs, voxels, subjects), we can use data.transpose(1,0,2), where the indices refer to the dimensions of the array and we will have an array in the format (voxels, TRs, subjects)."
   ]
  },
  {
   "cell_type": "code",
   "execution_count": null,
   "metadata": {},
   "outputs": [],
   "source": []
  }
 ],
 "metadata": {
  "kernelspec": {
   "display_name": "brainiakEnv",
   "language": "python",
   "name": "brainiakenv"
  },
  "language_info": {
   "codemirror_mode": {
    "name": "ipython",
    "version": 3
   },
   "file_extension": ".py",
   "mimetype": "text/x-python",
   "name": "python",
   "nbconvert_exporter": "python",
   "pygments_lexer": "ipython3",
   "version": "3.7.7"
  }
 },
 "nbformat": 4,
 "nbformat_minor": 2
}
