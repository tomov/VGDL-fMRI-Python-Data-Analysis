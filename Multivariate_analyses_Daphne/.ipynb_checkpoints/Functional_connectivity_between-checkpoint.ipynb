{
 "cells": [
  {
   "cell_type": "markdown",
   "metadata": {},
   "source": [
    "# Functional connectivity between subjects (ISFC)\n",
    "\n",
    "- Use the `levels_betas.npy` data\n",
    "\n",
    "see the [brainiak tutorial isc - 10](https://brainiak.org/tutorials/10-isc/) for more info\n",
    "\n",
    "> The goal of ISFC is to find coupling between brain regions across participants. For example the angular gyrus in subject 1 could be correlated to the pre-frontal cortex in subject 2, if they share some cognitive state. For completely random cognitive states across these two subjects, the correlation should be zero. ISFC helps us identify such commonalities across subjects.\n",
    "\n",
    "from [Hasson Lab](https://www.hassonlab.com/inter-subject-functional)\n",
    "\n",
    "> The inter-subject functional coherence (ISFC) differs from standard FC analysis in one crucial way: it is calculated *across brains* rather than within brains. The ISFC method provides a novel way to isolate the stimulus-locked response component of each functional network, by correlating the response timecourse across brains.\n",
    "\n",
    "The ISFC method allows us to track the stimulus-locked brain processes within a network during the processing of real-life stimuli and to study the dynamical evolution of network architectures during real-life information processing.\n",
    "\n",
    "See also [(Simony et al., 2016)](https://b0e95918-69fa-461c-8a44-239d3f2b4c80.filesusr.com/ugd/b75639_92eab30b43284ca0bd163e3daa709eda.pdf) for more info\n",
    "\n",
    "\n",
    "![](https://static.wixstatic.com/media/b75639_39011daec8674fad91e66441441bc367.jpg/v1/fill/w_576,h_437,al_c,q_80,usm_0.66_1.00_0.01/b75639_39011daec8674fad91e66441441bc367.webp)\n"
   ]
  },
  {
   "cell_type": "code",
   "execution_count": 16,
   "metadata": {},
   "outputs": [
    {
     "data": {
      "application/javascript": [
       "IPython.notebook.set_autosave_interval(5000)"
      ]
     },
     "metadata": {},
     "output_type": "display_data"
    },
    {
     "name": "stdout",
     "output_type": "stream",
     "text": [
      "Autosaving every 5 seconds\n"
     ]
    }
   ],
   "source": [
    "import warnings\n",
    "import sys \n",
    "if not sys.warnoptions:\n",
    "    warnings.simplefilter(\"ignore\")\n",
    "import os \n",
    "import glob\n",
    "import time\n",
    "from copy import deepcopy\n",
    "import numpy as np\n",
    "import pandas as pd \n",
    "\n",
    "from nilearn import datasets\n",
    "from nilearn import surface\n",
    "from nilearn import plotting\n",
    "from nilearn.input_data import NiftiMasker, NiftiLabelsMasker\n",
    "import nibabel as nib\n",
    "\n",
    "from brainiak import image, io\n",
    "from brainiak.isc import isc, isfc, permutation_isc\n",
    "import matplotlib.pyplot as plt\n",
    "import seaborn as sns \n",
    "import utils\n",
    "\n",
    "%autosave 5\n",
    "%matplotlib inline\n",
    "sns.set(style = 'white', context='talk', font_scale=1, rc={\"lines.linewidth\": 2})"
   ]
  },
  {
   "cell_type": "code",
   "execution_count": 17,
   "metadata": {},
   "outputs": [],
   "source": [
    "# specify local path\n",
    "path = '/Users/Daphne/data/'\n",
    "\n",
    "# parameters\n",
    "num_subjects = 8\n",
    "\n",
    "# Betas\n",
    "levels_betas = np.load(path+'bold_data_levels.npy')\n",
    "\n",
    "# load mask and get voxel coordinates\n",
    "mask_arr = np.load(path+'mask_arr.npy') # all masks are the same\n",
    "mask_mat = mask_arr[0] # so we can pick any one from the array\n",
    "coords_mat = np.array(np.where(mask_mat == 1)) # so need one set of voxel coordinates for all\n",
    "coords_mat[[0, 2]] = coords_mat[[2, 0]] # exchange the rows\n",
    "\n",
    "'''load brain templates'''\n",
    "\n",
    "# mask_nii is the functional mask, this selects the brain voxels\n",
    "mask_nii = nib.load(os.path.join(path, 'mask.nii')) \n",
    "\n",
    "# we get the brain mask (boolean array) with the .dataobj method\n",
    "brain_mask = np.array(mask_nii.dataobj)\n",
    "\n",
    "# Get the list of nonzero voxel coordinates from the nii mask\n",
    "coords_nii = np.where(brain_mask)\n",
    "\n",
    "# this where we plot our mask ON (sometimes called brain_nii) - the anatomical/structural image\n",
    "mean_nii = nib.load(os.path.join(path, 'mean.nii')) \n",
    "\n",
    "# nosmooth betas mask, has less voxels than mask_nii\n",
    "nosmooth_mask_nii = nib.load(os.path.join(path, 'mask_nosmooth.nii'))"
   ]
  },
  {
   "cell_type": "code",
   "execution_count": 18,
   "metadata": {},
   "outputs": [
    {
     "data": {
      "text/plain": [
       "220075"
      ]
     },
     "execution_count": 18,
     "metadata": {},
     "output_type": "execute_result"
    }
   ],
   "source": [
    "len(levels_betas[0,:,0])"
   ]
  },
  {
   "cell_type": "markdown",
   "metadata": {},
   "source": [
    "# 1 Temporal ISFC"
   ]
  },
  {
   "cell_type": "markdown",
   "metadata": {},
   "source": [
    "## 1.1 Get the mni coordinates from Momchil and own analysis"
   ]
  },
  {
   "cell_type": "code",
   "execution_count": 19,
   "metadata": {},
   "outputs": [],
   "source": [
    "# taking voxels from the find_ROIs notebook\n",
    "mni_coords_roi1A = [48, 34,  8]\n",
    "mni_coords_roi1B = [-45, 22, 22]\n",
    "mni_coords_roi2 = [28, -66, 10]\n",
    "mni_coords_roi3 = [20, -92, -10]\n",
    "mni_coords_roi4 = [-6, 26, 44]\n",
    "mni_coords_roi5 = [-4, 36, 10]\n",
    "mni_coords_roi6 = [10, 8, -18]"
   ]
  },
  {
   "cell_type": "code",
   "execution_count": 20,
   "metadata": {},
   "outputs": [],
   "source": [
    "# Theory encoding voxels\n",
    "R_IFG_Tri_E = [42, 28, 26]\n",
    "L_Insula_E = [-30, 28, 2]\n",
    "R_DMPFC_E = [6, 38, 40]\n",
    "L_IFG_Tri_E = [-50, 44, 12]\n",
    "L_MTG_E = [-64, -50, 4]\n",
    "R_MTG_E = [58, -36, 8]"
   ]
  },
  {
   "cell_type": "code",
   "execution_count": 21,
   "metadata": {},
   "outputs": [],
   "source": [
    "# Theory updating voxels\n",
    "R_IFG_Oper_U = [48, 12, 28]\n",
    "L_PPC_U = [-56, -32, 46]\n",
    "R_IFG_Tri_U = [52, 38, 16]\n",
    "R_AG_U = [32, -60, 34]\n",
    "L_Fusiform_U = [-40, -58, -12]\n",
    "L_IFG_Oper_U = [-42, 4, 28]\n",
    "R_PHC_U = [26, -42, -8]"
   ]
  },
  {
   "cell_type": "code",
   "execution_count": 39,
   "metadata": {},
   "outputs": [],
   "source": [
    "# create mapping between roi name and mni coordinates\n",
    "roi_dict_momchil = {'R_IFG_Tri_E':R_IFG_Tri_E, 'L_Insula_E':L_Insula_E, 'R_DMPFC_E':R_DMPFC_E,\n",
    "            'L_IFG_Tri_E':L_IFG_Tri_E, 'L_MTG_E':L_MTG_E, 'R_MTG_E':R_MTG_E,\n",
    "            'R_IFG_Oper_U':R_IFG_Oper_U, 'L_PPC_U':L_PPC_U, 'R_IFG_Tri_U':R_IFG_Tri_U,\n",
    "            'R_AG_U':R_AG_U, 'L_Fusiform_U':L_Fusiform_U, 'L_IFG_Oper_U':L_IFG_Oper_U, \n",
    "            'R_PHC_U':R_PHC_U}\n",
    "\n",
    "roi_dict_daph = {'roi_1_A':[48, 34,  8], 'roi_1_B':[-45, 22, 22], 'roi_2':[28, -66, 10], \n",
    "                 'roi_3':[20, -92, -10], 'roi_4':[-6, 26, 44], 'roi_5':[-4, 36, 10], \n",
    "                 'roi_6':[10, 8, -18]}\n",
    "\n",
    "# combine in one\n",
    "all_dict = {**roi_dict_momchil, **roi_dict_daph}"
   ]
  },
  {
   "cell_type": "code",
   "execution_count": 40,
   "metadata": {},
   "outputs": [
    {
     "data": {
      "text/plain": [
       "{'R_IFG_Tri_E': [42, 28, 26],\n",
       " 'L_Insula_E': [-30, 28, 2],\n",
       " 'R_DMPFC_E': [6, 38, 40],\n",
       " 'L_IFG_Tri_E': [-50, 44, 12],\n",
       " 'L_MTG_E': [-64, -50, 4],\n",
       " 'R_MTG_E': [58, -36, 8],\n",
       " 'R_IFG_Oper_U': [48, 12, 28],\n",
       " 'L_PPC_U': [-56, -32, 46],\n",
       " 'R_IFG_Tri_U': [52, 38, 16],\n",
       " 'R_AG_U': [32, -60, 34],\n",
       " 'L_Fusiform_U': [-40, -58, -12],\n",
       " 'L_IFG_Oper_U': [-42, 4, 28],\n",
       " 'R_PHC_U': [26, -42, -8],\n",
       " 'roi_1_A': [48, 34, 8],\n",
       " 'roi_1_B': [-45, 22, 22],\n",
       " 'roi_2': [28, -66, 10],\n",
       " 'roi_3': [20, -92, -10],\n",
       " 'roi_4': [-6, 26, 44],\n",
       " 'roi_5': [-4, 36, 10],\n",
       " 'roi_6': [10, 8, -18]}"
      ]
     },
     "execution_count": 40,
     "metadata": {},
     "output_type": "execute_result"
    }
   ],
   "source": [
    "all_dict"
   ]
  },
  {
   "cell_type": "markdown",
   "metadata": {},
   "source": [
    "## 1.2 Select voxels from levels betas"
   ]
  },
  {
   "cell_type": "code",
   "execution_count": 8,
   "metadata": {},
   "outputs": [],
   "source": [
    "from nibabel.affines import apply_affine\n",
    "from numpy.linalg import inv\n",
    "# inverse of the affine matrix: mni2cor\n",
    "inv_affine = inv(mask_nii.affine) # get the transformation matrix"
   ]
  },
  {
   "cell_type": "code",
   "execution_count": 9,
   "metadata": {},
   "outputs": [
    {
     "name": "stdout",
     "output_type": "stream",
     "text": [
      "[42, 28, 26]\n",
      "The coordinates correspond to voxel: 146217.\n",
      "[-30, 28, 2]\n",
      "The coordinates correspond to voxel: 89655.\n",
      "[6, 38, 40]\n",
      "The coordinates correspond to voxel: 175423.\n",
      "[-50, 44, 12]\n",
      "The coordinates correspond to voxel: 114273.\n",
      "[-64, -50, 4]\n",
      "The coordinates correspond to voxel: 91966.\n",
      "[58, -36, 8]\n",
      "The coordinates correspond to voxel: 102081.\n",
      "[48, 12, 28]\n",
      "The coordinates correspond to voxel: 150132.\n",
      "[-56, -32, 46]\n",
      "The coordinates correspond to voxel: 184359.\n",
      "[52, 38, 16]\n",
      "The coordinates correspond to voxel: 123560.\n",
      "[32, -60, 34]\n",
      "The coordinates correspond to voxel: 160565.\n",
      "[-40, -58, -12]\n",
      "The coordinates correspond to voxel: 53783.\n",
      "[-42, 4, 28]\n",
      "The coordinates correspond to voxel: 149930.\n",
      "[26, -42, -8]\n",
      "The coordinates correspond to voxel: 63462.\n",
      "[48, 34, 8]\n",
      "The coordinates correspond to voxel: 104340.\n",
      "[-45, 22, 22]\n",
      "The coordinates correspond to voxel: 137098.\n",
      "[28, -66, 10]\n",
      "The coordinates correspond to voxel: 105967.\n",
      "[20, -92, -10]\n",
      "The coordinates correspond to voxel: 57453.\n",
      "[-6, 26, 44]\n",
      "The coordinates correspond to voxel: 182512.\n",
      "[-4, 36, 10]\n",
      "The coordinates correspond to voxel: 109243.\n",
      "[10, 8, -18]\n",
      "The coordinates correspond to voxel: 42904.\n"
     ]
    }
   ],
   "source": [
    "# get the voxels for all corresponding voxels above for later\n",
    "roi_voxel_indices = []\n",
    "\n",
    "for key, value in roi_dict_momchil.items():\n",
    "\n",
    "    coords_mni = value\n",
    "    print(coords_mni)\n",
    "    \n",
    "    coords_natv = apply_affine(aff=inv_affine, pts=coords_mni) # from mni2cor\n",
    "    vox_num = utils.get_vox_from_coords(coords_mat, coords_natv) # corresponding voxel\n",
    "    \n",
    "    roi_voxel_indices.append(vox_num)\n",
    "\n",
    "# =====\n",
    "\n",
    "for key, value in roi_dict_daph.items():\n",
    "\n",
    "    coords_mni = value\n",
    "    print(coords_mni)\n",
    "    \n",
    "    coords_natv = apply_affine(aff=inv_affine, pts=coords_mni) # from mni2cor\n",
    "    vox_num = utils.get_vox_from_coords(coords_mat, coords_natv) # corresponding voxel\n",
    "    \n",
    "    roi_voxel_indices.append(vox_num)"
   ]
  },
  {
   "cell_type": "code",
   "execution_count": 22,
   "metadata": {},
   "outputs": [
    {
     "data": {
      "text/plain": [
       "20"
      ]
     },
     "execution_count": 22,
     "metadata": {},
     "output_type": "execute_result"
    }
   ],
   "source": [
    "len(roi_voxel_indices )"
   ]
  },
  {
   "cell_type": "code",
   "execution_count": 33,
   "metadata": {},
   "outputs": [
    {
     "data": {
      "text/plain": [
       "[146217,\n",
       " 89655,\n",
       " 175423,\n",
       " 114273,\n",
       " 91966,\n",
       " 102081,\n",
       " 150132,\n",
       " 184359,\n",
       " 123560,\n",
       " 160565,\n",
       " 53783,\n",
       " 149930,\n",
       " 63462,\n",
       " 104340,\n",
       " 137098,\n",
       " 105967,\n",
       " 57453,\n",
       " 182512,\n",
       " 109243,\n",
       " 42904]"
      ]
     },
     "execution_count": 33,
     "metadata": {},
     "output_type": "execute_result"
    }
   ],
   "source": [
    "roi_voxel_indices "
   ]
  },
  {
   "cell_type": "code",
   "execution_count": 11,
   "metadata": {},
   "outputs": [
    {
     "data": {
      "text/plain": [
       "(54, 220075, 8)"
      ]
     },
     "execution_count": 11,
     "metadata": {},
     "output_type": "execute_result"
    }
   ],
   "source": [
    "levels_betas.shape"
   ]
  },
  {
   "cell_type": "code",
   "execution_count": 34,
   "metadata": {
    "scrolled": true
   },
   "outputs": [
    {
     "data": {
      "text/plain": [
       "(54, 20, 8)"
      ]
     },
     "execution_count": 34,
     "metadata": {},
     "output_type": "execute_result"
    }
   ],
   "source": [
    "# select only the voxels from roi's\n",
    "roi_betas = levels_betas[:, roi_voxel_indices, :]\n",
    "\n",
    "roi_betas.shape # n_TRs, voxels, subjects"
   ]
  },
  {
   "cell_type": "markdown",
   "metadata": {},
   "source": [
    "## 1.3 Compute ISFC"
   ]
  },
  {
   "cell_type": "markdown",
   "metadata": {},
   "source": [
    "To emphasize, the difference between FC (functional connectivity) vs. ISFC (intersubject functional connectivity)\n",
    "- FC: within individuals\n",
    "- ISFC: between individuals\n",
    "\n",
    "---\n",
    "\n",
    "From Methods section (p.11) [(Simony et al., 2016)](https://b0e95918-69fa-461c-8a44-239d3f2b4c80.filesusr.com/ugd/b75639_92eab30b43284ca0bd163e3daa709eda.pdf)\n",
    "\n",
    "> Seed-based ISFC is the Pearson correlation between a time course extracted from one region in subject $X$ and all other regions in subject $Y$.\n",
    "\n",
    "\n",
    "*Seed-based ISFC*. Seed-based ISFC is a special case of network-based ISFC: it is\n",
    "the Pearson correlation between the response time course in one brain region in\n",
    "one subject and the average response time courses in all voxels of all other subjects.\n",
    "Hence, seed-based ISFC is a one-dimensional correlation map of length $p$ (that is, it\n",
    "is a single row of the $p \\times p$ ISFC matrix).\n",
    "\n",
    "\n",
    "[Brainiak implements the ISFC analysis](https://brainiak.org/docs/brainiak.html#module-brainiak.isc) as specified in (Simony et al., 2016)\n",
    "\n",
    "    - For each input voxel or ROI, compute the Pearson correlation between each subject’s response time series and all input voxels or ROIs in other subjects.\n",
    "    - If pairwise is False (default), use the leave-one-out approach, where correlation is computed between each subject and the average of the other subjects. (If pairwise is True, compute correlations between all pairs of subjects)\n",
    "    - Alternatively, use either ‘mean’ or ‘median’ to compute summary statistic of ISFCs (Fisher Z is applied if using mean)."
   ]
  },
  {
   "cell_type": "code",
   "execution_count": 41,
   "metadata": {},
   "outputs": [],
   "source": [
    "# compute the isc correlations using the leave one out approach\n",
    "isfc_maps = isfc(data=roi_betas, targets=roi_betas, pairwise=False, vectorize_isfcs=False, tolerate_nans=True, summary_statistic='mean')"
   ]
  },
  {
   "cell_type": "code",
   "execution_count": 42,
   "metadata": {},
   "outputs": [
    {
     "data": {
      "text/plain": [
       "(20, 20)"
      ]
     },
     "execution_count": 42,
     "metadata": {},
     "output_type": "execute_result"
    }
   ],
   "source": [
    "isfc_maps.shape"
   ]
  },
  {
   "cell_type": "code",
   "execution_count": 43,
   "metadata": {},
   "outputs": [
    {
     "data": {
      "text/plain": [
       "array([[ 0.23721051,  0.20022825,  0.18115882,  0.20783902,  0.14658667,\n",
       "         0.06440738,  0.16814362,  0.05661669,  0.06911121,  0.00677578,\n",
       "         0.16382061,  0.17371065, -0.01803527,  0.15053839,  0.23448364,\n",
       "        -0.01970367,  0.09838886,  0.23594334,  0.10363073,  0.18287024],\n",
       "       [ 0.19889467,  0.2244189 ,  0.20558719,  0.17427401,  0.06047763,\n",
       "         0.07779142,  0.13493379, -0.01262532,  0.12510714, -0.03235124,\n",
       "         0.13607644,  0.08423817,  0.03670877,  0.22017827,  0.19818309,\n",
       "        -0.02883692,  0.05236762,  0.2456651 ,  0.21018725,  0.15029857],\n",
       "       [ 0.14018969,  0.15881441,  0.11831632,  0.16594976,  0.03658918,\n",
       "         0.0201937 ,  0.02286108, -0.00293119,  0.04488484, -0.1264729 ,\n",
       "         0.07675056,  0.017308  , -0.02054831,  0.15995063,  0.13484994,\n",
       "        -0.01646422, -0.00311426,  0.12172809,  0.15192765,  0.11315064],\n",
       "       [ 0.1841406 ,  0.14975168,  0.20548793,  0.08746901,  0.11272786,\n",
       "         0.03829482,  0.08694695,  0.0460941 ,  0.11423215, -0.05891604,\n",
       "         0.10634585,  0.0970971 , -0.01125099,  0.20825165,  0.20532456,\n",
       "         0.0520748 ,  0.08200723,  0.14167487,  0.14481381,  0.09847599],\n",
       "       [ 0.12718564,  0.04171013,  0.05583118,  0.08799238, -0.01754756,\n",
       "        -0.02863639,  0.0411507 , -0.02255941,  0.02840054, -0.09413797,\n",
       "         0.04068211,  0.06321487, -0.05080723,  0.07929154,  0.12599223,\n",
       "        -0.09075413, -0.03448543,  0.08775567,  0.04881365,  0.06391127],\n",
       "       [ 0.04050027,  0.06644414,  0.05096093,  0.06276537, -0.01661119,\n",
       "         0.03816934,  0.00988671, -0.05707671,  0.06659705, -0.14403477,\n",
       "         0.06307679, -0.0396095 ,  0.01219966,  0.07565518,  0.00513144,\n",
       "         0.02560061,  0.02177285,  0.09436245,  0.0855417 ,  0.11738153],\n",
       "       [ 0.11727323,  0.10186212,  0.04226212,  0.06909373,  0.02321894,\n",
       "        -0.01488691, -0.00868023, -0.04170921,  0.00732059, -0.08210008,\n",
       "         0.0643448 ,  0.0156398 , -0.01650644,  0.04253881,  0.10414392,\n",
       "        -0.0271285 ,  0.04345158,  0.09054099,  0.04986036,  0.07680202],\n",
       "       [ 0.05381479,  0.0096236 ,  0.03882936,  0.02514514, -0.01171514,\n",
       "        -0.0619583 , -0.01864085,  0.07325505,  0.02537799, -0.02510413,\n",
       "         0.03455592,  0.04273337, -0.03106436,  0.04869782,  0.08560966,\n",
       "         0.00710591,  0.09046089,  0.01381566, -0.05162772, -0.03252583],\n",
       "       [ 0.05926559,  0.10673519,  0.08757173,  0.09721664,  0.02449037,\n",
       "         0.05663256,  0.02094996,  0.01971394,  0.02826906, -0.08483763,\n",
       "         0.11931322,  0.05235928,  0.03308009,  0.11275298,  0.0961332 ,\n",
       "         0.06617235,  0.10915274,  0.11652448,  0.07454954,  0.11071813],\n",
       "       [-0.00552138, -0.0176808 , -0.08892422, -0.08554203, -0.12398209,\n",
       "        -0.13430916, -0.08549236, -0.04105237, -0.0695408 ,  0.01423745,\n",
       "        -0.07759236, -0.02491622, -0.0349909 , -0.08820232, -0.02560232,\n",
       "        -0.04487062,  0.05755414, -0.07857404, -0.10687682, -0.11083966],\n",
       "       [ 0.12858115,  0.12042619,  0.12683778,  0.09074022,  0.06341606,\n",
       "         0.07002039,  0.08501934,  0.00757485,  0.1352133 , -0.06936123,\n",
       "         0.0335432 ,  0.08913947,  0.01343246,  0.13573816,  0.13872532,\n",
       "         0.03083238,  0.04194249,  0.11918725,  0.10133219,  0.11253281],\n",
       "       [ 0.14488676,  0.09111996,  0.06439639,  0.09956808,  0.02853274,\n",
       "        -0.06060507,  0.02170531,  0.04562143,  0.03669207, -0.00031021,\n",
       "         0.08649046,  0.07435664, -0.02825077,  0.09800133,  0.17984695,\n",
       "        -0.05357138,  0.13301447,  0.06714572,  0.03265672,  0.02444034],\n",
       "       [-0.04633245, -0.00273333, -0.01415576, -0.05197133, -0.08485373,\n",
       "        -0.01659299, -0.04643533, -0.0425581 ,  0.0220357 , -0.03064019,\n",
       "        -0.03172712, -0.06109142, -0.00524385, -0.03462549, -0.04448556,\n",
       "        -0.0134123 ,  0.01340193, -0.02636938, -0.00207692, -0.01822576],\n",
       "       [ 0.18732787,  0.25765959,  0.23806132,  0.23573657,  0.16108658,\n",
       "         0.10601148,  0.09731281,  0.07263727,  0.17241662, -0.11619804,\n",
       "         0.20285032,  0.13222699,  0.01453745,  0.27079337,  0.26773109,\n",
       "         0.00112173,  0.05943729,  0.23658798,  0.25492171,  0.13910461],\n",
       "       [ 0.26783319,  0.22879484,  0.2022911 ,  0.22868709,  0.14567514,\n",
       "         0.00777452,  0.15134993,  0.09802578,  0.12046111, -0.0377269 ,\n",
       "         0.17166573,  0.2255793 , -0.02367016,  0.23414474,  0.30449738,\n",
       "        -0.06568856,  0.11043809,  0.25616054,  0.1595916 ,  0.15067772],\n",
       "       [ 0.01446606, -0.00621963,  0.051984  ,  0.10558549, -0.05798991,\n",
       "         0.08158132,  0.05417989,  0.0508087 ,  0.12955824, -0.03783975,\n",
       "         0.10371343,  0.02018335,  0.02279393,  0.03002807, -0.02473174,\n",
       "         0.19932344,  0.05188181,  0.05276639, -0.02520569,  0.069397  ],\n",
       "       [ 0.10618664,  0.06583379,  0.07274006,  0.13006626, -0.0733421 ,\n",
       "         0.01947702,  0.09983883,  0.13337244,  0.16018287,  0.10284054,\n",
       "         0.06003342,  0.16922008,  0.05831549,  0.0757398 ,  0.11015909,\n",
       "         0.0368659 ,  0.25648118,  0.12004553,  0.01546383,  0.07386556],\n",
       "       [ 0.2091704 ,  0.23951347,  0.1631829 ,  0.16378253,  0.1488405 ,\n",
       "         0.08796623,  0.11612982,  0.0210937 ,  0.11253371, -0.09990644,\n",
       "         0.13651788,  0.07896281,  0.01264936,  0.21681095,  0.21820497,\n",
       "        -0.00835354,  0.06919044,  0.14434905,  0.16901385,  0.15646307],\n",
       "       [ 0.13494296,  0.18156212,  0.21156217,  0.16785319,  0.11995108,\n",
       "         0.0956289 ,  0.09828476, -0.0500724 ,  0.10425959, -0.11198774,\n",
       "         0.13007945,  0.0445052 ,  0.04247804,  0.21235096,  0.17391396,\n",
       "        -0.04314135,  0.00593932,  0.18100852,  0.21316279,  0.17495701],\n",
       "       [ 0.2209214 ,  0.174321  ,  0.21132897,  0.18990915,  0.13213158,\n",
       "         0.14834877,  0.17789907, -0.03996522,  0.14805797, -0.13205605,\n",
       "         0.16261606,  0.09919867,  0.02452268,  0.16376548,  0.18139115,\n",
       "         0.00769088,  0.05742801,  0.23895997,  0.2371961 ,  0.19334327]])"
      ]
     },
     "execution_count": 43,
     "metadata": {},
     "output_type": "execute_result"
    }
   ],
   "source": [
    "isfc_maps"
   ]
  },
  {
   "cell_type": "code",
   "execution_count": 50,
   "metadata": {},
   "outputs": [
    {
     "data": {
      "text/plain": [
       "['roi_6',\n",
       " 'roi_5',\n",
       " 'roi_4',\n",
       " 'roi_3',\n",
       " 'roi_2',\n",
       " 'roi_1_B',\n",
       " 'roi_1_A',\n",
       " 'R_PHC_U',\n",
       " 'R_MTG_E',\n",
       " 'R_IFG_Tri_U',\n",
       " 'R_IFG_Tri_E',\n",
       " 'R_IFG_Oper_U',\n",
       " 'R_DMPFC_E',\n",
       " 'R_AG_U',\n",
       " 'L_PPC_U',\n",
       " 'L_MTG_E',\n",
       " 'L_Insula_E',\n",
       " 'L_IFG_Tri_E',\n",
       " 'L_IFG_Oper_U',\n",
       " 'L_Fusiform_U']"
      ]
     },
     "execution_count": 50,
     "metadata": {},
     "output_type": "execute_result"
    }
   ],
   "source": [
    "sorted(all_dict.keys(), reverse=True)"
   ]
  },
  {
   "cell_type": "code",
   "execution_count": 53,
   "metadata": {},
   "outputs": [
    {
     "data": {
      "image/png": "[encoded data removed]",
      "text/plain": [
       "<Figure size 560x490 with 2 Axes>"
      ]
     },
     "metadata": {},
     "output_type": "display_data"
    }
   ],
   "source": [
    "f, ax = plt.subplots(1,1, figsize = (8, 7), dpi=70)\n",
    "\n",
    "sns.heatmap(isfc_maps, \n",
    "            cmap='coolwarm',\n",
    "            xticklabels=sorted(all_dict.keys(), reverse=True),\n",
    "            yticklabels=all_dict.keys(),\n",
    "            axes=ax,\n",
    "            );\n",
    "\n",
    "#ax.set_xlabel('', fontsize=13);"
   ]
  },
  {
   "cell_type": "code",
   "execution_count": null,
   "metadata": {},
   "outputs": [],
   "source": []
  },
  {
   "cell_type": "code",
   "execution_count": null,
   "metadata": {},
   "outputs": [],
   "source": []
  },
  {
   "cell_type": "code",
   "execution_count": null,
   "metadata": {},
   "outputs": [],
   "source": []
  },
  {
   "cell_type": "code",
   "execution_count": null,
   "metadata": {},
   "outputs": [],
   "source": []
  }
 ],
 "metadata": {
  "kernelspec": {
   "display_name": "brainiakEnv",
   "language": "python",
   "name": "brainiakenv"
  },
  "language_info": {
   "codemirror_mode": {
    "name": "ipython",
    "version": 3
   },
   "file_extension": ".py",
   "mimetype": "text/x-python",
   "name": "python",
   "nbconvert_exporter": "python",
   "pygments_lexer": "ipython3",
   "version": "3.7.7"
  }
 },
 "nbformat": 4,
 "nbformat_minor": 2
}
