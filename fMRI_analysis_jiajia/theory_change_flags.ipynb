{
 "cells": [
  {
   "cell_type": "code",
   "execution_count": 125,
   "metadata": {},
   "outputs": [],
   "source": [
    "import sys \n",
    "import warnings\n",
    "if not sys.warnoptions:\n",
    "    warnings.simplefilter(\"ignore\")\n",
    "# sys.path.append('/users/jiajiaz/.conda/envs/mybrainiak/lib/python3.6/site-packages')\n",
    "sys.path.append('../Multivariate_analyses_Daphne/')\n",
    "import os \n",
    "import h5py\n",
    "import glob\n",
    "import time\n",
    "import numpy as np\n",
    "import pandas as pd \n",
    "\n",
    "from nilearn import datasets, image\n",
    "from nilearn import surface\n",
    "from nilearn import plotting\n",
    "from nilearn import input_data\n",
    "\n",
    "from nilearn.input_data import NiftiMasker, NiftiLabelsMasker\n",
    "from nibabel.affines import apply_affine\n",
    "import nibabel as nib\n",
    "import time\n",
    "\n",
    "from brainiak import image, io\n",
    "from brainiak.isc import isc, isfc, permutation_isc\n",
    "from brainiak.isc import compute_summary_statistic\n",
    "from brainiak.searchlight.searchlight import Searchlight\n",
    "import matplotlib.pyplot as plt\n",
    "from mpl_toolkits import mplot3d \n",
    "import seaborn as sns \n",
    "import pandas as pd\n",
    "from importlib import reload \n",
    "import scipy.io as sio\n",
    "from scipy import stats\n",
    "from numpy.linalg import inv\n",
    "\n",
    "# import own functions\n",
    "import utils\n",
    "reload(utils)\n",
    "\n",
    "sns.set(style = 'white', context='poster', rc={\"lines.linewidth\": 2.5})\n",
    "sns.set(palette=\"colorblind\")"
   ]
  },
  {
   "cell_type": "markdown",
   "metadata": {},
   "source": [
    "# Load data"
   ]
  },
  {
   "cell_type": "code",
   "execution_count": 3,
   "metadata": {},
   "outputs": [
    {
     "name": "stdout",
     "output_type": "stream",
     "text": [
      "<KeysViewHDF5 ['#refs#', 'B', 'Vmask', 'block', 'game', 'instance', 'interaction_change_flag', 'interaction_change_flag_cnt', 'level', 'mask', 'run', 'runs', 'termination_change_flag', 'termination_change_flag_cnt', 'theory_change_flag', 'theory_change_flag_cnt']>\n",
      "(179595, 1698)\n"
     ]
    }
   ],
   "source": [
    "BOLD_path = '/ncf/gershman/Lab/scripts/matlab/VGDL_fMRI/mat/'\n",
    "path = './data/'\n",
    "filename = 'BOLD_subj1_nosmooth.mat'\n",
    "\n",
    "data = h5py.File(BOLD_path+filename,'r') \n",
    "\n",
    "print(data.keys())\n",
    "print(data['B'].value.shape)"
   ]
  },
  {
   "cell_type": "code",
   "execution_count": 55,
   "metadata": {},
   "outputs": [
    {
     "name": "stdout",
     "output_type": "stream",
     "text": [
      "(79, 95, 79)\n"
     ]
    }
   ],
   "source": [
    "# mask_nii is the functional mask, this selects the brain voxels\n",
    "mask_nii_NS = nib.load(os.path.join(path, 'mask_nosmooth.nii')) \n",
    "mask_nii = nib.load(os.path.join(path, 'mask.nii')) \n",
    "print(mask_nii.shape)\n",
    "# inverse of the affine matrix: mni2cor\n",
    "inv_affine = inv(mask_nii_NS.affine) # get the transformation matrix\n",
    "\n",
    "# load mask and get voxel coordinates\n",
    "# mask_arr = np.load(path+'mask_arr.npy') \n",
    "mask_mat = data['mask'].value\n",
    "coords_mat = np.array(np.where(mask_mat == 1)) # so need one set of voxel coordinates for all\n",
    "coords_mat[[0, 2]] = coords_mat[[2, 0]] # exchange the rows\n",
    "\n",
    "# residuals\n",
    "# R = np.load(path+'residuals_sub1.npy')\n",
    "# R = np.swapaxes(R,1,0)"
   ]
  },
  {
   "cell_type": "code",
   "execution_count": 54,
   "metadata": {},
   "outputs": [
    {
     "name": "stdout",
     "output_type": "stream",
     "text": [
      "(1698, 179595)\n",
      "179595\n"
     ]
    }
   ],
   "source": [
    "print(BOLD1.shape)\n",
    "print(len(np.where(mask_nii_NS.dataobj)[0]))"
   ]
  },
  {
   "cell_type": "code",
   "execution_count": 18,
   "metadata": {},
   "outputs": [],
   "source": [
    "BOLD1 = pd.DataFrame(np.swapaxes(data['B'].value,1,0)) # store residuals for subject\n",
    "game1 = pd.DataFrame(np.swapaxes(data['game'].value,1,0), columns=[\"game\"]).shift(periods=3)\n",
    "level1 = pd.DataFrame(np.swapaxes(data['level'].value,1,0), columns=[\"level\"]).shift(periods=3)\n",
    "tcf1 = pd.DataFrame(np.swapaxes(data['theory_change_flag'].value,1,0), columns=[\"tcf\"]).shift(periods=3)\n",
    "tcfc1 = pd.DataFrame(np.swapaxes(data['theory_change_flag_cnt'].value,1,0), columns=[\"tcfc\"]).shift(periods=3)\n",
    "# np.save(path+'residuals_sub1', residuals_sub1)\n",
    "\n",
    "## Save the theory change flag, theory change flag cnt as well"
   ]
  },
  {
   "cell_type": "code",
   "execution_count": 19,
   "metadata": {},
   "outputs": [],
   "source": [
    "df = pd.concat([BOLD1, game1, level1, tcf1, tcfc1], axis=1)"
   ]
  },
  {
   "cell_type": "code",
   "execution_count": 31,
   "metadata": {},
   "outputs": [
    {
     "name": "stdout",
     "output_type": "stream",
     "text": [
      "[nan  1.  4.  3.  5.  2.  6.]\n",
      "[nan  1.  2.  3.  4.  5.  6.  7.  8.  9.]\n"
     ]
    }
   ],
   "source": [
    "print(df.game.unique())\n",
    "print(df.level.unique())"
   ]
  },
  {
   "cell_type": "markdown",
   "metadata": {},
   "source": [
    "## Reorder data based on game and level. Fill in NaN values"
   ]
  },
  {
   "cell_type": "code",
   "execution_count": 70,
   "metadata": {},
   "outputs": [
    {
     "name": "stdout",
     "output_type": "stream",
     "text": [
      "84.72139466476993\n"
     ]
    }
   ],
   "source": [
    "print(cur_df1.loc[1208,0])\n"
   ]
  },
  {
   "cell_type": "code",
   "execution_count": null,
   "metadata": {},
   "outputs": [],
   "source": [
    "num_TR = 58\n",
    "vol4D = mask_nii.shape+(num_TR,)\n",
    "coords = tuple(coords_mat)\n",
    "num_voxel = len(np.where(mask_nii_NS.dataobj)[0])\n",
    "all_vol = []\n",
    "all_df = []\n",
    "all_tcf = []\n",
    "all_tcfc = []\n",
    "num_subj = 1\n",
    "for subj in range(num_subj):\n",
    "    all_df.append(pd.DataFrame())\n",
    "    all_vol.append(np.zeros(vol4D))\n",
    "# For each game+level, get the start and end\n",
    "for game_id in range(1,2):\n",
    "        for level_id in range(1,3):\n",
    "            for subj in range(1):\n",
    "                isc_df = all_df[subj]\n",
    "                # TODO change the below to have an array of df from raw data\n",
    "                cur_df = df[(df['game']==game_id) & (df['level']==level_id)]\n",
    "                # TODO In \"averaging\" case, need to look across subjects to find shortest cur_df num rows\n",
    "                isc_df = pd.concat([isc_df, cur_df])\n",
    "                all_df[subj] = isc_df"
   ]
  },
  {
   "cell_type": "code",
   "execution_count": 95,
   "metadata": {},
   "outputs": [
    {
     "name": "stdout",
     "output_type": "stream",
     "text": [
      "58\n",
      "           0          1          2          3          4          5  \\\n",
      "0  72.472996  75.539245  78.298870  80.270030  80.708066  78.999727   \n",
      "1  78.320771  83.292476  87.388109  89.600189  89.162153  85.811181   \n",
      "2  74.663174  77.817030  80.401441  82.175485  82.438306  80.423342   \n",
      "3  74.925995  78.780709  81.956467  83.905726  83.796217  80.992789   \n",
      "4  75.210718  80.708066  85.241734  87.694734  87.147189  83.314378   \n",
      "5  75.232620  79.788191  83.358181  85.307440  85.132226  82.569717   \n",
      "6  75.495442  79.875798  83.533395  85.526458  85.132226  82.087878   \n",
      "7  72.779621  75.364031  77.970343  80.204325  81.124199  79.744387   \n",
      "8  74.049924  77.488504  80.335735  82.175485  82.306896  80.051012   \n",
      "9  76.656236  81.934565  85.811181  87.629029  86.884368  83.533395   \n",
      "\n",
      "           6          7          8          9  ...      179589      179590  \\\n",
      "0  75.561147  77.488504  79.021628  80.598557  ...  161.372328  146.829545   \n",
      "1  79.043530  82.613521  85.635966  88.242279  ...  160.299140  143.500474   \n",
      "2  76.984763  79.459664  81.124199  82.482110  ...  160.627667  145.033598   \n",
      "3  76.656236  79.634878  81.890762  83.796217  ...  158.875525  144.179429   \n",
      "4  74.794585  79.174941  83.117262  86.358725  ...  159.904908  143.741393   \n",
      "5  75.933477  79.503468  82.438306  84.716092  ...  160.321042  146.917152   \n",
      "6  77.576111  80.532851  83.161065  85.329342  ...  158.941230  147.245678   \n",
      "7  76.875254  78.495986  79.634878  80.992789  ...  156.838659  145.186911   \n",
      "8  77.313289  79.875798  81.627940  83.029654  ...  154.604677  140.828456   \n",
      "9  77.444700  81.562235  84.847502  87.234797  ...  154.714186  141.354099   \n",
      "\n",
      "       179591      179592      179593      179594  game  level  tcf  tcfc  \n",
      "0  140.171403  189.319001  213.367157  220.112906   1.0    1.0  1.0   2.0  \n",
      "1  136.732823  191.246358  213.367157  219.412049   1.0    1.0  1.0   2.0  \n",
      "2  137.959323  189.822742  214.265130  219.061621   1.0    1.0  0.0   0.0  \n",
      "3  137.893618  189.297099  211.658818  215.973469   1.0    1.0  1.0   1.0  \n",
      "4  137.192761  191.969117  213.761390  218.119844   1.0    1.0  0.0   0.0  \n",
      "5  140.324715  195.057268  214.681264  217.900826   1.0    1.0  0.0   0.0  \n",
      "6  140.543733  194.312607  212.841515  218.163648   1.0    1.0  0.0   0.0  \n",
      "7  138.331653  191.881510  210.563729  215.228809   1.0    1.0  0.0   0.0  \n",
      "8  134.433136  194.750643  210.235203  211.286488   1.0    1.0  0.0   0.0  \n",
      "9  134.476940  198.517749  212.907220  211.176979   1.0    1.0  0.0   0.0  \n",
      "\n",
      "[10 rows x 179599 columns]\n"
     ]
    }
   ],
   "source": [
    "for subj in range(num_subj):\n",
    "    isc_df = all_df[subj]\n",
    "    isc_vol = all_vol[subj]\n",
    "    isc_df = isc_df.reset_index(drop=True)\n",
    "    isc_df['tcf'] = isc_df['tcf'].fillna(value=0)\n",
    "    isc_df['tcfc'] = isc_df['tcfc'].fillna(value=0)\n",
    "    print(isc_df.shape[0])\n",
    "    for TR in range(isc_df.shape[0]):\n",
    "        for j in range(num_voxel):\n",
    "            isc_vol[(coords[0][j], coords[1][j], coords[2][j], TR)] = isc_df.loc[TR, j]\n",
    "    all_tcfc.append(isc_df['tcfc'])\n",
    "    all_tcf.append(isc_df['tcf'])\n",
    "    print(isc_df.head(10))\n",
    "    all_df[subj] = isc_df \n",
    "    all_vol[subj] = isc_vol"
   ]
  },
  {
   "cell_type": "code",
   "execution_count": 105,
   "metadata": {},
   "outputs": [
    {
     "name": "stdout",
     "output_type": "stream",
     "text": [
      "(79, 95, 79, 249)\n",
      "[2. 2. 0. 1. 0. 0. 0. 0. 0. 0. 0. 0. 0. 0. 0. 0. 0. 0. 0. 0. 0. 0. 0. 0.\n",
      " 0. 0. 0. 0. 0. 0. 0. 1. 3. 0. 0. 0. 0. 0. 3. 0. 0. 0. 0. 0. 0. 0. 0. 0.\n",
      " 0. 0. 0. 0. 0. 0. 0. 0. 1. 0.]\n",
      "[ 0  1  3 31 32 38 56]\n",
      "58\n"
     ]
    }
   ],
   "source": [
    "print(all_vol[0].shape)\n",
    "print(np.array(all_tcfc[0]))\n",
    "print(all_tcfc[0][all_tcfc[0] > 0].index.values)\n",
    "print(all_tcfc[0].shape[0])"
   ]
  },
  {
   "cell_type": "markdown",
   "metadata": {},
   "source": [
    "# Translate from MNI space for searchlight"
   ]
  },
  {
   "cell_type": "code",
   "execution_count": 142,
   "metadata": {},
   "outputs": [
    {
     "name": "stdout",
     "output_type": "stream",
     "text": [
      "(0,)\n",
      "(6,)\n"
     ]
    }
   ],
   "source": [
    "# theory ROIs (model-based), encoding theory\n",
    "# all MNI coordinates!\n",
    "R_IFG_Tri = [42, 28, 26]\n",
    "L_Insula = [-30, 28, 2]\n",
    "R_DMPFC = [6, 38, 40]\n",
    "L_IFG_Tri = [-50, 44, 12]\n",
    "L_MTG = [-64, -50, 4]\n",
    "R_MTG = [58, -36, 8]\n",
    "\n",
    "# Theory_change_flag ROIs, updating theory\n",
    "R_IFG_Oper_U = [48, 12, 28]\n",
    "L_PPC_U = [-56, -32, 46]\n",
    "R_IFG_Tri_U = [52, 38, 16]\n",
    "R_AG_U = [32, -60, 34]\n",
    "L_Fusiform_U = [-40, -58, -12]\n",
    "L_IFG_Oper_U = [-42, 4, 28]\n",
    "R_PHC_U = [26, -42, -8]\n",
    "\n",
    "# create dictionary to map points to roi names\n",
    "roi_dict = {'right inferior frontal gyrus (Tri)':R_IFG_Tri, 'left_insula':L_Insula, 'right dorsalmedial PFC':R_DMPFC,\n",
    "            'left inferior frontal gyrus (Tri)':L_IFG_Tri, 'left middle temporal gyrus':L_MTG, 'right middle temporal gyrus':R_MTG\n",
    "           }\n",
    "\n",
    "brain_mask = np.array(mask_nii.dataobj)\n",
    "roi_mask = np.zeros(brain_mask.shape)\n",
    "print(roi_mask[roi_mask==1].shape)\n",
    "native_roi_coords = []\n",
    "for mni_coords in roi_dict:\n",
    "    native_coords = apply_affine(aff=inv_affine, pts=roi_dict[mni_coords]).astype(int) # from mni2cor\n",
    "#     native_roi_coords += native_coords.astype(int)\n",
    "    roi_mask[tuple(native_coords)] = 1\n",
    "print(roi_mask[roi_mask==1].shape)"
   ]
  },
  {
   "cell_type": "markdown",
   "metadata": {},
   "source": [
    "# Using searchlight to get an r value for each region"
   ]
  },
  {
   "cell_type": "code",
   "execution_count": 148,
   "metadata": {},
   "outputs": [
    {
     "name": "stdout",
     "output_type": "stream",
     "text": [
      "Setup searchlight inputs\n",
      "Number of subjects: 1\n",
      "Input data shape: (79, 95, 79, 249)\n",
      "Input mask shape: (79, 95, 79)\n",
      "\n"
     ]
    }
   ],
   "source": [
    "# Preset the variables\n",
    "data = all_vol\n",
    "mask = roi_mask\n",
    "bcvar = all_tcfc\n",
    "sl_rad = 8\n",
    "max_blk_edge = 5\n",
    "pool_size = 1\n",
    "begin_time = time.time()\n",
    "# Create the searchlight object\n",
    "sl = Searchlight(sl_rad=sl_rad,max_blk_edge=max_blk_edge)\n",
    "print(\"Setup searchlight inputs\")\n",
    "print(\"Number of subjects: \" + str(len(data)))\n",
    "print(\"Input data shape: \" + str(data[0].shape))\n",
    "print(\"Input mask shape: \" + str(mask.shape) + \"\\n\")\n",
    "\n",
    "# Distribute the information to the searchlights (preparing it to run)\n",
    "sl.distribute(data, mask)\n",
    "# Data that is needed for all searchlights is sent to all cores via the sl.broadcast function. \n",
    "sl.broadcast(bcvar)"
   ]
  },
  {
   "cell_type": "code",
   "execution_count": 149,
   "metadata": {},
   "outputs": [],
   "source": [
    "# Set up the kernel\n",
    "def avg_corr(data, sl_mask, myrad, bcvar):\n",
    "    all_r = []\n",
    "    TRs = bcvar[0].shape[0]\n",
    "    # Loop over subject: \n",
    "    # TODO focus on subject 0 for now\n",
    "    for idx in range(len(data)):\n",
    "        subj_r = []\n",
    "        data4D = data[idx]\n",
    "        tcfc = bcvar[idx]\n",
    "        bolddata_sl = data4D.reshape(sl_mask.shape[0] * sl_mask.shape[1] * sl_mask.shape[2], data[0].shape[3]).T\n",
    "        tcf = bcvar[idx][bcvar[idx] > 0].index.values\n",
    "        for flag_idx in tcf:\n",
    "            # Ignore the first 3 TRs, for each game level 1. So we are assuming only 1 game here. \n",
    "            # And Ignore flags at the end\n",
    "            if flag_idx >= 3 and flag_idx < TRs-3:\n",
    "                before_idx = flag_idx - 3\n",
    "                after_idx = flag_idx + 3\n",
    "                flag_r = np.corrcoef(bolddata_sl[before_idx], bolddata_sl[after_idx])\n",
    "                subj_r.append(flag_r)\n",
    "        all_r.append(np.mean(subj_r))\n",
    "    \n",
    "    return all_r"
   ]
  },
  {
   "cell_type": "code",
   "execution_count": 150,
   "metadata": {},
   "outputs": [
    {
     "name": "stdout",
     "output_type": "stream",
     "text": [
      "Begin Searchlight\n",
      "\n",
      "End Searchlight\n",
      "\n",
      "[[0.9999843977712546], [0.9999639900977979], [0.9999374001501992], [0.9998622126815376], [0.9999822447311606], None]\n"
     ]
    }
   ],
   "source": [
    "# Execute searchlight on 8 subjects\n",
    "print(\"Begin Searchlight\\n\")\n",
    "sl_result_allsubj = sl.run_searchlight(avg_corr, pool_size=pool_size)\n",
    "print(\"End Searchlight\\n\")\n",
    "print([i for i in sl_result_allsubj[mask==1]])"
   ]
  },
  {
   "cell_type": "code",
   "execution_count": 151,
   "metadata": {},
   "outputs": [
    {
     "name": "stdout",
     "output_type": "stream",
     "text": [
      "[list([0.9999843977712546]) list([0.9999639900977979])\n",
      " list([0.9999374001501992]) list([0.9998622126815376])\n",
      " list([0.9999822447311606]) None]\n"
     ]
    }
   ],
   "source": [
    "print(sl_result_allsubj[roi_mask==1])"
   ]
  },
  {
   "cell_type": "code",
   "execution_count": 137,
   "metadata": {},
   "outputs": [
    {
     "name": "stdout",
     "output_type": "stream",
     "text": [
      "[1. 1. 1. ... 1. 1. 1.]\n"
     ]
    }
   ],
   "source": []
  }
 ],
 "metadata": {
  "kernelspec": {
   "display_name": "Python 3",
   "language": "python",
   "name": "python3"
  },
  "language_info": {
   "codemirror_mode": {
    "name": "ipython",
    "version": 3
   },
   "file_extension": ".py",
   "mimetype": "text/x-python",
   "name": "python",
   "nbconvert_exporter": "python",
   "pygments_lexer": "ipython3",
   "version": "3.6.5"
  }
 },
 "nbformat": 4,
 "nbformat_minor": 2
}
