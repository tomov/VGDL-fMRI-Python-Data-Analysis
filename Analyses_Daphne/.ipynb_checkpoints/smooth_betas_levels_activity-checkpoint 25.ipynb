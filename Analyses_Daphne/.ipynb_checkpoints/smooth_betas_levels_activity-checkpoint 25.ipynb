{
 "cells": [
  {
   "cell_type": "markdown",
   "metadata": {},
   "source": [
    "# How the intersubject activity evolves across levels\n",
    "\n",
    "--- \n",
    "\n",
    "Here we're asking the question: How does the intersubject similarity evolve across levels? If we pick a certain region, for a given subject, is the intersubject similarity higher or lower across levels? \n",
    "\n",
    "*One prediction is*: if the region is involved in theory updating and learning then we expect a higher similarity for higher levels. As they learn more about the games (i.e. practice) subjects should converge to more similar voxel activation patterns. This might indicate that peoples' representations become more similar (displayed by a larger ISC). In Bayesian terms, people start off with different priors but their posteriors will converge because they get more data. \n",
    "\n",
    "--- \n",
    "\n",
    "<img src=\"http://drive.google.com/uc?export=view&id=1aJrScYoDMPCpz__QT3cXItb4GSyEzb2Z\" style=\"height:400px\"/>\n",
    "\n",
    "## Approach\n",
    "\n",
    "1. We separate the levels betas `[54, voxels]` into 9 arrays of `[games, voxels]`; see image.\n",
    "\n",
    "\n",
    "```Python\n",
    "\n",
    "for each [54, voxels] betas data\n",
    "\n",
    "# take the 1 st item and put together \n",
    "# take the 2nd item and append to something\n",
    "# .... to the 9th item and append\n",
    "\n",
    "# want: [54, voxels] --> [6 (games), 9 (levels)]\n",
    "\n",
    "```\n",
    "\n",
    "\n",
    "2. Plot 9 brain maps (so far this doesn't seem very promising btw)\n",
    "3. Use the statistical t map to extract the underlying ROIs.\n",
    "    - plot the r values across levels\n",
    "\n",
    "```Python\n",
    "for al ROIs:\n",
    "    \n",
    "  # get the most intense voxel in the ROI\n",
    "\n",
    "  get the x,y,z coordinates that correspond to the highest t statistic\n",
    "    \n",
    "  find the voxel that belongs to this x,y,z coordinate\n",
    "\n",
    "```\n",
    "\n",
    "\n",
    "4. With the voxel numbers from Momchil, do an ISC analysis as well and plot the r values for all levels\n"
   ]
  },
  {
   "cell_type": "code",
   "execution_count": 1,
   "metadata": {},
   "outputs": [],
   "source": [
    "import warnings\n",
    "import sys \n",
    "if not sys.warnoptions:\n",
    "    warnings.simplefilter(\"ignore\")\n",
    "import os \n",
    "import glob\n",
    "import time\n",
    "from copy import deepcopy\n",
    "import numpy as np\n",
    "import pandas as pd \n",
    "\n",
    "from nilearn import datasets, image\n",
    "from nilearn import surface\n",
    "from nilearn import plotting\n",
    "from nilearn.input_data import NiftiMasker, NiftiLabelsMasker\n",
    "import nibabel as nib\n",
    "\n",
    "from brainiak import image, io\n",
    "from brainiak.isc import isc, isfc, permutation_isc\n",
    "from brainiak.isc import compute_summary_statistic\n",
    "import matplotlib.pyplot as plt\n",
    "from mpl_toolkits import mplot3d \n",
    "import seaborn as sns \n",
    "import pandas as pd\n",
    "from importlib import reload \n",
    "import scipy.io as sio\n",
    "from scipy import stats\n",
    "\n",
    "# import own functions\n",
    "import utils\n",
    "reload(utils)\n",
    "\n",
    "#%autosave 30\n",
    "%matplotlib inline\n",
    "sns.set(style = 'white', context='talk', font_scale=1, rc={\"lines.linewidth\": 2})"
   ]
  },
  {
   "cell_type": "code",
   "execution_count": 2,
   "metadata": {},
   "outputs": [],
   "source": [
    "# specify local path\n",
    "path = '/Users/Daphne/data/'\n",
    "\n",
    "# load relevant data\n",
    "levels_betas = np.load(path+'bold_data_levels.npy')\n",
    "\n",
    "# load mask and get voxel coordinates\n",
    "mask_arr = np.load(path+'mask_arr.npy') # all masks are the same\n",
    "mask_mat = mask_arr[0] # so we can pick any one from the array\n",
    "coords_mat = np.array(np.where(mask_mat == 1)) # so need one set of voxel coordinates for all\n",
    "coords_mat[[0, 2]] = coords_mat[[2, 0]] # exchange the rows\n",
    "\n",
    "# mask_nii is the functional mask, this selects the brain voxels\n",
    "mask_nii = nib.load(os.path.join(path, 'mask.nii')) \n",
    "\n",
    "# we get the brain mask (boolean array) with the .dataobj method\n",
    "brain_mask = np.array(mask_nii.dataobj)\n",
    "\n",
    "# Get the list of nonzero voxel coordinates from the nii mask\n",
    "coords_nii = np.where(brain_mask)\n",
    "\n",
    "# this where we plot our mask ON (sometimes called brain_nii) - the anatomical/structural image\n",
    "mean_nii = nib.load(os.path.join(path, 'mean.nii')) "
   ]
  },
  {
   "cell_type": "markdown",
   "metadata": {},
   "source": [
    "# Uncomment to sanity check (takes long to load)"
   ]
  },
  {
   "cell_type": "code",
   "execution_count": 3,
   "metadata": {
    "scrolled": true
   },
   "outputs": [],
   "source": [
    "#df_levels_betas = pd.read_csv(path+'ordered_betas_df_levels.c\n",
    "# game_names = df_levels_betas['game'].values\n",
    "# game_levels = df_levels_betas['level'].values\n",
    "\n",
    "# print(game_names[0:9])\n",
    "# print(game_levels[0:9])\n",
    "# print(len(game_levels))"
   ]
  },
  {
   "cell_type": "code",
   "execution_count": 4,
   "metadata": {},
   "outputs": [],
   "source": [
    "# get every 1st item (all levels 1)\n",
    "# game_levels[0::9]"
   ]
  },
  {
   "cell_type": "code",
   "execution_count": 5,
   "metadata": {},
   "outputs": [],
   "source": [
    "# game_names[0::9]"
   ]
  },
  {
   "cell_type": "code",
   "execution_count": 6,
   "metadata": {},
   "outputs": [
    {
     "data": {
      "text/plain": [
       "(54, 220075, 8)"
      ]
     },
     "execution_count": 6,
     "metadata": {},
     "output_type": "execute_result"
    }
   ],
   "source": [
    "# take one subject \n",
    "s = 0\n",
    "levels_betas_sub = levels_betas[:,:,s]\n",
    "levels_betas.shape"
   ]
  },
  {
   "cell_type": "markdown",
   "metadata": {},
   "source": [
    "## 1. Separate data into `9` arrays of  `[6,20075,8] = [games, voxels, subjects]`"
   ]
  },
  {
   "cell_type": "code",
   "execution_count": 7,
   "metadata": {},
   "outputs": [],
   "source": [
    "betas_level_one = []\n",
    "betas_level_two = []\n",
    "betas_level_three = []\n",
    "betas_level_four = []\n",
    "betas_level_five = []\n",
    "betas_level_six = []\n",
    "betas_level_seven = []\n",
    "betas_level_eight = []\n",
    "betas_level_nine = []\n",
    "\n",
    "num_subjects = 8\n",
    "\n",
    "for s in range(num_subjects):\n",
    "    #print(s)\n",
    "    # take the array for that subject \n",
    "    levels_betas_sub = levels_betas[:,:,s]\n",
    "    \n",
    "    # level 1\n",
    "    lvl_one_betas_sub = levels_betas_sub[0::9]\n",
    "    betas_level_one.append(lvl_one_betas_sub)\n",
    "    \n",
    "    # level 2\n",
    "    lvl_two_betas_sub = levels_betas_sub[1::9]\n",
    "    betas_level_two.append(lvl_two_betas_sub)\n",
    "    \n",
    "    # level 3\n",
    "    lvl_three_betas_sub = levels_betas_sub[2::9]\n",
    "    betas_level_three.append(lvl_three_betas_sub)\n",
    "    \n",
    "    # level 4\n",
    "    lvl_four_betas_sub = levels_betas_sub[3::9]\n",
    "    betas_level_four.append(lvl_four_betas_sub)\n",
    "    \n",
    "    # level 5\n",
    "    lvl_five_betas_sub = levels_betas_sub[4::9]\n",
    "    betas_level_five.append(lvl_five_betas_sub)\n",
    "    \n",
    "    # level 6\n",
    "    lvl_six_betas_sub = levels_betas_sub[5::9]\n",
    "    betas_level_six.append(lvl_six_betas_sub)\n",
    "    \n",
    "    # level 7\n",
    "    lvl_seven_betas_sub = levels_betas_sub[6::9]\n",
    "    betas_level_seven.append(lvl_seven_betas_sub)\n",
    "    \n",
    "    # level 8\n",
    "    lvl_eight_betas_sub = levels_betas_sub[7::9]\n",
    "    betas_level_eight.append(lvl_eight_betas_sub)\n",
    "    \n",
    "    # level 9\n",
    "    lvl_nine_betas_sub = levels_betas_sub[8::9]\n",
    "    betas_level_nine.append(lvl_nine_betas_sub)\n",
    "    \n",
    "# convert lists to np arrays\n",
    "betas_level_one = np.array(betas_level_one)\n",
    "betas_level_two = np.array(betas_level_two)\n",
    "betas_level_three = np.array(betas_level_three)\n",
    "betas_level_four = np.array(betas_level_four)\n",
    "betas_level_five = np.array(betas_level_five)\n",
    "betas_level_six = np.array(betas_level_six)\n",
    "betas_level_seven = np.array(betas_level_seven)\n",
    "betas_level_eight = np.array(betas_level_eight)\n",
    "betas_level_nine = np.array(betas_level_nine)"
   ]
  },
  {
   "cell_type": "code",
   "execution_count": 8,
   "metadata": {
    "scrolled": true
   },
   "outputs": [
    {
     "data": {
      "text/plain": [
       "(8, 6, 220075)"
      ]
     },
     "execution_count": 8,
     "metadata": {},
     "output_type": "execute_result"
    }
   ],
   "source": [
    "betas_level_one.shape # [subjects, games, voxels]"
   ]
  },
  {
   "cell_type": "markdown",
   "metadata": {},
   "source": [
    "## 2. Swapaxes to get data in the right shape"
   ]
  },
  {
   "cell_type": "code",
   "execution_count": 9,
   "metadata": {},
   "outputs": [],
   "source": [
    "# do isc for each level\n",
    "# compute the isc correlations using the leave one out approach\n",
    "betas_level_one = np.swapaxes(betas_level_one, 0, 1) # need to get [TRs, voxels, subjects]\n",
    "betas_level_one = np.swapaxes(betas_level_one, 1, 2)\n",
    "\n",
    "betas_level_two = np.swapaxes(betas_level_two, 0, 1) # need to get [TRs, voxels, subjects]\n",
    "betas_level_two = np.swapaxes(betas_level_two, 1, 2)\n",
    "\n",
    "betas_level_three = np.swapaxes(betas_level_three, 0, 1) # need to get [TRs, voxels, subjects]\n",
    "betas_level_three = np.swapaxes(betas_level_three, 1, 2)\n",
    "\n",
    "betas_level_four = np.swapaxes(betas_level_four, 0, 1) # need to get [TRs, voxels, subjects]\n",
    "betas_level_four = np.swapaxes(betas_level_four, 1, 2)\n",
    "\n",
    "betas_level_five = np.swapaxes(betas_level_five, 0, 1) # need to get [TRs, voxels, subjects]\n",
    "betas_level_five = np.swapaxes(betas_level_five, 1, 2)\n",
    "\n",
    "betas_level_six = np.swapaxes(betas_level_six, 0, 1) # need to get [TRs, voxels, subjects]\n",
    "betas_level_six = np.swapaxes(betas_level_six, 1, 2)\n",
    "\n",
    "betas_level_seven = np.swapaxes(betas_level_seven, 0, 1) # need to get [TRs, voxels, subjects]\n",
    "betas_level_seven = np.swapaxes(betas_level_seven, 1, 2)\n",
    "\n",
    "betas_level_eight = np.swapaxes(betas_level_eight, 0, 1) # need to get [TRs, voxels, subjects]\n",
    "betas_level_eight = np.swapaxes(betas_level_eight, 1, 2)\n",
    "\n",
    "betas_level_nine = np.swapaxes(betas_level_nine, 0, 1) # need to get [TRs, voxels, subjects]\n",
    "betas_level_nine = np.swapaxes(betas_level_nine, 1, 2)"
   ]
  },
  {
   "cell_type": "code",
   "execution_count": 10,
   "metadata": {},
   "outputs": [
    {
     "name": "stdout",
     "output_type": "stream",
     "text": [
      "(6, 220075, 8)\n"
     ]
    },
    {
     "data": {
      "text/plain": [
       "(6, 220075, 8)"
      ]
     },
     "execution_count": 10,
     "metadata": {},
     "output_type": "execute_result"
    }
   ],
   "source": [
    "print(betas_level_one.shape)\n",
    "betas_level_two.shape # [all games, voxels, subjects]"
   ]
  },
  {
   "cell_type": "markdown",
   "metadata": {},
   "source": [
    "## 3. ISC for all voxels and plot brain maps"
   ]
  },
  {
   "cell_type": "markdown",
   "metadata": {},
   "source": [
    "Row or column wise?\n",
    "\n",
    "- column wise (voxels): We do the exact same analysis but then with the betas separated in levels. We ask: for each voxel, how similar are the voxel intensities for level $k$ from one person compared to the average of the other peopele (for all games). \n",
    "\n",
    "---\n",
    "\n",
    "**Note.** `isc_maps_lvl_[...]` are the `r coefficients`.\n",
    "\n",
    "---"
   ]
  },
  {
   "cell_type": "code",
   "execution_count": 15,
   "metadata": {},
   "outputs": [],
   "source": [
    "isc_maps_lvl_one = isc(betas_level_one, pairwise=False, tolerate_nans=True)\n",
    "isc_maps_lvl_two = isc(betas_level_two, pairwise=False, tolerate_nans=True)\n",
    "isc_maps_lvl_three = isc(betas_level_three, pairwise=False, tolerate_nans=True)\n",
    "isc_maps_lvl_four = isc(betas_level_four, pairwise=False, tolerate_nans=True)\n",
    "isc_maps_lvl_five = isc(betas_level_five, pairwise=False, tolerate_nans=True)\n",
    "isc_maps_lvl_six = isc(betas_level_six, pairwise=False, tolerate_nans=True)\n",
    "isc_maps_lvl_seven = isc(betas_level_seven, pairwise=False, tolerate_nans=True)\n",
    "isc_maps_lvl_eight = isc(betas_level_eight, pairwise=False, tolerate_nans=True)\n",
    "isc_maps_lvl_nine = isc(betas_level_nine, pairwise=False, tolerate_nans=True)"
   ]
  },
  {
   "cell_type": "code",
   "execution_count": 16,
   "metadata": {},
   "outputs": [
    {
     "data": {
      "text/plain": [
       "(8, 220075)"
      ]
     },
     "execution_count": 16,
     "metadata": {},
     "output_type": "execute_result"
    }
   ],
   "source": [
    "isc_maps_lvl_one.shape"
   ]
  },
  {
   "cell_type": "markdown",
   "metadata": {},
   "source": [
    "# Maps (isc with all voxels)\n"
   ]
  },
  {
   "cell_type": "markdown",
   "metadata": {},
   "source": [
    "## Level 1"
   ]
  },
  {
   "cell_type": "code",
   "execution_count": null,
   "metadata": {},
   "outputs": [],
   "source": [
    "tstats, p = stats.ttest_1samp(np.arctanh(isc_maps_lvl_one), popmean=0)"
   ]
  },
  {
   "cell_type": "code",
   "execution_count": null,
   "metadata": {},
   "outputs": [],
   "source": [
    "utils.plot_statistical_map(coords=coords_mat, \n",
    "                           tstats=tstats, \n",
    "                           pvalues=p, \n",
    "                           brain_nii=mean_nii, \n",
    "                           mask_nii=mask_nii, \n",
    "                           threshold=True,\n",
    "                           theta=0.01,\n",
    "                           cut_coords=[52, 10, 2],\n",
    "                           vmax=14)"
   ]
  },
  {
   "cell_type": "markdown",
   "metadata": {},
   "source": [
    "## Level 2"
   ]
  },
  {
   "cell_type": "code",
   "execution_count": null,
   "metadata": {},
   "outputs": [],
   "source": [
    "tstats, p = stats.ttest_1samp(np.arctanh(isc_maps_lvl_two), popmean=0)\n",
    "\n",
    "utils.plot_statistical_map(coords=coords_mat, \n",
    "                           tstats=tstats, \n",
    "                           pvalues=p, \n",
    "                           brain_nii=mean_nii, \n",
    "                           mask_nii=mask_nii, \n",
    "                           threshold=True,\n",
    "                           theta=0.01,\n",
    "                           cut_coords=[52, 10, 2],\n",
    "                           vmax=14)"
   ]
  },
  {
   "cell_type": "markdown",
   "metadata": {},
   "source": [
    "## Level 3"
   ]
  },
  {
   "cell_type": "code",
   "execution_count": null,
   "metadata": {},
   "outputs": [],
   "source": [
    "tstats, p = stats.ttest_1samp(np.arctanh(isc_maps_lvl_three), popmean=0)\n",
    "\n",
    "utils.plot_statistical_map(coords=coords_mat, \n",
    "                           tstats=tstats, \n",
    "                           pvalues=p, \n",
    "                           brain_nii=mean_nii, \n",
    "                           mask_nii=mask_nii, \n",
    "                           threshold=True,\n",
    "                           theta=0.01,\n",
    "                           cut_coords=[52, 10, 2],\n",
    "                           vmax=14)"
   ]
  },
  {
   "cell_type": "markdown",
   "metadata": {},
   "source": [
    "## Level 4"
   ]
  },
  {
   "cell_type": "code",
   "execution_count": null,
   "metadata": {},
   "outputs": [],
   "source": [
    "tstats, p = stats.ttest_1samp(np.arctanh(isc_maps_lvl_four), popmean=0)\n",
    "\n",
    "utils.plot_statistical_map(coords=coords_mat, \n",
    "                           tstats=tstats, \n",
    "                           pvalues=p, \n",
    "                           brain_nii=mean_nii, \n",
    "                           mask_nii=mask_nii, \n",
    "                           threshold=True,\n",
    "                           theta=0.01,\n",
    "                           cut_coords=[52, 10, 2],\n",
    "                           vmax=14)"
   ]
  },
  {
   "cell_type": "markdown",
   "metadata": {},
   "source": [
    "## Level 5"
   ]
  },
  {
   "cell_type": "code",
   "execution_count": null,
   "metadata": {},
   "outputs": [],
   "source": [
    "tstats, p = stats.ttest_1samp(np.arctanh(isc_maps_lvl_five), popmean=0)\n",
    "\n",
    "utils.plot_statistical_map(coords=coords_mat, \n",
    "                           tstats=tstats, \n",
    "                           pvalues=p, \n",
    "                           brain_nii=mean_nii, \n",
    "                           mask_nii=mask_nii, \n",
    "                           threshold=True,\n",
    "                           theta=0.01,\n",
    "                           cut_coords=[52, 10, 2],\n",
    "                           vmax=14)"
   ]
  },
  {
   "cell_type": "markdown",
   "metadata": {},
   "source": [
    "## Level 6"
   ]
  },
  {
   "cell_type": "code",
   "execution_count": null,
   "metadata": {
    "scrolled": false
   },
   "outputs": [],
   "source": [
    "tstats, p = stats.ttest_1samp(np.arctanh(isc_maps_lvl_six), popmean=0)\n",
    "\n",
    "utils.plot_statistical_map(coords=coords_mat, \n",
    "                           tstats=tstats, \n",
    "                           pvalues=p, \n",
    "                           brain_nii=mean_nii, \n",
    "                           mask_nii=mask_nii, \n",
    "                           threshold=True,\n",
    "                           theta=0.01,\n",
    "                           cut_coords=[52, 10, 2],\n",
    "                           vmax=14)"
   ]
  },
  {
   "cell_type": "markdown",
   "metadata": {},
   "source": [
    "## Level 7"
   ]
  },
  {
   "cell_type": "code",
   "execution_count": null,
   "metadata": {},
   "outputs": [],
   "source": [
    "tstats, p = stats.ttest_1samp(np.arctanh(isc_maps_lvl_seven), popmean=0)\n",
    "\n",
    "utils.plot_statistical_map(coords=coords_mat, \n",
    "                           tstats=tstats, \n",
    "                           pvalues=p, \n",
    "                           brain_nii=mean_nii, \n",
    "                           mask_nii=mask_nii, \n",
    "                           threshold=True,\n",
    "                           theta=0.01,\n",
    "                           cut_coords=[52, 10, 2],\n",
    "                           vmax=14)"
   ]
  },
  {
   "cell_type": "markdown",
   "metadata": {},
   "source": [
    "## Level 8"
   ]
  },
  {
   "cell_type": "code",
   "execution_count": null,
   "metadata": {},
   "outputs": [],
   "source": [
    "tstats, p = stats.ttest_1samp(np.arctanh(isc_maps_lvl_eight), popmean=0)\n",
    "\n",
    "utils.plot_statistical_map(coords=coords_mat, \n",
    "                           tstats=tstats, \n",
    "                           pvalues=p, \n",
    "                           brain_nii=mean_nii, \n",
    "                           mask_nii=mask_nii, \n",
    "                           threshold=True,\n",
    "                           theta=0.01,\n",
    "                           cut_coords=[52, 10, 2],\n",
    "                           vmax=14)"
   ]
  },
  {
   "cell_type": "markdown",
   "metadata": {},
   "source": [
    "## Level 9"
   ]
  },
  {
   "cell_type": "code",
   "execution_count": null,
   "metadata": {},
   "outputs": [],
   "source": [
    "tstats, p = stats.ttest_1samp(np.arctanh(isc_maps_lvl_nine), popmean=0)\n",
    "\n",
    "utils.plot_statistical_map(coords=coords_mat, \n",
    "                           tstats=tstats, \n",
    "                           pvalues=p, \n",
    "                           brain_nii=mean_nii, \n",
    "                           mask_nii=mask_nii, \n",
    "                           threshold=True,\n",
    "                           theta=0.01,\n",
    "                           cut_coords=[52, 10, 2],\n",
    "                           vmax=14)"
   ]
  },
  {
   "cell_type": "code",
   "execution_count": null,
   "metadata": {},
   "outputs": [],
   "source": []
  },
  {
   "cell_type": "markdown",
   "metadata": {},
   "source": [
    "# 4. Pick ROIs (one particular voxel at the time) and do the isc analyses for this\n",
    "\n",
    "Ideally, we'd like to pick the top voxel for every blob of in the statistical t map, then use that top voxel to perform an ISC analysis with. There are different ways we can do this. I use two ways\n",
    "\n",
    "[nilearn docs](http://nilearn.github.io/auto_examples/04_manipulating_images/plot_extract_rois_statistical_maps.html#sphx-glr-auto-examples-04-manipulating-images-plot-extract-rois-statistical-maps-py)\n",
    "\n",
    "`functions:`\n",
    "\n",
    "- [threshold_img](http://nilearn.github.io/modules/generated/nilearn.image.threshold_img.html#nilearn.image.threshold_img)\n",
    "- [regions_extracted](http://nilearn.github.io/modules/generated/nilearn.regions.connected_regions.html#nilearn.regions.connected_regions)\n",
    "- [plot_roi](https://nilearn.github.io/modules/generated/nilearn.plotting.plot_roi.html#nilearn.plotting.plot_roi)\n",
    "\n",
    "From the results I got earlier, you see a bunch of blobs in the statistical brain maps. \n",
    "\n",
    "For each of these blobs:\n",
    "\n",
    "    Pick the top voxel (the voxel with the highest t statistic)\n",
    "    Do the isc analysis like the one above but then only for that specific voxel (because that specifies the ROI)\n",
    "    \n",
    "    \n",
    "- `coords` = $[[x_1, y_1, z_1] \\dots [x_k, y_k, z_k]]$ \n",
    "\n",
    "\n",
    "How to extract the regions??"
   ]
  },
  {
   "cell_type": "code",
   "execution_count": null,
   "metadata": {
    "scrolled": false
   },
   "outputs": [],
   "source": [
    "# remember we got \n",
    "iscs_r_levels = np.load(path+'iscs_r_levels.npy')\n",
    "tstats_levels, p_levels = stats.ttest_1samp(np.arctanh(iscs_r_levels), popmean=0)\n",
    "\n",
    "# plot the t map and store the nifti image as the statistical image\n",
    "stat_img = utils.plot_statistical_map(coords=coords_mat, \n",
    "                           tstats=tstats_levels, \n",
    "                           pvalues=p_levels, \n",
    "                           brain_nii=mean_nii, \n",
    "                           mask_nii=mask_nii, \n",
    "                           threshold=True,\n",
    "                           theta=0.01,\n",
    "                           cut_coords=[52, 10, 2],\n",
    "                           vmax=14)"
   ]
  },
  {
   "cell_type": "code",
   "execution_count": null,
   "metadata": {},
   "outputs": [],
   "source": [
    "stat_img # .nii file"
   ]
  },
  {
   "cell_type": "code",
   "execution_count": null,
   "metadata": {},
   "outputs": [],
   "source": [
    "view = plotting.view_img(stat_img, threshold=.2)"
   ]
  },
  {
   "cell_type": "code",
   "execution_count": null,
   "metadata": {},
   "outputs": [],
   "source": [
    "view "
   ]
  },
  {
   "cell_type": "markdown",
   "metadata": {},
   "source": [
    "# Option 1. Region Extraction using a t-statistical map (3D) "
   ]
  },
  {
   "cell_type": "code",
   "execution_count": null,
   "metadata": {},
   "outputs": [],
   "source": [
    "from nilearn.image import threshold_img\n",
    "from nilearn.regions import connected_regions\n",
    "\n",
    "# threshold the t-statistic image by importing threshold function\n",
    "threshold_value_img = threshold_img(stat_img, threshold='95%', copy=False)"
   ]
  },
  {
   "cell_type": "code",
   "execution_count": null,
   "metadata": {},
   "outputs": [],
   "source": [
    "# Showing intensity threshold image\n",
    "plotting.plot_stat_map(threshold_value_img, bg_img=mean_nii, display_mode='x', cut_coords=5,\n",
    "                       title='Threshold image with intensity value', colorbar=True);"
   ]
  },
  {
   "cell_type": "code",
   "execution_count": null,
   "metadata": {},
   "outputs": [],
   "source": [
    "# Showing intensity threshold image\n",
    "plotting.plot_stat_map(threshold_value_img, bg_img=mean_nii, display_mode='y', cut_coords=5,\n",
    "                       title='Threshold image with intensity value', colorbar=True);"
   ]
  },
  {
   "cell_type": "code",
   "execution_count": null,
   "metadata": {},
   "outputs": [],
   "source": [
    "# Showing intensity threshold image\n",
    "plotting.plot_stat_map(threshold_value_img, bg_img=mean_nii, display_mode='z', cut_coords=5,\n",
    "                       title='Threshold image with intensity value', colorbar=True);"
   ]
  },
  {
   "cell_type": "code",
   "execution_count": null,
   "metadata": {},
   "outputs": [],
   "source": [
    "regions_extracted_img, index = connected_regions(threshold_value_img,\n",
    "                                                 min_region_size=1350)"
   ]
  },
  {
   "cell_type": "code",
   "execution_count": null,
   "metadata": {
    "scrolled": true
   },
   "outputs": [],
   "source": [
    "title = (\"ROIs using image intensity thresholding. \"\n",
    "         \"\\n Each ROI in same color is an extracted region\")\n",
    "plotting.plot_prob_atlas(regions_value_img, bg_img=mean_nii,\n",
    "                         view_type='contours', display_mode='x',\n",
    "                         cut_coords=5, title=title);"
   ]
  },
  {
   "cell_type": "code",
   "execution_count": null,
   "metadata": {
    "scrolled": true
   },
   "outputs": [],
   "source": [
    "plotting.plot_prob_atlas(regions_value_img, bg_img=mean_nii,\n",
    "                         view_type='contours', display_mode='y',\n",
    "                         cut_coords=5);"
   ]
  },
  {
   "cell_type": "code",
   "execution_count": null,
   "metadata": {},
   "outputs": [],
   "source": [
    "plotting.plot_prob_atlas(regions_value_img, bg_img=mean_nii,\n",
    "                         view_type='contours', display_mode='z',\n",
    "                         cut_coords=5);"
   ]
  },
  {
   "cell_type": "code",
   "execution_count": null,
   "metadata": {},
   "outputs": [],
   "source": [
    "index"
   ]
  },
  {
   "cell_type": "code",
   "execution_count": null,
   "metadata": {},
   "outputs": [],
   "source": [
    "regions_extracted_img.shape"
   ]
  },
  {
   "cell_type": "code",
   "execution_count": null,
   "metadata": {},
   "outputs": [],
   "source": [
    "regions_extracted_img"
   ]
  },
  {
   "cell_type": "code",
   "execution_count": null,
   "metadata": {},
   "outputs": [],
   "source": [
    "# extract the masks using .dataobj (boolean arrs) \n",
    "roi_mask_one = regions_extracted_img.dataobj[:,:,:,0]\n",
    "roi_mask_two = regions_extracted_img.dataobj[:,:,:,1]\n",
    "roi_mask_three = regions_extracted_img.dataobj[:,:,:,2]\n",
    "roi_mask_four = regions_extracted_img.dataobj[:,:,:,3]\n",
    "roi_mask_five = regions_extracted_img.dataobj[:,:,:,4]\n",
    "roi_mask_six = regions_extracted_img.dataobj[:,:,:,5]\n",
    "\n",
    "roi_mask_one.shape"
   ]
  },
  {
   "cell_type": "code",
   "execution_count": null,
   "metadata": {},
   "outputs": [],
   "source": [
    "# convert to nifti object to plot\n",
    "roi_mask_nifti_one = nib.Nifti1Image(roi_mask_one, regions_extracted_img.affine, regions_extracted_img.header) \n",
    "\n",
    "# The mask_nii mask overlayed on mean_nii\n",
    "plotting.plot_roi(roi_img=roi_mask_nifti_one, bg_img=mean_nii, black_bg=False);"
   ]
  },
  {
   "cell_type": "code",
   "execution_count": null,
   "metadata": {},
   "outputs": [],
   "source": [
    "# convert to nifti object to plot\n",
    "roi_mask_nifti_two = nib.Nifti1Image(roi_mask_two, regions_extracted_img.affine, regions_extracted_img.header) \n",
    "\n",
    "# The mask_nii mask overlayed on mean_nii\n",
    "plotting.plot_roi(roi_img=roi_mask_nifti_two, bg_img=mean_nii, black_bg=False);"
   ]
  },
  {
   "cell_type": "code",
   "execution_count": null,
   "metadata": {},
   "outputs": [],
   "source": [
    "# convert to nifti object to plot\n",
    "roi_mask_nifti_three = nib.Nifti1Image(roi_mask_three, regions_extracted_img.affine, regions_extracted_img.header) \n",
    "\n",
    "# The mask_nii mask overlayed on mean_nii\n",
    "plotting.plot_roi(roi_img=roi_mask_nifti_three, bg_img=mean_nii, black_bg=False);"
   ]
  },
  {
   "cell_type": "code",
   "execution_count": null,
   "metadata": {},
   "outputs": [],
   "source": [
    "# convert to nifti object to plot\n",
    "roi_mask_nifti_four = nib.Nifti1Image(roi_mask_four, regions_extracted_img.affine, regions_extracted_img.header) \n",
    "\n",
    "# The mask_nii mask overlayed on mean_nii\n",
    "plotting.plot_roi(roi_img=roi_mask_nifti_four, bg_img=mean_nii, black_bg=False);"
   ]
  },
  {
   "cell_type": "code",
   "execution_count": null,
   "metadata": {},
   "outputs": [],
   "source": [
    "# convert to nifti object to plot\n",
    "roi_mask_nifti_five = nib.Nifti1Image(roi_mask_five, regions_extracted_img.affine, regions_extracted_img.header) \n",
    "\n",
    "# The mask_nii mask overlayed on mean_nii\n",
    "plotting.plot_roi(roi_img=roi_mask_nifti_five, bg_img=mean_nii, black_bg=False);"
   ]
  },
  {
   "cell_type": "code",
   "execution_count": null,
   "metadata": {},
   "outputs": [],
   "source": [
    "# convert to nifti object to plot\n",
    "roi_mask_nifti_six = nib.Nifti1Image(roi_mask_six, regions_extracted_img.affine, regions_extracted_img.header) \n",
    "\n",
    "# The mask_nii mask overlayed on mean_nii\n",
    "plotting.plot_roi(roi_img=roi_mask_nifti_six, bg_img=mean_nii, black_bg=False);"
   ]
  },
  {
   "cell_type": "markdown",
   "metadata": {},
   "source": [
    "# Take the top voxel of each of these masks (roi's)"
   ]
  },
  {
   "cell_type": "code",
   "execution_count": null,
   "metadata": {},
   "outputs": [],
   "source": [
    "zeros_vol = np.zeros(roi_mask_one.shape) # make zeros volume\n",
    " \n",
    "top_vox = max(np.unique(roi_mask_one)) # this is the max t statistic"
   ]
  },
  {
   "cell_type": "code",
   "execution_count": null,
   "metadata": {},
   "outputs": [],
   "source": [
    "roi_mask_one.shape"
   ]
  },
  {
   "cell_type": "code",
   "execution_count": null,
   "metadata": {
    "scrolled": false
   },
   "outputs": [],
   "source": [
    "top_vox_coords = np.where(roi_mask_one==top_vox) # get x,y,z coords for top voxel\n",
    "\n",
    "print(top_vox_coords) # these are the coordinates"
   ]
  },
  {
   "cell_type": "code",
   "execution_count": null,
   "metadata": {},
   "outputs": [],
   "source": [
    "int(top_vox_coords[0])"
   ]
  },
  {
   "cell_type": "markdown",
   "metadata": {},
   "source": [
    "## Now, these are coordinates in the mni space? (are they????). So we want to translate this coordinate to voxel space in order to find the right corresponding voxel\n",
    "\n",
    "[image.coord_transform](https://nilearn.github.io/modules/generated/nilearn.image.coord_transform.html)"
   ]
  },
  {
   "cell_type": "code",
   "execution_count": null,
   "metadata": {},
   "outputs": [],
   "source": [
    "from nilearn import image\n",
    "\n",
    "x_mni = int(top_vox_coords[0])\n",
    "y_mni = int(top_vox_coords[1])\n",
    "z_mni = int(top_vox_coords[2])\n",
    "\n",
    "print(x_mni,y_mni,z_mni)\n",
    "\n",
    "# transform from mni to voxel space \n",
    "voxel_space_coords = image.coord_transform(x_mni, y_mni, z_mni, regions_extracted_img.affine)\n",
    "\n",
    "print(voxel_space_coords)"
   ]
  },
  {
   "cell_type": "markdown",
   "metadata": {},
   "source": [
    "This is probably a stupid way to find the corresponding voxel but ok...\n"
   ]
  },
  {
   "cell_type": "code",
   "execution_count": null,
   "metadata": {},
   "outputs": [],
   "source": [
    "int(voxel_space_coords[0])"
   ]
  },
  {
   "cell_type": "code",
   "execution_count": null,
   "metadata": {},
   "outputs": [],
   "source": [
    "for v in range(len(all_vox_coords[0])):\n",
    "    \n",
    "    # x,y,z arrays are\n",
    "    x_arr = all_vox_coords[0, :]\n",
    "    y_arr = all_vox_coords[1, :]\n",
    "    z_arr = all_vox_coords[2, :]\n",
    "    \n",
    "    # take coordinates for voxel v\n",
    "    x = x_arr[v]\n",
    "    y = y_arr[v]\n",
    "    z = z_arr[v]\n",
    "\n",
    "#     if x == int(voxel_space_coords[0]) and y == int(voxel_space_coords[1]) and z == int(voxel_space_coords[2]):\n",
    "#         print(f'The coordinates correspond to voxel: {v}. Take the betas for this voxel to do your ISC!')\n",
    "\n",
    "    if x == int(top_vox_coords[0]) and y == int(top_vox_coords[1]) and z == int(top_vox_coords[2]):\n",
    "        top_V = v\n",
    "        print(f'The coordinates correspond to voxel: {top_V}. Take the betas for this voxel to do your ISC!')\n"
   ]
  },
  {
   "cell_type": "code",
   "execution_count": null,
   "metadata": {},
   "outputs": [],
   "source": [
    "print(coords_mat.shape)\n",
    "\n",
    "coords_mat # whole brain mask coordinates "
   ]
  },
  {
   "cell_type": "code",
   "execution_count": null,
   "metadata": {
    "scrolled": false
   },
   "outputs": [],
   "source": [
    "all_vox_coords = np.where(roi_mask_one!=0)\n",
    "\n",
    "print(np.array(all_vox_coords).shape)\n",
    "\n",
    "all_vox_coords = np.array(all_vox_coords)\n",
    "\n",
    "all_vox_coords"
   ]
  },
  {
   "cell_type": "code",
   "execution_count": null,
   "metadata": {
    "scrolled": true
   },
   "outputs": [],
   "source": [
    "tstats.shape"
   ]
  },
  {
   "cell_type": "code",
   "execution_count": null,
   "metadata": {},
   "outputs": [],
   "source": [
    "roi_mask_one[top_vox_coords]"
   ]
  },
  {
   "cell_type": "code",
   "execution_count": null,
   "metadata": {},
   "outputs": [],
   "source": [
    "# convert to nifti object to plot\n",
    "top_vox_nifti = nib.Nifti1Image(zeros_vol, regions_extracted_img.affine, regions_extracted_img.header) \n",
    "\n",
    "# The mask_nii mask overlayed on mean_nii\n",
    "plotting.plot_roi(roi_img=top_vox_nifti, bg_img=mean_nii, black_bg=False);"
   ]
  },
  {
   "cell_type": "code",
   "execution_count": null,
   "metadata": {},
   "outputs": [],
   "source": []
  },
  {
   "cell_type": "markdown",
   "metadata": {},
   "source": [
    "# Now we have the top voxel for one ROI, lets do the ISC\n",
    "\n",
    "## First, select the betas only for that voxel"
   ]
  },
  {
   "cell_type": "code",
   "execution_count": 19,
   "metadata": {},
   "outputs": [
    {
     "name": "stdout",
     "output_type": "stream",
     "text": [
      "(6, 1, 8)\n"
     ]
    }
   ],
   "source": [
    "# select all items from column 1357 (equivalent to [:, 1350, :] but this keeps it 3D)\n",
    "\n",
    "i = 1356\n",
    "\n",
    "topVox_betas_lvl_one = betas_level_one[:, i:i+1, :]\n",
    "\n",
    "topVox_betas_lvl_two = betas_level_two[:, 1356:1357, :]\n",
    "\n",
    "topVox_betas_lvl_three = betas_level_three[:, 1356:1357, :]\n",
    "\n",
    "topVox_betas_lvl_four = betas_level_four[:, 1356:1357, :]\n",
    "\n",
    "topVox_betas_lvl_five = betas_level_five[:, 1356:1357, :]\n",
    "\n",
    "topVox_betas_lvl_six = betas_level_six[:, 1356:1357, :]\n",
    "\n",
    "topVox_betas_lvl_seven = betas_level_seven[:, 1356:1357, :]\n",
    "\n",
    "topVox_betas_lvl_eight = betas_level_eight[:, 1356:1357, :]\n",
    "\n",
    "topVox_betas_lvl_nine = betas_level_nine[:, 1356:1357, :]\n",
    "# check shape \n",
    "\n",
    "print(topVox_betas_lvl_one.shape) # [games, top voxel, subjects]"
   ]
  },
  {
   "cell_type": "code",
   "execution_count": 21,
   "metadata": {},
   "outputs": [
    {
     "data": {
      "text/plain": [
       "array([[[ 0.99407732,  0.62705857, -0.12175723, -0.27629802,\n",
       "          0.62239993, -0.77129459,  0.52089119,  0.13649513]],\n",
       "\n",
       "       [[ 0.55955601,  1.43032634,  1.15527189,  0.33163884,\n",
       "          0.05569825, -0.01756327,  0.13032027,  1.57412815]],\n",
       "\n",
       "       [[ 0.0759692 , -0.3428579 ,  0.36849916,  0.28811693,\n",
       "          1.20633268, -0.91309267,  0.38871491, -0.42069376]],\n",
       "\n",
       "       [[ 0.43044406,  0.90647954,  0.9271065 ,  0.52324921,\n",
       "          2.38208508, -0.87047732,  0.42723322,  0.74721503]],\n",
       "\n",
       "       [[ 0.62388813,  1.70070136,  0.10861586, -0.09606238,\n",
       "          1.59888947, -0.48788071, -0.11431514, -0.53684944]],\n",
       "\n",
       "       [[ 0.69866604,  0.79309738,  1.2393645 , -0.02376747,\n",
       "          1.21785903,  0.30070189,  0.69001108, -0.23173241]]])"
      ]
     },
     "execution_count": 21,
     "metadata": {},
     "output_type": "execute_result"
    }
   ],
   "source": [
    "topVox_betas_lvl_one_check"
   ]
  },
  {
   "cell_type": "markdown",
   "metadata": {},
   "source": [
    "## Do the ISC"
   ]
  },
  {
   "cell_type": "code",
   "execution_count": 22,
   "metadata": {},
   "outputs": [],
   "source": [
    "r_coef_topVox_one = float(isc(topVox_betas_lvl_one , pairwise=False, tolerate_nans=True, summary_statistic='mean'))\n",
    "\n",
    "r_coef_topVox_two = float(isc(topVox_betas_lvl_two , pairwise=False, tolerate_nans=True, summary_statistic='mean'))\n",
    "\n",
    "r_coef_topVox_three = float(isc(topVox_betas_lvl_three , pairwise=False, tolerate_nans=True, summary_statistic='mean'))\n",
    "\n",
    "r_coef_topVox_four = float(isc(topVox_betas_lvl_four , pairwise=False, tolerate_nans=True, summary_statistic='mean'))\n",
    "\n",
    "r_coef_topVox_five = float(isc(topVox_betas_lvl_five , pairwise=False, tolerate_nans=True, summary_statistic='mean'))\n",
    "\n",
    "r_coef_topVox_six = float(isc(topVox_betas_lvl_six, pairwise=False, tolerate_nans=True, summary_statistic='mean'))\n",
    "\n",
    "r_coef_topVox_seven = float(isc(topVox_betas_lvl_seven , pairwise=False, tolerate_nans=True, summary_statistic='mean'))\n",
    "\n",
    "r_coef_topVox_eight = float(isc(topVox_betas_lvl_eight, pairwise=False, tolerate_nans=True, summary_statistic='mean'))\n",
    "\n",
    "r_coef_topVox_nine = float(isc(topVox_betas_lvl_nine, pairwise=False, tolerate_nans=True, summary_statistic='mean'))"
   ]
  },
  {
   "cell_type": "code",
   "execution_count": 23,
   "metadata": {},
   "outputs": [
    {
     "data": {
      "text/plain": [
       "0.21272940409318086"
      ]
     },
     "execution_count": 23,
     "metadata": {},
     "output_type": "execute_result"
    }
   ],
   "source": [
    "r_coef_topVox_one "
   ]
  },
  {
   "cell_type": "code",
   "execution_count": 24,
   "metadata": {},
   "outputs": [],
   "source": [
    "r_levels_list = [isc_r_topVox_one, isc_r_topVox_two, isc_r_topVox_three, isc_r_topVox_four, isc_r_topVox_five\n",
    "                ,isc_r_topVox_six, isc_r_topVox_seven, isc_r_topVox_eight, isc_r_topVox_nine]"
   ]
  },
  {
   "cell_type": "code",
   "execution_count": 25,
   "metadata": {},
   "outputs": [],
   "source": [
    "r_levels_list\n",
    "\n",
    "levels = list(range(1,10)) # for x axis"
   ]
  },
  {
   "cell_type": "markdown",
   "metadata": {},
   "source": [
    "## Plot the r values across levels"
   ]
  },
  {
   "cell_type": "code",
   "execution_count": 35,
   "metadata": {},
   "outputs": [
    {
     "data": {
      "image/png": "[encoded data removed]",
      "text/plain": [
       "<Figure size 600x250 with 1 Axes>"
      ]
     },
     "metadata": {},
     "output_type": "display_data"
    }
   ],
   "source": [
    "f, ax = plt.subplots(1,1, figsize = (12, 5), dpi=50)\n",
    "f.suptitle(f'R values for voxel {3} across levels')\n",
    "ax.bar(levels, r_levels_list, color='b', axes=ax);\n",
    "ax.set_ylabel('r');"
   ]
  },
  {
   "cell_type": "code",
   "execution_count": null,
   "metadata": {},
   "outputs": [],
   "source": [
    "plt.title(f'R values for voxel {top_V} across levels')\n",
    "plt.bar(levels, r_levels_list, color='b');\n",
    "plt.ylabel('r');"
   ]
  },
  {
   "cell_type": "markdown",
   "metadata": {},
   "source": [
    "# Option 2. Computing the ROI's manually\n",
    "\n",
    "\n",
    "http://nilearn.github.io/auto_examples/04_manipulating_images/plot_roi_extraction.html#sphx-glr-auto-examples-04-manipulating-images-plot-roi-extraction-py"
   ]
  },
  {
   "cell_type": "code",
   "execution_count": null,
   "metadata": {},
   "outputs": [],
   "source": []
  }
 ],
 "metadata": {
  "kernelspec": {
   "display_name": "brainiakEnv",
   "language": "python",
   "name": "brainiakenv"
  },
  "language_info": {
   "codemirror_mode": {
    "name": "ipython",
    "version": 3
   },
   "file_extension": ".py",
   "mimetype": "text/x-python",
   "name": "python",
   "nbconvert_exporter": "python",
   "pygments_lexer": "ipython3",
   "version": "3.7.7"
  }
 },
 "nbformat": 4,
 "nbformat_minor": 2
}
