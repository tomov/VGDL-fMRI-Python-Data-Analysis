{
 "cells": [
  {
   "cell_type": "code",
   "execution_count": 6,
   "metadata": {},
   "outputs": [
    {
     "data": {
      "application/javascript": [
       "IPython.notebook.set_autosave_interval(30000)"
      ]
     },
     "metadata": {},
     "output_type": "display_data"
    },
    {
     "name": "stdout",
     "output_type": "stream",
     "text": [
      "Autosaving every 30 seconds\n"
     ]
    }
   ],
   "source": [
    "import h5py\n",
    "import warnings\n",
    "import sys \n",
    "if not sys.warnoptions:\n",
    "    warnings.simplefilter(\"ignore\")\n",
    "import os \n",
    "import glob\n",
    "import time\n",
    "from copy import deepcopy\n",
    "import numpy as np\n",
    "import pandas as pd \n",
    "\n",
    "from nilearn import datasets, image\n",
    "from nilearn import surface\n",
    "from nilearn import plotting\n",
    "from nilearn.input_data import NiftiMasker, NiftiLabelsMasker\n",
    "import nibabel as nib\n",
    "\n",
    "from brainiak import image, io\n",
    "from brainiak.isc import isc, isfc, permutation_isc\n",
    "from brainiak.isc import compute_summary_statistic\n",
    "import matplotlib.pyplot as plt\n",
    "from mpl_toolkits import mplot3d \n",
    "import seaborn as sns \n",
    "import pandas as pd\n",
    "from importlib import reload \n",
    "import scipy.io as sio\n",
    "\n",
    "# import own functions\n",
    "import utils\n",
    "reload(utils)\n",
    "from utils import decode_variable, get_in_shape_levels, get_in_shape_blocks, plot_sub_isc_statmap, plot_statmap_onesub\n",
    "from utils import plot_statmap_avg, surface_plot_avg, test_plot_statmap_avg\n",
    "\n",
    "%autosave 30\n",
    "%matplotlib inline\n",
    "sns.set(style = 'white', context='talk', font_scale=1, rc={\"lines.linewidth\": 2})"
   ]
  },
  {
   "cell_type": "code",
   "execution_count": 7,
   "metadata": {},
   "outputs": [],
   "source": [
    "# specify local path\n",
    "path = '/Users/Daphne/data/'\n",
    "\n",
    "# parameters\n",
    "num_subjects = 8\n",
    "\n",
    "# # load all bold data\n",
    "games_betas = np.load(path+'bold_data_games.npy')\n",
    "blocks_betas = np.load(path+'bold_data_blocks.npy')"
   ]
  },
  {
   "cell_type": "code",
   "execution_count": 20,
   "metadata": {},
   "outputs": [],
   "source": [
    "from scipy import stats"
   ]
  },
  {
   "cell_type": "code",
   "execution_count": 21,
   "metadata": {
    "scrolled": true
   },
   "outputs": [
    {
     "data": {
      "text/plain": [
       "(6, 220075, 8)"
      ]
     },
     "execution_count": 21,
     "metadata": {},
     "output_type": "execute_result"
    }
   ],
   "source": [
    "games_betas.shape"
   ]
  },
  {
   "cell_type": "code",
   "execution_count": 9,
   "metadata": {},
   "outputs": [],
   "source": [
    "from utils import isc_onesub, array_correlation"
   ]
  },
  {
   "cell_type": "code",
   "execution_count": 10,
   "metadata": {
    "scrolled": true
   },
   "outputs": [
    {
     "name": "stdout",
     "output_type": "stream",
     "text": [
      "YEEY 0\n",
      "YEEY 1\n",
      "YEEY 2\n",
      "YEEY 3\n",
      "YEEY 4\n",
      "YEEY 5\n",
      "YEEY 6\n",
      "YEEY 7\n"
     ]
    }
   ],
   "source": [
    "betas = games_betas\n",
    "\n",
    "iscs_r = []\n",
    "iscs_pvalues = []\n",
    "\n",
    "for s in range(num_subjects):\n",
    "    print(f'YEEY {s}')\n",
    "    iscs_r_sub, iscs_p_sub = isc_onesub(betas, s)\n",
    "    \n",
    "    iscs_r.append(iscs_r_sub)\n",
    "    iscs_pvalues.append(iscs_p_sub)"
   ]
  },
  {
   "cell_type": "code",
   "execution_count": 13,
   "metadata": {},
   "outputs": [],
   "source": [
    "iscs_r_arr = np.array(iscs_r)\n",
    "iscs_pvalues_arr = np.array(iscs_pvalues)"
   ]
  },
  {
   "cell_type": "code",
   "execution_count": 31,
   "metadata": {},
   "outputs": [
    {
     "data": {
      "text/plain": [
       "(8, 220075)"
      ]
     },
     "execution_count": 31,
     "metadata": {},
     "output_type": "execute_result"
    }
   ],
   "source": [
    "iscs_r_arr.shape"
   ]
  },
  {
   "cell_type": "code",
   "execution_count": 32,
   "metadata": {},
   "outputs": [
    {
     "data": {
      "text/plain": [
       "(8, 220075)"
      ]
     },
     "execution_count": 32,
     "metadata": {},
     "output_type": "execute_result"
    }
   ],
   "source": [
    "iscs_pvalues_arr.shape"
   ]
  },
  {
   "cell_type": "code",
   "execution_count": 34,
   "metadata": {},
   "outputs": [
    {
     "data": {
      "text/plain": [
       "array([[0.42210951, 0.53420869, 0.15150502, ..., 0.37266653, 0.6494111 ,\n",
       "        0.62311752],\n",
       "       [0.76258094, 0.5548222 , 0.79195271, ..., 0.18352165, 0.1976349 ,\n",
       "        0.43277211],\n",
       "       [0.45198528, 0.448903  , 0.63500559, ..., 0.0168119 , 0.01642578,\n",
       "        0.81787554],\n",
       "       ...,\n",
       "       [0.59700198, 0.59715641, 0.69272265, ..., 0.30200212, 0.36212539,\n",
       "        0.73810802],\n",
       "       [0.41736782, 0.2187337 , 0.88670796, ..., 0.26965397, 0.20320249,\n",
       "        0.13427018],\n",
       "       [0.74519204, 0.79104977, 0.96156527, ..., 0.07055371, 0.15339638,\n",
       "        0.93871225]])"
      ]
     },
     "execution_count": 34,
     "metadata": {},
     "output_type": "execute_result"
    }
   ],
   "source": [
    "iscs_pvalues_arr"
   ]
  },
  {
   "cell_type": "code",
   "execution_count": 30,
   "metadata": {},
   "outputs": [
    {
     "data": {
      "text/plain": [
       "array([-0.83625121, -0.83919363, -0.95105714, ..., -0.83967253,\n",
       "       -0.89985113,  0.81378028])"
      ]
     },
     "execution_count": 30,
     "metadata": {},
     "output_type": "execute_result"
    }
   ],
   "source": [
    "iscs_r_arr[indices]"
   ]
  },
  {
   "cell_type": "code",
   "execution_count": null,
   "metadata": {},
   "outputs": [],
   "source": [
    "# iscs_stack_corrs = []\n",
    "# iscs_stack_pvalues = []\n",
    "\n",
    "# for s in range(num_subjects):\n",
    "#     isc_corrs_sub, isc_p_sub = array_correlation(betas, s)\n",
    "    \n",
    "#     iscs_stack.append(isc_corrs_sub)\n",
    "#     iscs_stack_pvalues.append(isc_p_sub)\n",
    "#     print(f'subject {s}')"
   ]
  },
  {
   "cell_type": "code",
   "execution_count": null,
   "metadata": {},
   "outputs": [],
   "source": [
    "# output is [subjects, voxels]\n",
    "\n",
    "# what then? we only want to get the correlations whose p-values < 0.05\n",
    "# 1) get the indices of the elements where p<0.05\n",
    "# 2) use these indices to select the correlation values from isc_stack_corrs\n",
    "\n"
   ]
  },
  {
   "cell_type": "markdown",
   "metadata": {},
   "source": [
    "# Testing the Significance of the Correlation Coefficient\n",
    "\n",
    "We did\n",
    "\n",
    "1. Compute ISC values for all subjects\n",
    "2. Fisher Z transform (arctanh) $\\rightarrow$ average mean values  $\\rightarrow$ apply inverse Fisher Z transform to get the correlation values back (tanh). This is what we have right now (`avg_isc_corrs`).\n",
    "\n",
    "Now do\n",
    "\n",
    "3. t-test against 0.\n",
    "\n",
    "> We perform a hypothesis test of the 'significance of the correlation coefficient' to decide whether the linear relationship in the sample data is strong enough to use to model the relationship in the population.\n",
    "\n",
    "- use a $p$-value to decide whether the $r$ is significant or not. \n",
    "    - if $p<0.05$: significant linear relationship between x and y\n",
    "    - if $p>0.05$: insufficient evidence, can't reject H0\n"
   ]
  },
  {
   "cell_type": "markdown",
   "metadata": {},
   "source": [
    "# Collapse"
   ]
  },
  {
   "cell_type": "code",
   "execution_count": null,
   "metadata": {},
   "outputs": [],
   "source": []
  },
  {
   "cell_type": "code",
   "execution_count": null,
   "metadata": {},
   "outputs": [],
   "source": []
  },
  {
   "cell_type": "code",
   "execution_count": null,
   "metadata": {},
   "outputs": [],
   "source": []
  }
 ],
 "metadata": {
  "kernelspec": {
   "display_name": "brainiakEnv",
   "language": "python",
   "name": "brainiakenv"
  },
  "language_info": {
   "codemirror_mode": {
    "name": "ipython",
    "version": 3
   },
   "file_extension": ".py",
   "mimetype": "text/x-python",
   "name": "python",
   "nbconvert_exporter": "python",
   "pygments_lexer": "ipython3",
   "version": "3.7.7"
  }
 },
 "nbformat": 4,
 "nbformat_minor": 2
}
