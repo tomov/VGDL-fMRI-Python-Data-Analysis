{
 "cells": [
  {
   "cell_type": "markdown",
   "metadata": {},
   "source": [
    "## Preprocess `.mat` files and reorder the betas, then save\n",
    "\n",
    "\n",
    "### Load data in notebook \n",
    "(we are dealing with `.mat` files) (**Remark.** note that we have 3 different types of data. `glm1, glm24, glm25`)\n",
    "\n",
    "The repetition time (TR) is different for each `glm`. So for example, TR of `glm1` is one block, so 3x60s = 180s.\n",
    "\n",
    "- The blocks (`glm 1`); TR = 180 s\n",
    "- The levels (`glm 25`); TR = 60 s\n",
    "- The 10 seconds boxcars (`glm 24`); TR = 10 s\n",
    "    \n",
    "    \n",
    "from [here](https://stackoverflow.com/questions/874461/read-mat-files-in-python) and [scipy docu](https://docs.scipy.org/doc/scipy-0.14.0/reference/generated/scipy.io.loadmat.html)\n",
    "```\n",
    "Neither scipy.io.savemat, nor scipy.io.loadmat work for MATLAB arrays version 7.3. But the good part is that MATLAB version 7.3 files are hdf5 datasets. So they can be read using a number of tools, including NumPy.\n",
    "```\n",
    "\n",
    "- see `utils.py` for helper functions\n",
    "\n",
    "### 2. Preprocess and reorder the rows in `B`, the average activity captured by the boxcar regressor for each block (the $\\beta_i's$ ).\n",
    "\n",
    "The bold signal is\n",
    "\n",
    "$$\n",
    "Y (\\text{signal}) = \\beta_1 x_1 + \\beta_2 x_2 \\dots + \\beta_k x_k \\\\\n",
    "  = \\sum_i^k \\beta_i x_i \n",
    "$$\n",
    "\n",
    "### Data variables & structure \n",
    "\n",
    "\n",
    "<img src=\"http://drive.google.com/uc?export=view&id=1Dp27c1wmHMr0aNFHgBF9vZaCWFBpJGUI\" style=\"height:230px\"/>\n"
   ]
  },
  {
   "cell_type": "code",
   "execution_count": 2,
   "metadata": {
    "scrolled": true
   },
   "outputs": [
    {
     "data": {
      "application/javascript": [
       "IPython.notebook.set_autosave_interval(30000)"
      ]
     },
     "metadata": {},
     "output_type": "display_data"
    },
    {
     "name": "stdout",
     "output_type": "stream",
     "text": [
      "Autosaving every 30 seconds\n"
     ]
    }
   ],
   "source": [
    "import h5py\n",
    "import warnings\n",
    "import sys \n",
    "if not sys.warnoptions:\n",
    "    warnings.simplefilter(\"ignore\")\n",
    "import os \n",
    "import glob\n",
    "import time\n",
    "from copy import deepcopy\n",
    "import numpy as np\n",
    "import pandas as pd \n",
    "\n",
    "from nilearn import datasets\n",
    "from nilearn import surface\n",
    "from nilearn import plotting\n",
    "from nilearn.input_data import NiftiMasker, NiftiLabelsMasker\n",
    "import nibabel as nib\n",
    "\n",
    "from brainiak import image, io\n",
    "from brainiak.isc import isc, isfc, permutation_isc\n",
    "from brainiak.isc import compute_summary_statistic\n",
    "import matplotlib.pyplot as plt\n",
    "from mpl_toolkits import mplot3d \n",
    "import seaborn as sns \n",
    "import pandas as pd\n",
    "from importlib import reload \n",
    "import scipy.io as sio\n",
    "\n",
    "# import own functions\n",
    "import utils\n",
    "from utils import decode_variable, get_in_shape_levels, get_in_shape_blocks, plot_sub_isc_statmap\n",
    "reload(utils)\n",
    "\n",
    "%autosave 30\n",
    "%matplotlib inline\n",
    "sns.set(style = 'white', context='talk', font_scale=1, rc={\"lines.linewidth\": 2})"
   ]
  },
  {
   "cell_type": "markdown",
   "metadata": {},
   "source": [
    "# 1. Blocks\n",
    "\n",
    "for blocks we take the `glm1` files\n",
    "\n",
    "```Python\n",
    "filename = 'beta_series_glm1_subj*_smooth.mat'\n",
    "```"
   ]
  },
  {
   "cell_type": "markdown",
   "metadata": {},
   "source": [
    "## 1.1 Load data in"
   ]
  },
  {
   "cell_type": "code",
   "execution_count": 48,
   "metadata": {
    "scrolled": true
   },
   "outputs": [
    {
     "name": "stdout",
     "output_type": "stream",
     "text": [
      "Get data for subject 1\n",
      "Get data for subject 2\n",
      "Get data for subject 3\n",
      "Get data for subject 4\n",
      "Get data for subject 5\n",
      "Get data for subject 6\n",
      "Get data for subject 7\n",
      "Get data for subject 8\n"
     ]
    }
   ],
   "source": [
    "num_subjects = 8\n",
    "\n",
    "B_data_blocks = []\n",
    "mask_data_blocks = []\n",
    "Vmask_data_blocks = []\n",
    "names_data_blocks = []\n",
    "\n",
    "for i in range(num_subjects):\n",
    "    idx = i+1\n",
    "    \n",
    "    # change filename to subject #\n",
    "    data_dir = '/Users/Daphne/Desktop/beta_series_smooth/'\n",
    "    filename = 'beta_series_glm1_subjk_smooth.mat'\n",
    "    filename = filename.replace('k', str(idx))\n",
    "    \n",
    "    subject = h5py.File(data_dir+filename,'r') \n",
    "    #print(list(subject.keys()))\n",
    "    print(f'Get data for subject {idx}')\n",
    "    # load and save data for respective subject\n",
    "    B = subject['B'].value\n",
    "    mask = subject['mask'].value\n",
    "    Vmask = subject['Vmask']\n",
    "    \n",
    "    # === decode level names ===\n",
    "    names = decode_variable(data_dir+filename, 'names')\n",
    "    \n",
    "    # append to lists\n",
    "    B_data_blocks.append(B)\n",
    "    mask_data_blocks.append(mask)\n",
    "    Vmask_data_blocks.append(Vmask)\n",
    "    names_data_blocks.append(names)"
   ]
  },
  {
   "cell_type": "code",
   "execution_count": 49,
   "metadata": {},
   "outputs": [
    {
     "name": "stdout",
     "output_type": "stream",
     "text": [
      "['Sn(1) vgfmri3_chase*bf(1)' 'Sn(1) vgfmri3_lemmings*bf(1)'\n",
      " 'Sn(1) vgfmri3_bait*bf(1)' 'Sn(2) vgfmri3_plaqueAttack*bf(1)'\n",
      " 'Sn(2) vgfmri3_helper*bf(1)' 'Sn(2) vgfmri3_zelda*bf(1)'\n",
      " 'Sn(3) vgfmri3_lemmings*bf(1)' 'Sn(3) vgfmri3_plaqueAttack*bf(1)'\n",
      " 'Sn(3) vgfmri3_zelda*bf(1)' 'Sn(4) vgfmri3_chase*bf(1)']\n"
     ]
    }
   ],
   "source": [
    "print(names_data_blocks[0][0:10])"
   ]
  },
  {
   "cell_type": "code",
   "execution_count": 101,
   "metadata": {},
   "outputs": [],
   "source": [
    "mask_arr = mask_data_blocks\n",
    "\n",
    "path = '/Users/Daphne/Desktop/VGDL-fMRI-Python-Data-Analysis/Multivariate_analyses/data/'\n",
    "\n",
    "np.save(path+'mask_arr', mask_arr)\n"
   ]
  },
  {
   "cell_type": "markdown",
   "metadata": {},
   "source": [
    "## 1.2 Preprocessing\n",
    "\n",
    "- Reorder the data in `B` so that all blocks are in the same order.\n",
    "- Get data in the right shape to perform ISC with brainiak.\n"
   ]
  },
  {
   "cell_type": "code",
   "execution_count": 50,
   "metadata": {},
   "outputs": [
    {
     "name": "stdout",
     "output_type": "stream",
     "text": [
      "Preprocess fMRI blocks data for subject 1\n",
      "Preprocess fMRI blocks data for subject 2\n",
      "Preprocess fMRI blocks data for subject 3\n",
      "Preprocess fMRI blocks data for subject 4\n",
      "Preprocess fMRI blocks data for subject 5\n",
      "Preprocess fMRI blocks data for subject 6\n",
      "Preprocess fMRI blocks data for subject 7\n",
      "Preprocess fMRI blocks data for subject 8\n"
     ]
    }
   ],
   "source": [
    "ISC_arr_blocks = []\n",
    "ordered_dfs_blocks = []\n",
    "\n",
    "for s in range(num_subjects):\n",
    "    \n",
    "    print(f'Preprocess fMRI blocks data for subject {s+1}')\n",
    "    # get the betas and game order from this\n",
    "    B_s = B_data_blocks[s].T # transpose to get [blocks, voxels]\n",
    "    names_s = names_data_blocks[s]\n",
    "    \n",
    "    dfOrdered, B_ordered = get_in_shape_blocks(B_s, names_s)\n",
    "    \n",
    "    ISC_arr_blocks.append(B_ordered)\n",
    "    ordered_dfs_blocks.append(dfOrdered)\n",
    "    \n",
    "ISC_arr_blocks = np.array(ISC_arr_blocks)"
   ]
  },
  {
   "cell_type": "code",
   "execution_count": 51,
   "metadata": {},
   "outputs": [
    {
     "data": {
      "text/html": [
       "<div>\n",
       "<style scoped>\n",
       "    .dataframe tbody tr th:only-of-type {\n",
       "        vertical-align: middle;\n",
       "    }\n",
       "\n",
       "    .dataframe tbody tr th {\n",
       "        vertical-align: top;\n",
       "    }\n",
       "\n",
       "    .dataframe thead th {\n",
       "        text-align: right;\n",
       "    }\n",
       "</style>\n",
       "<table border=\"1\" class=\"dataframe\">\n",
       "  <thead>\n",
       "    <tr style=\"text-align: right;\">\n",
       "      <th></th>\n",
       "      <th>block</th>\n",
       "      <th>session</th>\n",
       "      <th>0</th>\n",
       "      <th>1</th>\n",
       "      <th>2</th>\n",
       "      <th>3</th>\n",
       "      <th>4</th>\n",
       "      <th>5</th>\n",
       "      <th>6</th>\n",
       "      <th>7</th>\n",
       "      <th>...</th>\n",
       "      <th>220065</th>\n",
       "      <th>220066</th>\n",
       "      <th>220067</th>\n",
       "      <th>220068</th>\n",
       "      <th>220069</th>\n",
       "      <th>220070</th>\n",
       "      <th>220071</th>\n",
       "      <th>220072</th>\n",
       "      <th>220073</th>\n",
       "      <th>220074</th>\n",
       "    </tr>\n",
       "  </thead>\n",
       "  <tbody>\n",
       "    <tr>\n",
       "      <th>2</th>\n",
       "      <td>bait</td>\n",
       "      <td>Sn(1)</td>\n",
       "      <td>-2.481648</td>\n",
       "      <td>-2.389143</td>\n",
       "      <td>-1.378340</td>\n",
       "      <td>-1.863973</td>\n",
       "      <td>-2.141596</td>\n",
       "      <td>-2.168410</td>\n",
       "      <td>-1.980433</td>\n",
       "      <td>-1.621671</td>\n",
       "      <td>...</td>\n",
       "      <td>-0.169477</td>\n",
       "      <td>-0.378513</td>\n",
       "      <td>-0.492044</td>\n",
       "      <td>-0.544052</td>\n",
       "      <td>-0.152289</td>\n",
       "      <td>-0.129932</td>\n",
       "      <td>0.275107</td>\n",
       "      <td>0.076450</td>\n",
       "      <td>-0.039035</td>\n",
       "      <td>0.007810</td>\n",
       "    </tr>\n",
       "    <tr>\n",
       "      <th>8</th>\n",
       "      <td>bait</td>\n",
       "      <td>Sn(3)</td>\n",
       "      <td>-0.367010</td>\n",
       "      <td>-0.196446</td>\n",
       "      <td>-0.791404</td>\n",
       "      <td>-0.575174</td>\n",
       "      <td>-0.289704</td>\n",
       "      <td>0.028271</td>\n",
       "      <td>0.245217</td>\n",
       "      <td>0.260419</td>\n",
       "      <td>...</td>\n",
       "      <td>0.325280</td>\n",
       "      <td>0.148578</td>\n",
       "      <td>0.014657</td>\n",
       "      <td>-0.060109</td>\n",
       "      <td>0.007292</td>\n",
       "      <td>0.096778</td>\n",
       "      <td>0.420411</td>\n",
       "      <td>0.260720</td>\n",
       "      <td>0.147974</td>\n",
       "      <td>0.505072</td>\n",
       "    </tr>\n",
       "    <tr>\n",
       "      <th>14</th>\n",
       "      <td>bait</td>\n",
       "      <td>Sn(5)</td>\n",
       "      <td>1.790470</td>\n",
       "      <td>1.536919</td>\n",
       "      <td>0.929763</td>\n",
       "      <td>1.562272</td>\n",
       "      <td>1.970997</td>\n",
       "      <td>1.969237</td>\n",
       "      <td>1.636931</td>\n",
       "      <td>1.190901</td>\n",
       "      <td>...</td>\n",
       "      <td>0.553769</td>\n",
       "      <td>0.426035</td>\n",
       "      <td>0.306009</td>\n",
       "      <td>0.209851</td>\n",
       "      <td>1.350008</td>\n",
       "      <td>1.332053</td>\n",
       "      <td>0.302795</td>\n",
       "      <td>0.288404</td>\n",
       "      <td>0.305053</td>\n",
       "      <td>1.622812</td>\n",
       "    </tr>\n",
       "    <tr>\n",
       "      <th>3</th>\n",
       "      <td>chase</td>\n",
       "      <td>Sn(2)</td>\n",
       "      <td>-2.513420</td>\n",
       "      <td>-2.539430</td>\n",
       "      <td>-1.154479</td>\n",
       "      <td>-1.404383</td>\n",
       "      <td>-1.738660</td>\n",
       "      <td>-1.941170</td>\n",
       "      <td>-1.944731</td>\n",
       "      <td>-1.694107</td>\n",
       "      <td>...</td>\n",
       "      <td>0.301603</td>\n",
       "      <td>0.545929</td>\n",
       "      <td>0.868380</td>\n",
       "      <td>1.089191</td>\n",
       "      <td>0.263032</td>\n",
       "      <td>0.316593</td>\n",
       "      <td>0.540303</td>\n",
       "      <td>0.688182</td>\n",
       "      <td>0.920353</td>\n",
       "      <td>0.561565</td>\n",
       "    </tr>\n",
       "    <tr>\n",
       "      <th>7</th>\n",
       "      <td>chase</td>\n",
       "      <td>Sn(3)</td>\n",
       "      <td>-1.036697</td>\n",
       "      <td>-0.917888</td>\n",
       "      <td>-0.651373</td>\n",
       "      <td>-0.770894</td>\n",
       "      <td>-0.810088</td>\n",
       "      <td>-0.718126</td>\n",
       "      <td>-0.540520</td>\n",
       "      <td>-0.364067</td>\n",
       "      <td>...</td>\n",
       "      <td>0.890840</td>\n",
       "      <td>1.101161</td>\n",
       "      <td>1.255906</td>\n",
       "      <td>1.303964</td>\n",
       "      <td>0.119302</td>\n",
       "      <td>0.052019</td>\n",
       "      <td>1.137229</td>\n",
       "      <td>1.390685</td>\n",
       "      <td>1.587178</td>\n",
       "      <td>0.525781</td>\n",
       "    </tr>\n",
       "    <tr>\n",
       "      <th>12</th>\n",
       "      <td>chase</td>\n",
       "      <td>Sn(5)</td>\n",
       "      <td>-0.951518</td>\n",
       "      <td>-0.895393</td>\n",
       "      <td>-0.903024</td>\n",
       "      <td>-0.755501</td>\n",
       "      <td>-0.707465</td>\n",
       "      <td>-0.662530</td>\n",
       "      <td>-0.588037</td>\n",
       "      <td>-0.562128</td>\n",
       "      <td>...</td>\n",
       "      <td>0.970452</td>\n",
       "      <td>0.671771</td>\n",
       "      <td>0.324982</td>\n",
       "      <td>0.065867</td>\n",
       "      <td>0.462323</td>\n",
       "      <td>0.496855</td>\n",
       "      <td>0.936099</td>\n",
       "      <td>0.691683</td>\n",
       "      <td>0.407407</td>\n",
       "      <td>0.512947</td>\n",
       "    </tr>\n",
       "    <tr>\n",
       "      <th>1</th>\n",
       "      <td>helper</td>\n",
       "      <td>Sn(1)</td>\n",
       "      <td>0.052872</td>\n",
       "      <td>0.128258</td>\n",
       "      <td>-0.524896</td>\n",
       "      <td>-0.408537</td>\n",
       "      <td>-0.000135</td>\n",
       "      <td>0.450675</td>\n",
       "      <td>0.646527</td>\n",
       "      <td>0.506248</td>\n",
       "      <td>...</td>\n",
       "      <td>0.481889</td>\n",
       "      <td>0.064717</td>\n",
       "      <td>-0.405451</td>\n",
       "      <td>-0.853344</td>\n",
       "      <td>-0.287999</td>\n",
       "      <td>-0.098856</td>\n",
       "      <td>0.838010</td>\n",
       "      <td>0.377683</td>\n",
       "      <td>-0.137316</td>\n",
       "      <td>0.385629</td>\n",
       "    </tr>\n",
       "    <tr>\n",
       "      <th>9</th>\n",
       "      <td>helper</td>\n",
       "      <td>Sn(4)</td>\n",
       "      <td>-2.311759</td>\n",
       "      <td>-2.429004</td>\n",
       "      <td>-2.139832</td>\n",
       "      <td>-1.691737</td>\n",
       "      <td>-1.467166</td>\n",
       "      <td>-1.420989</td>\n",
       "      <td>-1.489437</td>\n",
       "      <td>-1.539786</td>\n",
       "      <td>...</td>\n",
       "      <td>0.463179</td>\n",
       "      <td>0.641903</td>\n",
       "      <td>0.790120</td>\n",
       "      <td>0.824531</td>\n",
       "      <td>0.208585</td>\n",
       "      <td>0.327628</td>\n",
       "      <td>0.813510</td>\n",
       "      <td>1.019502</td>\n",
       "      <td>1.155964</td>\n",
       "      <td>0.771025</td>\n",
       "    </tr>\n",
       "    <tr>\n",
       "      <th>17</th>\n",
       "      <td>helper</td>\n",
       "      <td>Sn(6)</td>\n",
       "      <td>-1.562838</td>\n",
       "      <td>-1.694666</td>\n",
       "      <td>-0.946912</td>\n",
       "      <td>-0.825241</td>\n",
       "      <td>-0.777357</td>\n",
       "      <td>-0.831859</td>\n",
       "      <td>-0.959117</td>\n",
       "      <td>-1.106628</td>\n",
       "      <td>...</td>\n",
       "      <td>0.594220</td>\n",
       "      <td>0.768350</td>\n",
       "      <td>0.916759</td>\n",
       "      <td>1.025551</td>\n",
       "      <td>1.285331</td>\n",
       "      <td>0.968586</td>\n",
       "      <td>0.628030</td>\n",
       "      <td>0.729031</td>\n",
       "      <td>0.796998</td>\n",
       "      <td>1.051900</td>\n",
       "    </tr>\n",
       "    <tr>\n",
       "      <th>4</th>\n",
       "      <td>lemmings</td>\n",
       "      <td>Sn(2)</td>\n",
       "      <td>-0.056267</td>\n",
       "      <td>-0.152029</td>\n",
       "      <td>0.025156</td>\n",
       "      <td>0.128017</td>\n",
       "      <td>0.047057</td>\n",
       "      <td>-0.072915</td>\n",
       "      <td>-0.189363</td>\n",
       "      <td>-0.226938</td>\n",
       "      <td>...</td>\n",
       "      <td>0.317969</td>\n",
       "      <td>0.500673</td>\n",
       "      <td>0.686621</td>\n",
       "      <td>0.808590</td>\n",
       "      <td>-0.093731</td>\n",
       "      <td>-0.179231</td>\n",
       "      <td>0.600261</td>\n",
       "      <td>0.659544</td>\n",
       "      <td>0.744191</td>\n",
       "      <td>0.119157</td>\n",
       "    </tr>\n",
       "  </tbody>\n",
       "</table>\n",
       "<p>10 rows × 220077 columns</p>\n",
       "</div>"
      ],
      "text/plain": [
       "       block session         0         1         2         3         4  \\\n",
       "2       bait   Sn(1) -2.481648 -2.389143 -1.378340 -1.863973 -2.141596   \n",
       "8       bait   Sn(3) -0.367010 -0.196446 -0.791404 -0.575174 -0.289704   \n",
       "14      bait   Sn(5)  1.790470  1.536919  0.929763  1.562272  1.970997   \n",
       "3      chase   Sn(2) -2.513420 -2.539430 -1.154479 -1.404383 -1.738660   \n",
       "7      chase   Sn(3) -1.036697 -0.917888 -0.651373 -0.770894 -0.810088   \n",
       "12     chase   Sn(5) -0.951518 -0.895393 -0.903024 -0.755501 -0.707465   \n",
       "1     helper   Sn(1)  0.052872  0.128258 -0.524896 -0.408537 -0.000135   \n",
       "9     helper   Sn(4) -2.311759 -2.429004 -2.139832 -1.691737 -1.467166   \n",
       "17    helper   Sn(6) -1.562838 -1.694666 -0.946912 -0.825241 -0.777357   \n",
       "4   lemmings   Sn(2) -0.056267 -0.152029  0.025156  0.128017  0.047057   \n",
       "\n",
       "           5         6         7  ...    220065    220066    220067    220068  \\\n",
       "2  -2.168410 -1.980433 -1.621671  ... -0.169477 -0.378513 -0.492044 -0.544052   \n",
       "8   0.028271  0.245217  0.260419  ...  0.325280  0.148578  0.014657 -0.060109   \n",
       "14  1.969237  1.636931  1.190901  ...  0.553769  0.426035  0.306009  0.209851   \n",
       "3  -1.941170 -1.944731 -1.694107  ...  0.301603  0.545929  0.868380  1.089191   \n",
       "7  -0.718126 -0.540520 -0.364067  ...  0.890840  1.101161  1.255906  1.303964   \n",
       "12 -0.662530 -0.588037 -0.562128  ...  0.970452  0.671771  0.324982  0.065867   \n",
       "1   0.450675  0.646527  0.506248  ...  0.481889  0.064717 -0.405451 -0.853344   \n",
       "9  -1.420989 -1.489437 -1.539786  ...  0.463179  0.641903  0.790120  0.824531   \n",
       "17 -0.831859 -0.959117 -1.106628  ...  0.594220  0.768350  0.916759  1.025551   \n",
       "4  -0.072915 -0.189363 -0.226938  ...  0.317969  0.500673  0.686621  0.808590   \n",
       "\n",
       "      220069    220070    220071    220072    220073    220074  \n",
       "2  -0.152289 -0.129932  0.275107  0.076450 -0.039035  0.007810  \n",
       "8   0.007292  0.096778  0.420411  0.260720  0.147974  0.505072  \n",
       "14  1.350008  1.332053  0.302795  0.288404  0.305053  1.622812  \n",
       "3   0.263032  0.316593  0.540303  0.688182  0.920353  0.561565  \n",
       "7   0.119302  0.052019  1.137229  1.390685  1.587178  0.525781  \n",
       "12  0.462323  0.496855  0.936099  0.691683  0.407407  0.512947  \n",
       "1  -0.287999 -0.098856  0.838010  0.377683 -0.137316  0.385629  \n",
       "9   0.208585  0.327628  0.813510  1.019502  1.155964  0.771025  \n",
       "17  1.285331  0.968586  0.628030  0.729031  0.796998  1.051900  \n",
       "4  -0.093731 -0.179231  0.600261  0.659544  0.744191  0.119157  \n",
       "\n",
       "[10 rows x 220077 columns]"
      ]
     },
     "execution_count": 51,
     "metadata": {},
     "output_type": "execute_result"
    }
   ],
   "source": [
    "ordered_dfs_blocks[2].head(10) # check order"
   ]
  },
  {
   "cell_type": "code",
   "execution_count": 52,
   "metadata": {
    "scrolled": true
   },
   "outputs": [
    {
     "data": {
      "text/plain": [
       "(18, 220075, 8)"
      ]
     },
     "execution_count": 52,
     "metadata": {},
     "output_type": "execute_result"
    }
   ],
   "source": [
    "# get datat in the right shape to perform ISC with brainiak\n",
    "# swap those axes!\n",
    "blocks_ISC = np.swapaxes(ISC_arr_blocks, 0, 1) # need to get [TRs, voxels, subjects]\n",
    "blocks_ISC = np.swapaxes(blocks_ISC, 1, 2)\n",
    "\n",
    "blocks_ISC.shape"
   ]
  },
  {
   "cell_type": "markdown",
   "metadata": {},
   "source": [
    "# 2. Games\n",
    "\n",
    "- Collapse the session numbers to obtain a matrix `6 (games) x voxels`\n",
    "- For each 3 rows, add the values for each respective column and take the average"
   ]
  },
  {
   "cell_type": "code",
   "execution_count": 69,
   "metadata": {
    "scrolled": false
   },
   "outputs": [
    {
     "name": "stdout",
     "output_type": "stream",
     "text": [
      "(6, 220075)\n",
      "(6, 220075)\n",
      "(6, 220075)\n",
      "(6, 220075)\n",
      "(6, 220075)\n",
      "(6, 220075)\n",
      "(6, 220075)\n",
      "(6, 220075)\n"
     ]
    }
   ],
   "source": [
    "ordered_dfs_games = []\n",
    "B_ordered_games = []\n",
    "\n",
    "for i, df in enumerate(ordered_dfs_blocks):\n",
    "    \n",
    "    # average betas by game name (block)\n",
    "    df_game = ordered_dfs_blocks[i].groupby('block').mean()\n",
    "    ordered_dfs_games.append(df_game)\n",
    "    \n",
    "    B_games = df_game.values # convert to np array for ISC analysis\n",
    "    B_ordered_games.append(B_games)\n",
    "    print(df_game.shape)\n",
    "\n",
    "B_ordered_games = np.array(B_ordered_games)"
   ]
  },
  {
   "cell_type": "code",
   "execution_count": 70,
   "metadata": {
    "scrolled": false
   },
   "outputs": [
    {
     "data": {
      "text/plain": [
       "(8, 6, 220075)"
      ]
     },
     "execution_count": 70,
     "metadata": {},
     "output_type": "execute_result"
    }
   ],
   "source": [
    "B_ordered_games.shape"
   ]
  },
  {
   "cell_type": "code",
   "execution_count": 72,
   "metadata": {
    "scrolled": true
   },
   "outputs": [
    {
     "data": {
      "text/plain": [
       "(6, 220075, 8)"
      ]
     },
     "execution_count": 72,
     "metadata": {},
     "output_type": "execute_result"
    }
   ],
   "source": [
    "# get datat in the right shape to perform ISC with brainiak\n",
    "# swap those axes!\n",
    "games_ISC = np.swapaxes(B_ordered_games, 0, 1) # need to get [TRs, voxels, subjects]\n",
    "games_ISC = np.swapaxes(games_ISC, 1, 2)\n",
    "\n",
    "games_ISC.shape"
   ]
  },
  {
   "cell_type": "code",
   "execution_count": 73,
   "metadata": {},
   "outputs": [
    {
     "data": {
      "text/plain": [
       "array([[ 0.87387085, -0.73672632, -0.35272933, ..., -0.50960539,\n",
       "        -1.28747742, -1.01653192],\n",
       "       [ 0.78006113, -0.71179776, -0.34955696, ..., -0.51687793,\n",
       "        -1.22466587, -1.13050979],\n",
       "       [ 0.65952041, -0.34637908, -0.41332698, ..., -0.15840919,\n",
       "        -1.26114808, -0.9080451 ],\n",
       "       ...,\n",
       "       [-0.35900998, -0.40345447,  0.20852445, ..., -0.48222077,\n",
       "         1.42995558,  1.4721481 ],\n",
       "       [-0.74783314, -0.52178536,  0.13799743, ..., -0.6416115 ,\n",
       "         0.85561911,  1.28345553],\n",
       "       [ 1.64073255,  0.82627211,  0.71189812, ..., -0.24329543,\n",
       "         1.10470839,  0.94246493]])"
      ]
     },
     "execution_count": 73,
     "metadata": {},
     "output_type": "execute_result"
    }
   ],
   "source": [
    "games_ISC[0]"
   ]
  },
  {
   "cell_type": "code",
   "execution_count": 75,
   "metadata": {},
   "outputs": [],
   "source": [
    "#sio.savemat('test.mat', {'mydata': arr})"
   ]
  },
  {
   "cell_type": "code",
   "execution_count": 76,
   "metadata": {},
   "outputs": [],
   "source": [
    "games_isc_maps = isc(games_ISC, pairwise=False) # The output of ISC is a voxel by \n",
    "                           # participant matrix (showing the result of each individual with the group)."
   ]
  },
  {
   "cell_type": "code",
   "execution_count": 77,
   "metadata": {},
   "outputs": [],
   "source": [
    "# get average ISC corr\n",
    "# compute the average across participants \n",
    "avg_isc_corrs_games = isc(games_ISC, pairwise=False, summary_statistic='mean', tolerate_nans=True) \n",
    "#avg_blocks_isc_maps_med = isc(blocks_ISC, pairwise=False, summary_statistic='median', tolerate_nans=True) \n",
    "avg_isc_corrs_games = np.array(avg_isc_corrs_games)"
   ]
  },
  {
   "cell_type": "code",
   "execution_count": 79,
   "metadata": {
    "scrolled": false
   },
   "outputs": [
    {
     "data": {
      "text/plain": [
       "(220075,)"
      ]
     },
     "execution_count": 79,
     "metadata": {},
     "output_type": "execute_result"
    }
   ],
   "source": [
    "avg_isc_corrs_games.shape"
   ]
  },
  {
   "cell_type": "code",
   "execution_count": 80,
   "metadata": {
    "scrolled": true
   },
   "outputs": [
    {
     "data": {
      "text/plain": [
       "array([ 0.08120056,  0.13898273, -0.02791107, ...,  0.41648498,\n",
       "        0.40611366,  0.16813451])"
      ]
     },
     "execution_count": 80,
     "metadata": {},
     "output_type": "execute_result"
    }
   ],
   "source": [
    "avg_isc_corrs_games"
   ]
  },
  {
   "cell_type": "markdown",
   "metadata": {},
   "source": [
    "# 3. Levels\n",
    "\n",
    "for levels we take the `glm25` files\n",
    "\n",
    "```Python\n",
    "filename = 'beta_series_glm25_subj*_smooth.mat'\n",
    "```"
   ]
  },
  {
   "cell_type": "markdown",
   "metadata": {},
   "source": [
    "## 3.1 Load in smooth levels data"
   ]
  },
  {
   "cell_type": "code",
   "execution_count": 3,
   "metadata": {
    "scrolled": true
   },
   "outputs": [
    {
     "name": "stdout",
     "output_type": "stream",
     "text": [
      "Get data for subject 1\n",
      "Get data for subject 2\n",
      "Get data for subject 3\n",
      "Get data for subject 4\n",
      "Get data for subject 5\n",
      "Get data for subject 6\n",
      "Get data for subject 7\n",
      "Get data for subject 8\n"
     ]
    }
   ],
   "source": [
    "num_subjects = 8\n",
    "\n",
    "B_data_levels = []\n",
    "mask_data_levels = []\n",
    "Vmask_data_levels = []\n",
    "names_data_levels = []\n",
    "\n",
    "for i in range(num_subjects):\n",
    "    idx = i+1\n",
    "    \n",
    "    # change filename to subject #\n",
    "    data_dir = '/Users/Daphne/Desktop/beta_series_smooth/'\n",
    "    filename = 'beta_series_glm25_subjk_smooth.mat'\n",
    "    filename = filename.replace('k', str(idx))\n",
    "    \n",
    "    subject = h5py.File(data_dir+filename,'r') \n",
    "    #print(list(subject.keys()))\n",
    "    print(f'Get data for subject {idx}')\n",
    "    # load and save data for respective subject\n",
    "    B = subject['B'].value\n",
    "    mask = subject['mask'].value\n",
    "    Vmask = subject['Vmask']\n",
    "    \n",
    "    # === decode level names ===\n",
    "    names = decode_variable(data_dir+filename, 'names')\n",
    "    \n",
    "    # append to lists\n",
    "    B_data_levels.append(B)\n",
    "    mask_data_levels.append(mask)\n",
    "    Vmask_data_levels.append(Vmask)\n",
    "    names_data_levels.append(names)"
   ]
  },
  {
   "cell_type": "code",
   "execution_count": 4,
   "metadata": {
    "scrolled": true
   },
   "outputs": [
    {
     "data": {
      "text/plain": [
       "array(['Sn(1) vgfmri3_chase_run_1_block_1_instance_1*bf(1)',\n",
       "       'Sn(1) vgfmri3_chase_run_1_block_1_instance_2*bf(1)',\n",
       "       'Sn(1) vgfmri3_chase_run_1_block_1_instance_3*bf(1)',\n",
       "       'Sn(1) vgfmri3_lemmings_run_1_block_2_instance_1*bf(1)',\n",
       "       'Sn(1) vgfmri3_lemmings_run_1_block_2_instance_2*bf(1)',\n",
       "       'Sn(1) vgfmri3_lemmings_run_1_block_2_instance_3*bf(1)',\n",
       "       'Sn(1) vgfmri3_bait_run_1_block_3_instance_1*bf(1)',\n",
       "       'Sn(1) vgfmri3_bait_run_1_block_3_instance_2*bf(1)',\n",
       "       'Sn(1) vgfmri3_bait_run_1_block_3_instance_3*bf(1)',\n",
       "       'Sn(2) vgfmri3_plaqueAttack_run_2_block_1_instance_1*bf(1)'],\n",
       "      dtype='<U57')"
      ]
     },
     "execution_count": 4,
     "metadata": {},
     "output_type": "execute_result"
    }
   ],
   "source": [
    "names_data_levels[0][:10]"
   ]
  },
  {
   "cell_type": "code",
   "execution_count": 5,
   "metadata": {
    "scrolled": true
   },
   "outputs": [
    {
     "data": {
      "text/plain": [
       "(220075, 54)"
      ]
     },
     "execution_count": 5,
     "metadata": {},
     "output_type": "execute_result"
    }
   ],
   "source": [
    "B_data_levels[3].shape"
   ]
  },
  {
   "cell_type": "markdown",
   "metadata": {},
   "source": [
    "## 3.2 Preprocess"
   ]
  },
  {
   "cell_type": "code",
   "execution_count": 6,
   "metadata": {
    "scrolled": true
   },
   "outputs": [
    {
     "name": "stdout",
     "output_type": "stream",
     "text": [
      "Preprocess fMRI data for subject 1\n",
      "Preprocess fMRI data for subject 2\n",
      "Preprocess fMRI data for subject 3\n",
      "Preprocess fMRI data for subject 4\n",
      "Preprocess fMRI data for subject 5\n",
      "Preprocess fMRI data for subject 6\n",
      "Preprocess fMRI data for subject 7\n",
      "Preprocess fMRI data for subject 8\n"
     ]
    }
   ],
   "source": [
    "ISC_arr_levels = []\n",
    "ordered_dfs_levels = []\n",
    "clean_names_arr = [] \n",
    "\n",
    "for s in range(num_subjects):\n",
    "    \n",
    "    print(f'Preprocess fMRI data for subject {s+1}')\n",
    "    # get the betas and game order from this\n",
    "    B_s = B_data_levels[s].T # transpose to get [blocks, voxels]\n",
    "    names_s = names_data_levels[s]\n",
    "    \n",
    "    level_names, dfOrdered, B_ordered = get_in_shape_levels(B_s, names_s)\n",
    "    \n",
    "    ISC_arr_levels.append(B_ordered)\n",
    "    ordered_dfs_levels.append(dfOrdered)\n",
    "    clean_names_arr.append(level_names)\n",
    "    \n",
    "ISC_arr_levels = np.array(ISC_arr_levels)"
   ]
  },
  {
   "cell_type": "code",
   "execution_count": 7,
   "metadata": {
    "scrolled": true
   },
   "outputs": [
    {
     "data": {
      "text/html": [
       "<div>\n",
       "<style scoped>\n",
       "    .dataframe tbody tr th:only-of-type {\n",
       "        vertical-align: middle;\n",
       "    }\n",
       "\n",
       "    .dataframe tbody tr th {\n",
       "        vertical-align: top;\n",
       "    }\n",
       "\n",
       "    .dataframe thead th {\n",
       "        text-align: right;\n",
       "    }\n",
       "</style>\n",
       "<table border=\"1\" class=\"dataframe\">\n",
       "  <thead>\n",
       "    <tr style=\"text-align: right;\">\n",
       "      <th></th>\n",
       "      <th>game</th>\n",
       "      <th>session</th>\n",
       "      <th>instance</th>\n",
       "      <th>level</th>\n",
       "      <th>0</th>\n",
       "      <th>1</th>\n",
       "      <th>2</th>\n",
       "      <th>3</th>\n",
       "      <th>4</th>\n",
       "      <th>5</th>\n",
       "      <th>...</th>\n",
       "      <th>220065</th>\n",
       "      <th>220066</th>\n",
       "      <th>220067</th>\n",
       "      <th>220068</th>\n",
       "      <th>220069</th>\n",
       "      <th>220070</th>\n",
       "      <th>220071</th>\n",
       "      <th>220072</th>\n",
       "      <th>220073</th>\n",
       "      <th>220074</th>\n",
       "    </tr>\n",
       "  </thead>\n",
       "  <tbody>\n",
       "    <tr>\n",
       "      <th>6</th>\n",
       "      <td>bait_run_1_block_3</td>\n",
       "      <td>Sn(1)</td>\n",
       "      <td>1</td>\n",
       "      <td>1</td>\n",
       "      <td>-4.078312</td>\n",
       "      <td>-4.000875</td>\n",
       "      <td>-1.956279</td>\n",
       "      <td>-2.730596</td>\n",
       "      <td>-3.409707</td>\n",
       "      <td>-3.778748</td>\n",
       "      <td>...</td>\n",
       "      <td>0.262834</td>\n",
       "      <td>-0.203534</td>\n",
       "      <td>-0.644644</td>\n",
       "      <td>-0.920552</td>\n",
       "      <td>1.217692</td>\n",
       "      <td>0.997218</td>\n",
       "      <td>0.452487</td>\n",
       "      <td>0.077725</td>\n",
       "      <td>-0.249757</td>\n",
       "      <td>1.150459</td>\n",
       "    </tr>\n",
       "    <tr>\n",
       "      <th>7</th>\n",
       "      <td>bait_run_1_block_3</td>\n",
       "      <td>Sn(1)</td>\n",
       "      <td>2</td>\n",
       "      <td>2</td>\n",
       "      <td>-3.392328</td>\n",
       "      <td>-3.240817</td>\n",
       "      <td>-1.761241</td>\n",
       "      <td>-2.410842</td>\n",
       "      <td>-2.916747</td>\n",
       "      <td>-3.145504</td>\n",
       "      <td>...</td>\n",
       "      <td>0.252098</td>\n",
       "      <td>0.056709</td>\n",
       "      <td>-0.109983</td>\n",
       "      <td>-0.234372</td>\n",
       "      <td>0.050432</td>\n",
       "      <td>0.028958</td>\n",
       "      <td>0.645768</td>\n",
       "      <td>0.440287</td>\n",
       "      <td>0.249902</td>\n",
       "      <td>0.420930</td>\n",
       "    </tr>\n",
       "    <tr>\n",
       "      <th>8</th>\n",
       "      <td>bait_run_1_block_3</td>\n",
       "      <td>Sn(1)</td>\n",
       "      <td>3</td>\n",
       "      <td>3</td>\n",
       "      <td>-0.431101</td>\n",
       "      <td>-0.289687</td>\n",
       "      <td>-0.497847</td>\n",
       "      <td>-0.600400</td>\n",
       "      <td>-0.457012</td>\n",
       "      <td>-0.174014</td>\n",
       "      <td>...</td>\n",
       "      <td>-0.441080</td>\n",
       "      <td>-0.523962</td>\n",
       "      <td>-0.495710</td>\n",
       "      <td>-0.423318</td>\n",
       "      <td>-0.336802</td>\n",
       "      <td>-0.219711</td>\n",
       "      <td>0.158012</td>\n",
       "      <td>0.047596</td>\n",
       "      <td>0.026951</td>\n",
       "      <td>-0.169689</td>\n",
       "    </tr>\n",
       "    <tr>\n",
       "      <th>24</th>\n",
       "      <td>bait_run_3_block_3</td>\n",
       "      <td>Sn(3)</td>\n",
       "      <td>1</td>\n",
       "      <td>4</td>\n",
       "      <td>-1.648642</td>\n",
       "      <td>-1.194657</td>\n",
       "      <td>-1.575249</td>\n",
       "      <td>-1.517209</td>\n",
       "      <td>-1.379423</td>\n",
       "      <td>-1.037922</td>\n",
       "      <td>...</td>\n",
       "      <td>-0.147432</td>\n",
       "      <td>-0.409104</td>\n",
       "      <td>-0.501229</td>\n",
       "      <td>-0.445755</td>\n",
       "      <td>-1.084002</td>\n",
       "      <td>-0.809134</td>\n",
       "      <td>0.000113</td>\n",
       "      <td>-0.086182</td>\n",
       "      <td>-0.102712</td>\n",
       "      <td>-0.760211</td>\n",
       "    </tr>\n",
       "    <tr>\n",
       "      <th>25</th>\n",
       "      <td>bait_run_3_block_3</td>\n",
       "      <td>Sn(3)</td>\n",
       "      <td>2</td>\n",
       "      <td>5</td>\n",
       "      <td>-0.035355</td>\n",
       "      <td>0.374801</td>\n",
       "      <td>0.377494</td>\n",
       "      <td>-0.029966</td>\n",
       "      <td>-0.318555</td>\n",
       "      <td>-0.206694</td>\n",
       "      <td>...</td>\n",
       "      <td>0.223492</td>\n",
       "      <td>0.007802</td>\n",
       "      <td>-0.009043</td>\n",
       "      <td>0.161127</td>\n",
       "      <td>-0.363223</td>\n",
       "      <td>-0.031964</td>\n",
       "      <td>0.449439</td>\n",
       "      <td>0.326025</td>\n",
       "      <td>0.316556</td>\n",
       "      <td>-0.073289</td>\n",
       "    </tr>\n",
       "    <tr>\n",
       "      <th>26</th>\n",
       "      <td>bait_run_3_block_3</td>\n",
       "      <td>Sn(3)</td>\n",
       "      <td>3</td>\n",
       "      <td>6</td>\n",
       "      <td>-0.544767</td>\n",
       "      <td>-0.546555</td>\n",
       "      <td>0.130397</td>\n",
       "      <td>-0.186888</td>\n",
       "      <td>-0.512390</td>\n",
       "      <td>-0.653918</td>\n",
       "      <td>...</td>\n",
       "      <td>0.247627</td>\n",
       "      <td>0.030478</td>\n",
       "      <td>-0.059471</td>\n",
       "      <td>0.034244</td>\n",
       "      <td>0.433186</td>\n",
       "      <td>0.424107</td>\n",
       "      <td>0.428847</td>\n",
       "      <td>0.169993</td>\n",
       "      <td>0.028412</td>\n",
       "      <td>0.538861</td>\n",
       "    </tr>\n",
       "    <tr>\n",
       "      <th>42</th>\n",
       "      <td>bait_run_5_block_3</td>\n",
       "      <td>Sn(5)</td>\n",
       "      <td>1</td>\n",
       "      <td>7</td>\n",
       "      <td>1.601391</td>\n",
       "      <td>1.454119</td>\n",
       "      <td>0.164765</td>\n",
       "      <td>1.149916</td>\n",
       "      <td>1.918923</td>\n",
       "      <td>2.160033</td>\n",
       "      <td>...</td>\n",
       "      <td>0.924717</td>\n",
       "      <td>0.367479</td>\n",
       "      <td>-0.193542</td>\n",
       "      <td>-0.727334</td>\n",
       "      <td>0.534156</td>\n",
       "      <td>1.152215</td>\n",
       "      <td>0.457979</td>\n",
       "      <td>0.101021</td>\n",
       "      <td>-0.242947</td>\n",
       "      <td>1.891566</td>\n",
       "    </tr>\n",
       "    <tr>\n",
       "      <th>43</th>\n",
       "      <td>bait_run_5_block_3</td>\n",
       "      <td>Sn(5)</td>\n",
       "      <td>2</td>\n",
       "      <td>8</td>\n",
       "      <td>0.366005</td>\n",
       "      <td>0.303563</td>\n",
       "      <td>-0.093082</td>\n",
       "      <td>0.477324</td>\n",
       "      <td>0.817497</td>\n",
       "      <td>0.823092</td>\n",
       "      <td>...</td>\n",
       "      <td>0.506010</td>\n",
       "      <td>0.198096</td>\n",
       "      <td>-0.087675</td>\n",
       "      <td>-0.342860</td>\n",
       "      <td>-0.575285</td>\n",
       "      <td>0.363717</td>\n",
       "      <td>0.349846</td>\n",
       "      <td>0.180999</td>\n",
       "      <td>0.005048</td>\n",
       "      <td>0.715211</td>\n",
       "    </tr>\n",
       "    <tr>\n",
       "      <th>44</th>\n",
       "      <td>bait_run_5_block_3</td>\n",
       "      <td>Sn(5)</td>\n",
       "      <td>3</td>\n",
       "      <td>9</td>\n",
       "      <td>-0.652914</td>\n",
       "      <td>-0.811983</td>\n",
       "      <td>-0.512160</td>\n",
       "      <td>-0.161988</td>\n",
       "      <td>-0.017548</td>\n",
       "      <td>-0.132819</td>\n",
       "      <td>...</td>\n",
       "      <td>0.065125</td>\n",
       "      <td>-0.106048</td>\n",
       "      <td>-0.233297</td>\n",
       "      <td>-0.295426</td>\n",
       "      <td>0.840334</td>\n",
       "      <td>1.118382</td>\n",
       "      <td>-0.175487</td>\n",
       "      <td>-0.220223</td>\n",
       "      <td>-0.234851</td>\n",
       "      <td>1.281176</td>\n",
       "    </tr>\n",
       "    <tr>\n",
       "      <th>9</th>\n",
       "      <td>chase_run_2_block_1</td>\n",
       "      <td>Sn(2)</td>\n",
       "      <td>1</td>\n",
       "      <td>1</td>\n",
       "      <td>-2.610836</td>\n",
       "      <td>-2.665869</td>\n",
       "      <td>-1.141243</td>\n",
       "      <td>-1.443048</td>\n",
       "      <td>-1.828910</td>\n",
       "      <td>-2.079875</td>\n",
       "      <td>...</td>\n",
       "      <td>0.337802</td>\n",
       "      <td>0.601614</td>\n",
       "      <td>0.911095</td>\n",
       "      <td>1.057064</td>\n",
       "      <td>0.139441</td>\n",
       "      <td>0.236523</td>\n",
       "      <td>0.562122</td>\n",
       "      <td>0.751068</td>\n",
       "      <td>0.979859</td>\n",
       "      <td>0.562228</td>\n",
       "    </tr>\n",
       "  </tbody>\n",
       "</table>\n",
       "<p>10 rows × 220079 columns</p>\n",
       "</div>"
      ],
      "text/plain": [
       "                   game session instance  level         0         1         2  \\\n",
       "6    bait_run_1_block_3   Sn(1)        1      1 -4.078312 -4.000875 -1.956279   \n",
       "7    bait_run_1_block_3   Sn(1)        2      2 -3.392328 -3.240817 -1.761241   \n",
       "8    bait_run_1_block_3   Sn(1)        3      3 -0.431101 -0.289687 -0.497847   \n",
       "24   bait_run_3_block_3   Sn(3)        1      4 -1.648642 -1.194657 -1.575249   \n",
       "25   bait_run_3_block_3   Sn(3)        2      5 -0.035355  0.374801  0.377494   \n",
       "26   bait_run_3_block_3   Sn(3)        3      6 -0.544767 -0.546555  0.130397   \n",
       "42   bait_run_5_block_3   Sn(5)        1      7  1.601391  1.454119  0.164765   \n",
       "43   bait_run_5_block_3   Sn(5)        2      8  0.366005  0.303563 -0.093082   \n",
       "44   bait_run_5_block_3   Sn(5)        3      9 -0.652914 -0.811983 -0.512160   \n",
       "9   chase_run_2_block_1   Sn(2)        1      1 -2.610836 -2.665869 -1.141243   \n",
       "\n",
       "           3         4         5  ...    220065    220066    220067    220068  \\\n",
       "6  -2.730596 -3.409707 -3.778748  ...  0.262834 -0.203534 -0.644644 -0.920552   \n",
       "7  -2.410842 -2.916747 -3.145504  ...  0.252098  0.056709 -0.109983 -0.234372   \n",
       "8  -0.600400 -0.457012 -0.174014  ... -0.441080 -0.523962 -0.495710 -0.423318   \n",
       "24 -1.517209 -1.379423 -1.037922  ... -0.147432 -0.409104 -0.501229 -0.445755   \n",
       "25 -0.029966 -0.318555 -0.206694  ...  0.223492  0.007802 -0.009043  0.161127   \n",
       "26 -0.186888 -0.512390 -0.653918  ...  0.247627  0.030478 -0.059471  0.034244   \n",
       "42  1.149916  1.918923  2.160033  ...  0.924717  0.367479 -0.193542 -0.727334   \n",
       "43  0.477324  0.817497  0.823092  ...  0.506010  0.198096 -0.087675 -0.342860   \n",
       "44 -0.161988 -0.017548 -0.132819  ...  0.065125 -0.106048 -0.233297 -0.295426   \n",
       "9  -1.443048 -1.828910 -2.079875  ...  0.337802  0.601614  0.911095  1.057064   \n",
       "\n",
       "      220069    220070    220071    220072    220073    220074  \n",
       "6   1.217692  0.997218  0.452487  0.077725 -0.249757  1.150459  \n",
       "7   0.050432  0.028958  0.645768  0.440287  0.249902  0.420930  \n",
       "8  -0.336802 -0.219711  0.158012  0.047596  0.026951 -0.169689  \n",
       "24 -1.084002 -0.809134  0.000113 -0.086182 -0.102712 -0.760211  \n",
       "25 -0.363223 -0.031964  0.449439  0.326025  0.316556 -0.073289  \n",
       "26  0.433186  0.424107  0.428847  0.169993  0.028412  0.538861  \n",
       "42  0.534156  1.152215  0.457979  0.101021 -0.242947  1.891566  \n",
       "43 -0.575285  0.363717  0.349846  0.180999  0.005048  0.715211  \n",
       "44  0.840334  1.118382 -0.175487 -0.220223 -0.234851  1.281176  \n",
       "9   0.139441  0.236523  0.562122  0.751068  0.979859  0.562228  \n",
       "\n",
       "[10 rows x 220079 columns]"
      ]
     },
     "execution_count": 7,
     "metadata": {},
     "output_type": "execute_result"
    }
   ],
   "source": [
    "ordered_dfs_levels[2].head(10) # check order"
   ]
  },
  {
   "cell_type": "code",
   "execution_count": 13,
   "metadata": {},
   "outputs": [
    {
     "data": {
      "text/plain": [
       "(8, 54, 220075)"
      ]
     },
     "execution_count": 13,
     "metadata": {},
     "output_type": "execute_result"
    }
   ],
   "source": [
    "ISC_arr_levels.shape"
   ]
  },
  {
   "cell_type": "code",
   "execution_count": 14,
   "metadata": {},
   "outputs": [
    {
     "data": {
      "text/plain": [
       "(54, 220075, 8)"
      ]
     },
     "execution_count": 14,
     "metadata": {},
     "output_type": "execute_result"
    }
   ],
   "source": [
    "# get datat in the right shape to perform ISC with brainiak\n",
    "# swap those axes!\n",
    "levels_ISC = np.swapaxes(ISC_arr_levels, 0, 1) # need to get [TRs, voxels, subjects]\n",
    "levels_ISC = np.swapaxes(levels_ISC, 1, 2)\n",
    "\n",
    "levels_ISC.shape "
   ]
  },
  {
   "cell_type": "code",
   "execution_count": 15,
   "metadata": {},
   "outputs": [],
   "source": [
    "# HERE\n",
    "path = '/Users/Daphne/Desktop/VGDL-fMRI-Python-Data-Analysis/Multivariate_analyses/'\n",
    "\n",
    "arr = levels_ISC\n",
    "\n",
    "np.save(path+'bold_data_levels', arr)"
   ]
  },
  {
   "cell_type": "markdown",
   "metadata": {},
   "source": [
    "# 4. Boxcars (10 s)\n",
    "\n",
    "for the Boxcars we take the `glm24` files\n",
    "\n",
    "```Python\n",
    "filename = 'beta_series_glm24_subj*_smooth.mat'\n",
    "```\n",
    "\n",
    "<font color=red>TODO: Boxcar data files are corrupted???</font> "
   ]
  },
  {
   "cell_type": "markdown",
   "metadata": {},
   "source": [
    "## 4.1 Load in smooth boxcar data"
   ]
  },
  {
   "cell_type": "code",
   "execution_count": 8,
   "metadata": {},
   "outputs": [
    {
     "name": "stdout",
     "output_type": "stream",
     "text": [
      "Get data for subject 1\n",
      "Get data for subject 2\n",
      "Get data for subject 3\n",
      "Skipping sub 4, because is corrupted\n"
     ]
    },
    {
     "ename": "OSError",
     "evalue": "Unable to open file (file signature not found)",
     "output_type": "error",
     "traceback": [
      "\u001b[0;31m---------------------------------------------------------------------------\u001b[0m",
      "\u001b[0;31mOSError\u001b[0m                                   Traceback (most recent call last)",
      "\u001b[0;32m<ipython-input-8-1cadc2d7f616>\u001b[0m in \u001b[0;36m<module>\u001b[0;34m\u001b[0m\n\u001b[1;32m     18\u001b[0m \u001b[0;34m\u001b[0m\u001b[0m\n\u001b[1;32m     19\u001b[0m     \u001b[0;32melse\u001b[0m\u001b[0;34m:\u001b[0m\u001b[0;34m\u001b[0m\u001b[0;34m\u001b[0m\u001b[0m\n\u001b[0;32m---> 20\u001b[0;31m         \u001b[0msubject\u001b[0m \u001b[0;34m=\u001b[0m \u001b[0mh5py\u001b[0m\u001b[0;34m.\u001b[0m\u001b[0mFile\u001b[0m\u001b[0;34m(\u001b[0m\u001b[0mdata_dir\u001b[0m\u001b[0;34m+\u001b[0m\u001b[0mfilename\u001b[0m\u001b[0;34m,\u001b[0m\u001b[0;34m'r'\u001b[0m\u001b[0;34m)\u001b[0m\u001b[0;34m\u001b[0m\u001b[0;34m\u001b[0m\u001b[0m\n\u001b[0m\u001b[1;32m     21\u001b[0m \u001b[0;34m\u001b[0m\u001b[0m\n\u001b[1;32m     22\u001b[0m         \u001b[0;31m#print(list(subject.keys()))\u001b[0m\u001b[0;34m\u001b[0m\u001b[0;34m\u001b[0m\u001b[0;34m\u001b[0m\u001b[0m\n",
      "\u001b[0;32m~/opt/anaconda3/envs/brainiakEnv/lib/python3.7/site-packages/h5py/_hl/files.py\u001b[0m in \u001b[0;36m__init__\u001b[0;34m(self, name, mode, driver, libver, userblock_size, swmr, rdcc_nslots, rdcc_nbytes, rdcc_w0, track_order, **kwds)\u001b[0m\n\u001b[1;32m    406\u001b[0m                 fid = make_fid(name, mode, userblock_size,\n\u001b[1;32m    407\u001b[0m                                \u001b[0mfapl\u001b[0m\u001b[0;34m,\u001b[0m \u001b[0mfcpl\u001b[0m\u001b[0;34m=\u001b[0m\u001b[0mmake_fcpl\u001b[0m\u001b[0;34m(\u001b[0m\u001b[0mtrack_order\u001b[0m\u001b[0;34m=\u001b[0m\u001b[0mtrack_order\u001b[0m\u001b[0;34m)\u001b[0m\u001b[0;34m,\u001b[0m\u001b[0;34m\u001b[0m\u001b[0;34m\u001b[0m\u001b[0m\n\u001b[0;32m--> 408\u001b[0;31m                                swmr=swmr)\n\u001b[0m\u001b[1;32m    409\u001b[0m \u001b[0;34m\u001b[0m\u001b[0m\n\u001b[1;32m    410\u001b[0m             \u001b[0;32mif\u001b[0m \u001b[0misinstance\u001b[0m\u001b[0;34m(\u001b[0m\u001b[0mlibver\u001b[0m\u001b[0;34m,\u001b[0m \u001b[0mtuple\u001b[0m\u001b[0;34m)\u001b[0m\u001b[0;34m:\u001b[0m\u001b[0;34m\u001b[0m\u001b[0;34m\u001b[0m\u001b[0m\n",
      "\u001b[0;32m~/opt/anaconda3/envs/brainiakEnv/lib/python3.7/site-packages/h5py/_hl/files.py\u001b[0m in \u001b[0;36mmake_fid\u001b[0;34m(name, mode, userblock_size, fapl, fcpl, swmr)\u001b[0m\n\u001b[1;32m    171\u001b[0m         \u001b[0;32mif\u001b[0m \u001b[0mswmr\u001b[0m \u001b[0;32mand\u001b[0m \u001b[0mswmr_support\u001b[0m\u001b[0;34m:\u001b[0m\u001b[0;34m\u001b[0m\u001b[0;34m\u001b[0m\u001b[0m\n\u001b[1;32m    172\u001b[0m             \u001b[0mflags\u001b[0m \u001b[0;34m|=\u001b[0m \u001b[0mh5f\u001b[0m\u001b[0;34m.\u001b[0m\u001b[0mACC_SWMR_READ\u001b[0m\u001b[0;34m\u001b[0m\u001b[0;34m\u001b[0m\u001b[0m\n\u001b[0;32m--> 173\u001b[0;31m         \u001b[0mfid\u001b[0m \u001b[0;34m=\u001b[0m \u001b[0mh5f\u001b[0m\u001b[0;34m.\u001b[0m\u001b[0mopen\u001b[0m\u001b[0;34m(\u001b[0m\u001b[0mname\u001b[0m\u001b[0;34m,\u001b[0m \u001b[0mflags\u001b[0m\u001b[0;34m,\u001b[0m \u001b[0mfapl\u001b[0m\u001b[0;34m=\u001b[0m\u001b[0mfapl\u001b[0m\u001b[0;34m)\u001b[0m\u001b[0;34m\u001b[0m\u001b[0;34m\u001b[0m\u001b[0m\n\u001b[0m\u001b[1;32m    174\u001b[0m     \u001b[0;32melif\u001b[0m \u001b[0mmode\u001b[0m \u001b[0;34m==\u001b[0m \u001b[0;34m'r+'\u001b[0m\u001b[0;34m:\u001b[0m\u001b[0;34m\u001b[0m\u001b[0;34m\u001b[0m\u001b[0m\n\u001b[1;32m    175\u001b[0m         \u001b[0mfid\u001b[0m \u001b[0;34m=\u001b[0m \u001b[0mh5f\u001b[0m\u001b[0;34m.\u001b[0m\u001b[0mopen\u001b[0m\u001b[0;34m(\u001b[0m\u001b[0mname\u001b[0m\u001b[0;34m,\u001b[0m \u001b[0mh5f\u001b[0m\u001b[0;34m.\u001b[0m\u001b[0mACC_RDWR\u001b[0m\u001b[0;34m,\u001b[0m \u001b[0mfapl\u001b[0m\u001b[0;34m=\u001b[0m\u001b[0mfapl\u001b[0m\u001b[0;34m)\u001b[0m\u001b[0;34m\u001b[0m\u001b[0;34m\u001b[0m\u001b[0m\n",
      "\u001b[0;32mh5py/_objects.pyx\u001b[0m in \u001b[0;36mh5py._objects.with_phil.wrapper\u001b[0;34m()\u001b[0m\n",
      "\u001b[0;32mh5py/_objects.pyx\u001b[0m in \u001b[0;36mh5py._objects.with_phil.wrapper\u001b[0;34m()\u001b[0m\n",
      "\u001b[0;32mh5py/h5f.pyx\u001b[0m in \u001b[0;36mh5py.h5f.open\u001b[0;34m()\u001b[0m\n",
      "\u001b[0;31mOSError\u001b[0m: Unable to open file (file signature not found)"
     ]
    }
   ],
   "source": [
    "num_subjects = 8\n",
    "\n",
    "B_data_boxcars = []\n",
    "mask_data_boxcars = []\n",
    "Vmask_data_boxcars = []\n",
    "names_data_boxcars = []\n",
    "\n",
    "for i in range(num_subjects):\n",
    "    idx = i+1\n",
    "    \n",
    "    # change filename to subject #\n",
    "    data_dir = '/Users/Daphne/Desktop/beta_series_smooth/'\n",
    "    filename = 'beta_series_glm24_subjk_smooth.mat'\n",
    "    filename = filename.replace('k', str(idx))\n",
    "    \n",
    "    if idx==4:\n",
    "        print('Skipping sub 4, because is corrupted')\n",
    "    \n",
    "    else:\n",
    "        subject = h5py.File(data_dir+filename,'r') \n",
    "\n",
    "        #print(list(subject.keys()))\n",
    "        print(f'Get data for subject {idx}')\n",
    "        # load and save data for respective subject\n",
    "        B = subject['B'].value\n",
    "        mask = subject['mask'].value\n",
    "        Vmask = subject['Vmask']\n",
    "\n",
    "        # === decode level names ===\n",
    "        names = decode_variable(data_dir+filename, 'names')\n",
    "\n",
    "        # append to lists\n",
    "        B_data_boxcars.append(B)\n",
    "        mask_data_boxcars.append(mask)\n",
    "        Vmask_data_boxcars.append(Vmask)\n",
    "        names_data_boxcars.append(names)"
   ]
  },
  {
   "cell_type": "code",
   "execution_count": 5,
   "metadata": {},
   "outputs": [
    {
     "data": {
      "text/plain": [
       "True"
      ]
     },
     "execution_count": 5,
     "metadata": {},
     "output_type": "execute_result"
    }
   ],
   "source": [
    "os.path.isfile('/Users/Daphne/Desktop/beta_series_smooth/beta_series_glm24_subj4_smooth.mat')"
   ]
  },
  {
   "cell_type": "code",
   "execution_count": null,
   "metadata": {},
   "outputs": [],
   "source": [
    "print(names_data_blocks[0][0:10])"
   ]
  },
  {
   "cell_type": "code",
   "execution_count": null,
   "metadata": {},
   "outputs": [],
   "source": []
  },
  {
   "cell_type": "code",
   "execution_count": null,
   "metadata": {},
   "outputs": [],
   "source": []
  },
  {
   "cell_type": "code",
   "execution_count": null,
   "metadata": {},
   "outputs": [],
   "source": []
  },
  {
   "cell_type": "markdown",
   "metadata": {},
   "source": [
    "# Quicklinks & Resources\n",
    "    \n",
    "- [Brainiak ISC documentation](https://brainiak.org/docs/brainiak.html#module-brainiak.isc)\n",
    "- [Brainiak specific examples](https://github.com/brainiak/brainiak/tree/master/examples)"
   ]
  }
 ],
 "metadata": {
  "kernelspec": {
   "display_name": "brainiakEnv",
   "language": "python",
   "name": "brainiakenv"
  },
  "language_info": {
   "codemirror_mode": {
    "name": "ipython",
    "version": 3
   },
   "file_extension": ".py",
   "mimetype": "text/x-python",
   "name": "python",
   "nbconvert_exporter": "python",
   "pygments_lexer": "ipython3",
   "version": "3.7.7"
  }
 },
 "nbformat": 4,
 "nbformat_minor": 2
}
